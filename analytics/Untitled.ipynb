{
 "cells": [
  {
   "cell_type": "code",
   "execution_count": 2,
   "id": "e0ad6749-765e-4057-9daf-495a3d241853",
   "metadata": {},
   "outputs": [
    {
     "name": "stdout",
     "output_type": "stream",
     "text": [
      "2025-09-23 08:41:02,962 SequenceTagger predicts: Dictionary with 19 tags: O, S-LOC, B-LOC, E-LOC, I-LOC, S-PER, B-PER, E-PER, I-PER, S-MISC, B-MISC, E-MISC, I-MISC, S-ORG, B-ORG, E-ORG, I-ORG, <START>, <STOP>\n",
      "Sentence[24]: \"M. et Mme. JOUBERT Alain et Vivianne déclarent être propriétaire du logement enquêté et que ce dernier n'est pas vacant car loué.\" → [\"Mme\"/PER, \"JOUBERT Alain\"/PER, \"Vivianne\"/PER]\n",
      "The following NER tags are found:\n",
      "Span[2:3]: \"Mme\" → PER (0.6625)\n",
      "Span[4:6]: \"JOUBERT Alain\" → PER (0.6730)\n",
      "Span[7:8]: \"Vivianne\" → PER (0.9510)\n"
     ]
    }
   ],
   "source": [
    "from flair.data import Sentence\n",
    "from flair.models import SequenceTagger\n",
    "\n",
    "# load tagger\n",
    "tagger = SequenceTagger.load(\"flair/ner-french\")"
   ]
  },
  {
   "cell_type": "code",
   "execution_count": null,
   "id": "4198be04-fd88-4a11-b3df-4b969bedb0c3",
   "metadata": {},
   "outputs": [],
   "source": [
    "# make example sentence\n",
    "sentence = Sentence(\"M. et Mme. JOUBERT Alain et Vivianne déclarent être propriétaire du logement enquêté et que ce dernier n'est pas vacant car loué.\")\n",
    "\n",
    "# predict NER tags\n",
    "tagger.predict(sentence)\n",
    "\n",
    "# print sentence\n",
    "print(sentence)\n",
    "\n",
    "# print predicted NER spans\n",
    "print('The following NER tags are found:')\n",
    "# iterate over entities and print\n",
    "for entity in sentence.get_spans('ner'):\n",
    "    print(entity)"
   ]
  },
  {
   "cell_type": "code",
   "execution_count": 3,
   "id": "92a698fc-a98f-4e9a-867e-757ce0534aed",
   "metadata": {},
   "outputs": [],
   "source": [
    "path = '/Users/raphaelcourivaud/dev/zlv/export.tsv'"
   ]
  },
  {
   "cell_type": "code",
   "execution_count": 4,
   "id": "a1bfb6e2-4cf5-44f5-8429-e212d8398ada",
   "metadata": {},
   "outputs": [],
   "source": [
    "import pandas as pd"
   ]
  },
  {
   "cell_type": "code",
   "execution_count": 6,
   "id": "3442b433-7627-4925-8588-723cdeab96ff",
   "metadata": {},
   "outputs": [],
   "source": [
    "df = pd.read_csv(path, sep='\\t')"
   ]
  },
  {
   "cell_type": "code",
   "execution_count": 18,
   "id": "a6122766-9bde-48c6-8a21-3a4c2b4fe47c",
   "metadata": {},
   "outputs": [
    {
     "name": "stdout",
     "output_type": "stream",
     "text": [
      "Sentence[19]: \"Mme. OLLIVIER Patricia déclare être propriétaire du logement enquêté et que celui-ci n'est pas vacant car loué.\" → [\"Mme\"/PER, \"OLLIVIER Patricia\"/PER]\n",
      "Span[0:1]: \"Mme\" → PER (0.4865)\n",
      "Span[2:4]: \"OLLIVIER Patricia\" → PER (0.8556)\n"
     ]
    }
   ],
   "source": [
    "sentence = Sentence(df.iloc[10][\"Notes__content\"])\n",
    "tagger.predict(sentence)\n",
    "print(sentence)\n",
    "for entity in sentence.get_spans('ner'):\n",
    "    print(entity)"
   ]
  },
  {
   "cell_type": "code",
   "execution_count": 30,
   "id": "43848fe7-49d1-4174-8a8c-d9f3e11398a3",
   "metadata": {},
   "outputs": [
    {
     "data": {
      "text/plain": [
       "'PER'"
      ]
     },
     "execution_count": 30,
     "metadata": {},
     "output_type": "execute_result"
    }
   ],
   "source": [
    "a = sentence.get_spans()[0]\n"
   ]
  },
  {
   "cell_type": "code",
   "execution_count": 14,
   "id": "950fe2c1-9100-4de9-b0b5-05c4d790809e",
   "metadata": {},
   "outputs": [],
   "source": [
    "import faker"
   ]
  },
  {
   "cell_type": "code",
   "execution_count": 15,
   "id": "6ee54ecd-0f33-45ff-9bb6-d49cd644abdf",
   "metadata": {},
   "outputs": [],
   "source": [
    "fake = faker.Faker(\"fr_FR\")"
   ]
  },
  {
   "cell_type": "code",
   "execution_count": 16,
   "id": "f0a36869-f57c-471b-a547-b325f5e4be65",
   "metadata": {},
   "outputs": [
    {
     "data": {
      "text/plain": [
       "'Jeanne Thibault-Benoit'"
      ]
     },
     "execution_count": 16,
     "metadata": {},
     "output_type": "execute_result"
    }
   ],
   "source": [
    "fake.name()"
   ]
  },
  {
   "cell_type": "code",
   "execution_count": 58,
   "id": "f2bba77d-63e5-439c-be65-e1a3381a40df",
   "metadata": {},
   "outputs": [],
   "source": [
    "def _clean_preprocess(x: str):\n",
    "    return x.replace(\"M.\", \"\").replace(\"Mme.\", \"\").replace(\"M \", \"\").replace(\"Mme \", \"\").strip()"
   ]
  },
  {
   "cell_type": "code",
   "execution_count": 109,
   "id": "996acd3a-0303-4b40-80fa-7acfd1d3e5df",
   "metadata": {},
   "outputs": [],
   "source": [
    "def _predict_and_replace(x: str):\n",
    "    sentence = Sentence(x)\n",
    "    tagger.predict(sentence)\n",
    "    anonymized_text = x \n",
    "    for span in sentence.get_spans():\n",
    "        end_at = span.end_position\n",
    "        start_at = span.start_position\n",
    "        tag = span.tag\n",
    "        print(span)\n",
    "        if tag == 'PER':\n",
    "            replacement = \"<NOM>\" # fake.name()\n",
    "        elif tag == 'LOC':\n",
    "            replacement = \"<VILLE>\" # fake.city()\n",
    "        elif tag == 'ORG':\n",
    "            replacement = \"<ENTREPRISE>\" # fake.city()\n",
    "        elif tag == 'MISC':\n",
    "            replacement = anonymized_text[start_at:end_at]\n",
    "        else:\n",
    "            continue\n",
    "        anonymized_text = anonymized_text[:start_at] +\" \" +  replacement +\" \" + anonymized_text[end_at:]\n",
    "            \n",
    "    return anonymized_text.strip().replace(\"  \", \" \")"
   ]
  },
  {
   "cell_type": "code",
   "execution_count": 110,
   "id": "23c9ce3e-11a5-4a81-9559-1b9ca87ccfab",
   "metadata": {},
   "outputs": [
    {
     "data": {
      "text/plain": [
       "\"M. et Mme. JOUBERT Alain et Vivianne déclarent être propriétaire du logement enquêté et que ce dernier n'est pas vacant car loué.\""
      ]
     },
     "execution_count": 110,
     "metadata": {},
     "output_type": "execute_result"
    }
   ],
   "source": [
    "df.head()[\"Notes__content\"][0]"
   ]
  },
  {
   "cell_type": "code",
   "execution_count": 111,
   "id": "42313e1b-317f-4915-a3e6-4540b5d41075",
   "metadata": {},
   "outputs": [
    {
     "name": "stdout",
     "output_type": "stream",
     "text": [
      "Span[81:83]: \"Sincères salutations\" → MISC (0.5726)\n",
      "Span[86:88]: \"SCI POMAGA\" → ORG (0.6323)\n",
      "Span[88:90]: \"Charles MORDEL\" → PER (0.5308)\n",
      "Courrier entrant : \" Suite à votre courrier du 18 août, veuillez trouver ci-joint le formulaire dûment rempli.\n",
      "Cependant, au dire de votre courrier, ce logement a été déclaré comme inoccupé depuis 2 ans au 1er janvier 2022.\n",
      "Ce logement ayant été loué depuis son acquisition en 2013 jusqu’à ce jour sans discontinuité et sachant que nous avons fait toutes les déclarations relatives à ce logement, nous aimerions savoir qui vous a indiqué ces renseignements\n",
      "Sincères salutations.\n",
      "Pour la SCI POMAGA\n",
      "Charles MORDEL\"\n",
      " \n",
      "\n",
      " ========= \n",
      "\n",
      "Courrier entrant : \" Suite à votre courrier du 18 août, veuillez trouver ci-joint le formulaire dûment rempli.\n",
      "Cependant, au dire de votre courrier, ce logement a été déclaré comme inoccupé depuis 2 ans au 1er janvier 2022.\n",
      "Ce logement ayant été loué depuis son acquisition en 2013 jusqu’à ce jour sans discontinuité et sachant que nous avons fait toutes les déclarations relatives à ce logement, nous aimerions savoir qui vous a indiqué ces renseignements\n",
      " Sincères salutations .\n",
      "Pour l ENTREPRISE NOM RDEL\"\n"
     ]
    }
   ],
   "source": [
    "content = df.iloc[896][\"Notes__content\"]\n",
    "filtered_content = _clean_preprocess(content)\n",
    "result = _predict_and_replace(filtered_content)\n",
    "print(f\"{content} \\n\\n ========= \\n\\n{result}\")"
   ]
  },
  {
   "cell_type": "code",
   "execution_count": null,
   "id": "f1ce311f-7fcc-4b7b-9e75-4f326541de1a",
   "metadata": {},
   "outputs": [],
   "source": []
  }
 ],
 "metadata": {
  "kernelspec": {
   "display_name": "Python 3 (ipykernel)",
   "language": "python",
   "name": "python3"
  },
  "language_info": {
   "codemirror_mode": {
    "name": "ipython",
    "version": 3
   },
   "file_extension": ".py",
   "mimetype": "text/x-python",
   "name": "python",
   "nbconvert_exporter": "python",
   "pygments_lexer": "ipython3",
   "version": "3.11.11"
  }
 },
 "nbformat": 4,
 "nbformat_minor": 5
}
