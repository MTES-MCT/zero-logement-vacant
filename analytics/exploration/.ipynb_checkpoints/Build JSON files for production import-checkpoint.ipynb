{
 "cells": [
  {
   "cell_type": "code",
   "execution_count": 1,
   "id": "34d82ba9",
   "metadata": {},
   "outputs": [],
   "source": [
    "import duckdb\n",
    "from tqdm.auto import tqdm "
   ]
  },
  {
   "cell_type": "code",
   "execution_count": 2,
   "id": "3f3cad01",
   "metadata": {},
   "outputs": [],
   "source": [
    "connection = duckdb.connect(database=\"../dbt/database_name.duckdb\")"
   ]
  },
  {
   "cell_type": "code",
   "execution_count": 3,
   "id": "fa6f8849",
   "metadata": {},
   "outputs": [],
   "source": [
    "datasets = [\"housing\",\n",
    "\"owners\",\n",
    "\"owners_housing\", \"buildings\"]"
   ]
  },
  {
   "cell_type": "code",
   "execution_count": 5,
   "id": "ff02da0e",
   "metadata": {},
   "outputs": [],
   "source": [
    "from datetime import datetime "
   ]
  },
  {
   "cell_type": "code",
   "execution_count": 6,
   "id": "035c4d46",
   "metadata": {},
   "outputs": [],
   "source": [
    "today = datetime.now()"
   ]
  },
  {
   "cell_type": "code",
   "execution_count": 12,
   "id": "50e2d8f5",
   "metadata": {},
   "outputs": [],
   "source": [
    "date = f\"{today.year}{str(today.month).zfill(2)}{str(today.day).zfill(2)}\""
   ]
  },
  {
   "cell_type": "code",
   "execution_count": 13,
   "id": "3ddb39b3",
   "metadata": {},
   "outputs": [
    {
     "data": {
      "text/plain": [
       "'20240809'"
      ]
     },
     "execution_count": 13,
     "metadata": {},
     "output_type": "execute_result"
    }
   ],
   "source": []
  },
  {
   "cell_type": "code",
   "execution_count": 4,
   "id": "bee441a3",
   "metadata": {},
   "outputs": [],
   "source": [
    "#mkdir data"
   ]
  },
  {
   "cell_type": "code",
   "execution_count": 6,
   "id": "64fd346e",
   "metadata": {},
   "outputs": [],
   "source": [
    "#pip install jsonlines"
   ]
  },
  {
   "cell_type": "code",
   "execution_count": 7,
   "id": "b130c8ea",
   "metadata": {},
   "outputs": [],
   "source": [
    "import json"
   ]
  },
  {
   "cell_type": "code",
   "execution_count": 8,
   "id": "370a0a85",
   "metadata": {},
   "outputs": [
    {
     "data": {
      "application/vnd.jupyter.widget-view+json": {
       "model_id": "6076df80e95a4597901673be83107f4f",
       "version_major": 2,
       "version_minor": 0
      },
      "text/plain": [
       "  0%|          | 0/4 [00:00<?, ?it/s]"
      ]
     },
     "metadata": {},
     "output_type": "display_data"
    }
   ],
   "source": [
    "for dataset in tqdm(datasets): \n",
    "    df = connection.sql(f\"SELECT * FROM main_mart.mart_zlovac_production_{dataset}\").df()\n",
    "    if dataset == \"housing\":\n",
    "        df[\"mutation_date\"] = df[\"mutation_date\"].dt.strftime('%Y-%m-%dT%H:%M:%S')\n",
    "\n",
    "    df.to_json(f\"./data/{dataset}.jsonl\", orient=\"records\", lines=True, index=False)\n",
    "    df.to_csv(f\"./data/{dataset}.csv\", index=False)"
   ]
  },
  {
   "cell_type": "code",
   "execution_count": 10,
   "id": "4e2aaa12",
   "metadata": {},
   "outputs": [
    {
     "data": {
      "application/vnd.jupyter.widget-view+json": {
       "model_id": "e1c842fd479c4ebb879342864d512103",
       "version_major": 2,
       "version_minor": 0
      },
      "text/plain": [
       "  0%|          | 0/4 [00:00<?, ?it/s]"
      ]
     },
     "metadata": {},
     "output_type": "display_data"
    },
    {
     "name": "stdout",
     "output_type": "stream",
     "text": [
      "awsc s3 cp ./data/housing.csv s3://zlv-production/production/dump_20240807/\n",
      "awsc s3 cp ./data/housing.jsonl s3://zlv-production/production/dump_20240807/\n",
      "awsc s3 cp ./data/owners.csv s3://zlv-production/production/dump_20240807/\n",
      "awsc s3 cp ./data/owners.jsonl s3://zlv-production/production/dump_20240807/\n",
      "awsc s3 cp ./data/owners_housing.csv s3://zlv-production/production/dump_20240807/\n",
      "awsc s3 cp ./data/owners_housing.jsonl s3://zlv-production/production/dump_20240807/\n",
      "awsc s3 cp ./data/buildings.csv s3://zlv-production/production/dump_20240807/\n",
      "awsc s3 cp ./data/buildings.jsonl s3://zlv-production/production/dump_20240807/\n"
     ]
    }
   ],
   "source": [
    "for dataset in tqdm(datasets): \n",
    "    for file_type in [\"csv\", \"jsonl\"]:\n",
    "        print(f\"awsc s3 cp ./data/{dataset}.{file_type} s3://zlv-production/production/dump_{date}/\")"
   ]
  },
  {
   "cell_type": "code",
   "execution_count": null,
   "id": "064833d6",
   "metadata": {},
   "outputs": [],
   "source": [
    "df = connection.sql(f\"SELECT * FROM lovac_history\").df()"
   ]
  },
  {
   "cell_type": "code",
   "execution_count": null,
   "id": "4cbab0d3",
   "metadata": {},
   "outputs": [],
   "source": [
    "df.columns  = ['ff_idlocal', 'files_years']"
   ]
  },
  {
   "cell_type": "code",
   "execution_count": null,
   "id": "e08cb2d4",
   "metadata": {},
   "outputs": [],
   "source": [
    "df[\"files_years\"] = df[\"files_years\"].str.split(\",\")"
   ]
  },
  {
   "cell_type": "code",
   "execution_count": 15,
   "id": "17547c90",
   "metadata": {},
   "outputs": [],
   "source": [
    "df.to_json(f\"./data/lovac_history.jsonl\",\n",
    "           orient=\"records\",\n",
    "           lines=True,\n",
    "           index=False)\n",
    "df.to_csv(f\"./data/lovac_history.csv\",\n",
    "          index=False)"
   ]
  },
  {
   "cell_type": "code",
   "execution_count": 16,
   "id": "58d02a42",
   "metadata": {},
   "outputs": [
    {
     "name": "stdout",
     "output_type": "stream",
     "text": [
      "awsc s3 cp ./data/lovac_history.jsonl s3://zlv-production/production/dump_20240722/\n",
      "awsc s3 cp ./data/lovac_history.csv s3://zlv-production/production/dump_20240722/\n"
     ]
    }
   ],
   "source": [
    "print(f\"awsc s3 cp ./data/lovac_history.jsonl s3://zlv-production/production/dump_20240722/\")\n",
    "print(f\"awsc s3 cp ./data/lovac_history.csv s3://zlv-production/production/dump_20240722/\")"
   ]
  },
  {
   "cell_type": "code",
   "execution_count": 1,
   "id": "a046834c",
   "metadata": {},
   "outputs": [
    {
     "name": "stdout",
     "output_type": "stream",
     "text": [
      "ff_idlocal,files_years\r\n",
      "692480125491,\"['lovac-2019', 'lovac-2020', 'lovac-2022', 'lovac-2021']\"\r\n",
      "972090231184,['lovac-2019']\r\n",
      "920630465807,\"['lovac-2019', 'lovac-2020', 'lovac-2022', 'lovac-2021']\"\r\n",
      "785510427183,\"['lovac-2019', 'lovac-2020']\"\r\n",
      "542800077586,\"['lovac-2019', 'lovac-2020', 'lovac-2022', 'lovac-2021', 'lovac-2023']\"\r\n",
      "672670071552,\"['lovac-2019', 'lovac-2020', 'lovac-2022', 'lovac-2021', 'lovac-2024', 'lovac-2023']\"\r\n",
      "290190039414,\"['lovac-2019', 'lovac-2020', 'lovac-2022', 'lovac-2021', 'lovac-2024', 'lovac-2023']\"\r\n",
      "644220133293,\"['lovac-2019', 'lovac-2020', 'lovac-2022', 'lovac-2021']\"\r\n",
      "091000019874,\"['lovac-2019', 'lovac-2020', 'lovac-2022', 'lovac-2021', 'lovac-2024', 'lovac-2023']\"\r\n"
     ]
    }
   ],
   "source": [
    "!head ./data/lovac_history.csv"
   ]
  },
  {
   "cell_type": "code",
   "execution_count": 9,
   "id": "3767d65e",
   "metadata": {},
   "outputs": [
    {
     "data": {
      "text/plain": [
       "0    1.0\n",
       "1    2.0\n",
       "2    3.0\n",
       "3    2.0\n",
       "4    3.0\n",
       "5    1.0\n",
       "6    1.0\n",
       "7    2.0\n",
       "8    3.0\n",
       "Name: score, dtype: float64"
      ]
     },
     "execution_count": 9,
     "metadata": {},
     "output_type": "execute_result"
    }
   ],
   "source": [
    "import pandas as pd\n",
    "pd.DataFrame({\n",
    "    \"id\":[\"a\", \"a\", \"a\", \"b\", \"b\", \"b\", \"c\", \"c\", \"c\"], \n",
    "    \"score\":[3, 1, 1, 4, 3, 5, 1, 1, 1]\n",
    "}).groupby(\"id\")[\"score\"].rank(ascending=False, method=\"first\")"
   ]
  },
  {
   "cell_type": "code",
   "execution_count": null,
   "id": "04115fad",
   "metadata": {},
   "outputs": [],
   "source": []
  }
 ],
 "metadata": {
  "kernelspec": {
   "display_name": "Python 3 (ipykernel)",
   "language": "python",
   "name": "python3"
  },
  "language_info": {
   "codemirror_mode": {
    "name": "ipython",
    "version": 3
   },
   "file_extension": ".py",
   "mimetype": "text/x-python",
   "name": "python",
   "nbconvert_exporter": "python",
   "pygments_lexer": "ipython3",
   "version": "3.10.9"
  }
 },
 "nbformat": 4,
 "nbformat_minor": 5
}
