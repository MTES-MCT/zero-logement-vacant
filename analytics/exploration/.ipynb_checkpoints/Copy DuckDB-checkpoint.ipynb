{
 "cells": [
  {
   "cell_type": "code",
   "execution_count": 1,
   "id": "dc037813",
   "metadata": {},
   "outputs": [],
   "source": [
    "import duckdb\n",
    "from tqdm.auto import tqdm \n",
    "\n",
    "connection_source = duckdb.connect(database=\"../dbt/database_name.duckdb\", read_only = True)\n",
    "connection_destination = duckdb.connect(database=\"../dbt/metabase.duckdb\")"
   ]
  },
  {
   "cell_type": "code",
   "execution_count": 2,
   "id": "602308c0",
   "metadata": {},
   "outputs": [],
   "source": [
    "# Schéma source et destination\n",
    "source_schema = \"main_mart\"\n",
    "destination_schema = \"main\"\n"
   ]
  },
  {
   "cell_type": "code",
   "execution_count": 3,
   "id": "fa6f8849",
   "metadata": {},
   "outputs": [],
   "source": [
    "tables = [\"marts_stats_monthly_global\",\"marts_production_housing\"],\n",
    "tables = [\"marts_production_establishments\"]"
   ]
  },
  {
   "cell_type": "code",
   "execution_count": 4,
   "id": "370a0a85",
   "metadata": {},
   "outputs": [
    {
     "data": {
      "application/vnd.jupyter.widget-view+json": {
       "model_id": "b2da18ddbee343939c9914dd5a56b054",
       "version_major": 2,
       "version_minor": 0
      },
      "text/plain": [
       "Transfert des tables:   0%|          | 0/2 [00:00<?, ?it/s]"
      ]
     },
     "metadata": {},
     "output_type": "display_data"
    },
    {
     "data": {
      "application/vnd.jupyter.widget-view+json": {
       "model_id": "5e6611d2e9794c05aa4367610d7571da",
       "version_major": 2,
       "version_minor": 0
      },
      "text/plain": [
       "FloatProgress(value=0.0, layout=Layout(width='auto'), style=ProgressStyle(bar_color='black'))"
      ]
     },
     "metadata": {},
     "output_type": "display_data"
    },
    {
     "data": {
      "application/vnd.jupyter.widget-view+json": {
       "model_id": "94b3e0ea1f9a40f3a7f8928f2c763004",
       "version_major": 2,
       "version_minor": 0
      },
      "text/plain": [
       "FloatProgress(value=0.0, layout=Layout(width='auto'), style=ProgressStyle(bar_color='black'))"
      ]
     },
     "metadata": {},
     "output_type": "display_data"
    }
   ],
   "source": [
    "\n",
    "# Boucle sur chaque table pour transférer les données\n",
    "for table in tqdm(tables, desc=\"Transfert des tables\"):\n",
    "    # Lecture des données de la table source\n",
    "    query_read = f'SELECT * FROM {source_schema}.{table}'\n",
    "    df = connection_source.execute(query_read).fetchdf()\n",
    "\n",
    "    # Ecriture des données dans la table de destination\n",
    "    query_write = f'CREATE OR REPLACE TABLE {destination_schema}.{table} AS SELECT * FROM df'\n",
    "    connection_destination.execute(query_write)\n",
    "\n",
    "# Fermeture des connexions\n",
    "connection_source.close()\n",
    "connection_destination.close()"
   ]
  },
  {
   "cell_type": "code",
   "execution_count": 11,
   "id": "97f5f152",
   "metadata": {},
   "outputs": [
    {
     "name": "stdout",
     "output_type": "stream",
     "text": [
      "ownership_score,local_id,idpersonne,ownership_score_reason,conflict,owner_birth_date,owner_fullname,owner_postal_code,idprodroit,idprocpte,locprop,rank,geo_code,old_rank\r\n",
      "9,010010000001,01MBPNLT,\"match_fullname, match_postal_code\",False,1970-04-26,MAISSON PATRICK,01240,01001M0017301,01001M00173,2.0,1.0,01001,1\r\n",
      "0,010010000001,01MBPNLS,no_match,True,1972-06-07,DRUGUET CAROLE,01240,01001M0017302,01001M00173,2.0,2.0,01001,2\r\n",
      "10,010010188886,01MBK7CP,\"match_fullname, match_raw_address\",False,1949-10-10,PONTET ROGER GILBERT,01400,01001P0004701,01001P00047,1.0,1.0,01001,1\r\n",
      "10,010010257842,01MBN479,\"match_fullname, match_raw_address\",False,1964-06-20,SORDET PHILIPPE MARCEL,74340,01001S0005101,01001S00051,3.0,1.0,01001,1\r\n",
      "7,010020000248,01MBC2VQ,\"match_same_first_name, match_raw_address\",False,1960-08-30,BORELLI DOMINIQUE LOUISE CLAIRE,01640,01002B0029501,01002B00295,1.0,1.0,01002,1\r\n",
      "9,010020000388,01MB4WGD,\"match_fullname, match_postal_code\",False,1984-12-11,DIAZ CAROLINE,01640,01002D0014201,01002D00142,1.0,1.0,01002,1\r\n",
      "6,010030062072,01MBL977,\"match_same_first_name, match_postal_code\",False,1960-02-17,DE RIVERIEULX DE VARAX MARGUERITE FRANCE MARIE,29750,01165D0014501,01165D00145,4.0,1.0,01165,1\r\n",
      "9,010030062075,01PBDL4C,\"match_fullname, match_postal_code\",False,,SOCIETE CIVILE IMMOBILIERE HENRI BAUDRIER,01090,01165+0010301,01165+00103,1.0,1.0,01165,1\r\n",
      "10,010030062130,01MBKNDD,\"match_fullname, match_raw_address\",False,1944-01-30,CURTY CLAUDE MARIE,01090,01165C0022501,01165C00225,1.0,1.0,01165,1\r\n"
     ]
    }
   ],
   "source": [
    "!head ./data/owners_housing.csv"
   ]
  },
  {
   "cell_type": "code",
   "execution_count": 12,
   "id": "4e2aaa12",
   "metadata": {},
   "outputs": [
    {
     "data": {
      "application/vnd.jupyter.widget-view+json": {
       "model_id": "3c08f35f699b43658081c03ff993644b",
       "version_major": 2,
       "version_minor": 0
      },
      "text/plain": [
       "  0%|          | 0/4 [00:00<?, ?it/s]"
      ]
     },
     "metadata": {},
     "output_type": "display_data"
    },
    {
     "name": "stdout",
     "output_type": "stream",
     "text": [
      "awsc s3 cp ./data/housing.csv s3://zlv-production/production/dump_20240812/\n",
      "awsc s3 cp ./data/housing.jsonl s3://zlv-production/production/dump_20240812/\n",
      "awsc s3 cp ./data/owners.csv s3://zlv-production/production/dump_20240812/\n",
      "awsc s3 cp ./data/owners.jsonl s3://zlv-production/production/dump_20240812/\n",
      "awsc s3 cp ./data/owners_housing.csv s3://zlv-production/production/dump_20240812/\n",
      "awsc s3 cp ./data/owners_housing.jsonl s3://zlv-production/production/dump_20240812/\n",
      "awsc s3 cp ./data/buildings.csv s3://zlv-production/production/dump_20240812/\n",
      "awsc s3 cp ./data/buildings.jsonl s3://zlv-production/production/dump_20240812/\n"
     ]
    }
   ],
   "source": [
    "for dataset in tqdm(datasets): \n",
    "    for file_type in [\"csv\", \"jsonl\"]:\n",
    "        print(f\"awsc s3 cp ./data/{dataset}.{file_type} s3://zlv-production/production/dump_{date}/\")"
   ]
  },
  {
   "cell_type": "code",
   "execution_count": 11,
   "id": "064833d6",
   "metadata": {},
   "outputs": [],
   "source": [
    "df = connection.sql(f\"SELECT * FROM main_mart.mart_lovac_production_history\").df()"
   ]
  },
  {
   "cell_type": "code",
   "execution_count": 12,
   "id": "e08cb2d4",
   "metadata": {},
   "outputs": [],
   "source": [
    "df[\"file_years\"] = df[\"file_years\"].str.split(\",\")"
   ]
  },
  {
   "cell_type": "code",
   "execution_count": 13,
   "id": "17547c90",
   "metadata": {},
   "outputs": [],
   "source": [
    "df.to_json(f\"./data/lovac_history.jsonl\",\n",
    "           orient=\"records\",\n",
    "           lines=True,\n",
    "           index=False)\n",
    "df.to_csv(f\"./data/lovac_history.csv\",\n",
    "          index=False)"
   ]
  },
  {
   "cell_type": "code",
   "execution_count": 14,
   "id": "58d02a42",
   "metadata": {},
   "outputs": [
    {
     "name": "stdout",
     "output_type": "stream",
     "text": [
      "awsc s3 cp ./data/lovac_history.jsonl s3://zlv-production/production/dump_20240811/\n",
      "awsc s3 cp ./data/lovac_history.csv s3://zlv-production/production/dump_20240811/\n"
     ]
    }
   ],
   "source": [
    "print(f\"awsc s3 cp ./data/lovac_history.jsonl s3://zlv-production/production/dump_{date}/\")\n",
    "print(f\"awsc s3 cp ./data/lovac_history.csv s3://zlv-production/production/dump_{date}/\")"
   ]
  },
  {
   "cell_type": "code",
   "execution_count": 32,
   "id": "a046834c",
   "metadata": {},
   "outputs": [
    {
     "name": "stdout",
     "output_type": "stream",
     "text": [
      "local_id,file_years,geo_code\r\n",
      "010010000001,\"['lovac-2024', 'lovac-2019']\",01001\r\n",
      "010010000024,['lovac-2020'],01001\r\n",
      "010010000025,['lovac-2020'],01001\r\n",
      "010010000080,\"['lovac-2022', 'lovac-2023']\",01001\r\n",
      "010010000105,['lovac-2021'],01001\r\n",
      "010010000120,\"['lovac-2019', 'lovac-2020', 'lovac-2021', 'lovac-2022', 'lovac-2023']\",01001\r\n",
      "010010000203,\"['lovac-2019', 'lovac-2020']\",01001\r\n",
      "010010000222,['lovac-2021'],01001\r\n",
      "010010000234,['lovac-2022'],01001\r\n"
     ]
    }
   ],
   "source": [
    "!head ./data/lovac_history.csv"
   ]
  },
  {
   "cell_type": "code",
   "execution_count": 9,
   "id": "3767d65e",
   "metadata": {},
   "outputs": [
    {
     "data": {
      "text/plain": [
       "0    1.0\n",
       "1    2.0\n",
       "2    3.0\n",
       "3    2.0\n",
       "4    3.0\n",
       "5    1.0\n",
       "6    1.0\n",
       "7    2.0\n",
       "8    3.0\n",
       "Name: score, dtype: float64"
      ]
     },
     "execution_count": 9,
     "metadata": {},
     "output_type": "execute_result"
    }
   ],
   "source": [
    "import pandas as pd\n",
    "pd.DataFrame({\n",
    "    \"id\":[\"a\", \"a\", \"a\", \"b\", \"b\", \"b\", \"c\", \"c\", \"c\"], \n",
    "    \"score\":[3, 1, 1, 4, 3, 5, 1, 1, 1]\n",
    "}).groupby(\"id\")[\"score\"].rank(ascending=False, method=\"first\")"
   ]
  },
  {
   "cell_type": "code",
   "execution_count": null,
   "id": "04115fad",
   "metadata": {},
   "outputs": [],
   "source": [
    "awsc s3 cp ./data/housing.csv s3://zlv-production/production/dump_20240809/\n",
    "awsc s3 cp ./data/housing.jsonl s3://zlv-production/production/dump_20240809/\n",
    "awsc s3 cp ./data/owners.csv s3://zlv-production/production/dump_20240809/\n",
    "awsc s3 cp ./data/owners.jsonl s3://zlv-production/production/dump_20240809/\n",
    "awsc s3 cp ./data/owners_housing.csv s3://zlv-production/production/dump_20240809/\n",
    "awsc s3 cp ./data/owners_housing.jsonl s3://zlv-production/production/dump_20240809/\n",
    "awsc s3 cp ./data/buildings.csv s3://zlv-production/production/dump_20240809/\n",
    "awsc s3 cp ./data/buildings.jsonl s3://zlv-production/production/dump_20240809/\n",
    "awsc s3 cp ./data/lovac_history.jsonl s3://zlv-production/production/dump_20240809/\n",
    "awsc s3 cp ./data/lovac_history.csv s3://zlv-production/production/dump_20240809/"
   ]
  }
 ],
 "metadata": {
  "kernelspec": {
   "display_name": "Python 3 (ipykernel)",
   "language": "python",
   "name": "python3"
  },
  "language_info": {
   "codemirror_mode": {
    "name": "ipython",
    "version": 3
   },
   "file_extension": ".py",
   "mimetype": "text/x-python",
   "name": "python",
   "nbconvert_exporter": "python",
   "pygments_lexer": "ipython3",
   "version": "3.10.9"
  }
 },
 "nbformat": 4,
 "nbformat_minor": 5
}
