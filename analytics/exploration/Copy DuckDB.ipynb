{
 "cells": [
  {
   "cell_type": "code",
   "execution_count": 1,
   "id": "8fc36e4a",
   "metadata": {},
   "outputs": [],
   "source": [
    "import duckdb\n",
    "from tqdm.auto import tqdm \n",
    "\n",
    "connection_source = duckdb.connect(database=\"../dbt/database_name.duckdb\", read_only = True)\n",
    "connection_destination = duckdb.connect(database=\"../dbt/metabase.duckdb\")"
   ]
  },
  {
   "cell_type": "code",
   "execution_count": 2,
   "id": "dea8fa6a",
   "metadata": {},
   "outputs": [],
   "source": [
    "# Schéma source et destination\n",
    "source_schema = \"main_marts\"\n",
    "destination_schema = \"main\"\n"
   ]
  },
  {
   "cell_type": "code",
   "execution_count": 3,
   "id": "fa6f8849",
   "metadata": {},
   "outputs": [],
   "source": [
    "public_tables = [\"marts_public_establishments_morphology\", \"marts_public_establishments_morphology_unpivoted\"] \n",
    "\n",
    "analysis_tables = [\"marts_analysis_exit_flow_ff23_lovac\"]\n",
    "\n",
    "common_tables = [\"marts_common_cities\", \"marts_common_morphology\"]\n",
    "\n",
    "production_tables = [\"marts_stats_monthly_global\",\n",
    "          \"marts_production_housing\",\n",
    "          \"marts_production_establishments\",\n",
    "          \"marts_production_owners\",\n",
    "          \"marts_production_groups\",\n",
    "          \"marts_production_users\",\n",
    "          \"marts_production_campaigns\"    \n",
    "]\n",
    "\n",
    "join_tables = [\n",
    "    \"marts_production_join_campaigns_housing\",\n",
    "    \"marts_production_join_establishment_cities\",\n",
    "    \"marts_production_join_housing_groups\",\n",
    "    \"marts_production_join_owner_housing\",\n",
    "    \"marts_production_join_establishment_housing\"\n",
    "]"
   ]
  },
  {
   "cell_type": "code",
   "execution_count": 4,
   "id": "359fc97b",
   "metadata": {},
   "outputs": [],
   "source": [
    "filters = []"
   ]
  },
  {
   "cell_type": "code",
   "execution_count": 5,
   "id": "5d01b748",
   "metadata": {},
   "outputs": [],
   "source": [
    "translation_mapping ={\n",
    "    \"marts_production_join_campaigns_housing\" : \"join_campaigns_housing\",\n",
    "    \"marts_production_join_establishment_cities\": \"join_establishment_cities\",\n",
    "    \"marts_production_join_housing_groups\": \"join_housing_groups\",\n",
    "    \"marts_production_join_owner_housing\": \"join_owner_housing\",\n",
    "    \"marts_production_join_establishment_housing\": \"join_establishment_housing\",\n",
    "    #\"marts_common_cities\": \"infra_municipalities\",\n",
    "    #\"marts_common_morphology\": \"infra_municipalities_morphology\",\n",
    "    #\"marts_production_campaigns\": \"prod_campaigns\",\n",
    "    #\"marts_production_establishments\": \"prod_establishments\",\n",
    "    #\"marts_production_groups\": \"prod_groups\",\n",
    "    #\"marts_production_housing\": \"prod_housing\",\n",
    "    #\"marts_production_owners\": \"prod_owners\",\n",
    "    #\"marts_production_users\": \"prod_users\",\n",
    "    #\"marts_public_establishments_morphology\": \"stats_establishments_morphology_annuals\",\n",
    "    #\"marts_public_establishments_morphology_unpivoted\": \"stats_establishments_morphology_stocks\",\n",
    "    #\"marts_stats_monthly_global\": \"stats_activity_monthly\",\n",
    "}"
   ]
  },
  {
   "cell_type": "code",
   "execution_count": 6,
   "id": "7c8286b5",
   "metadata": {},
   "outputs": [],
   "source": [
    "tables = production_tables + join_tables + common_tables\n",
    "\n",
    "if filters:\n",
    "    tables = filters"
   ]
  },
  {
   "cell_type": "code",
   "execution_count": 7,
   "id": "61745055",
   "metadata": {},
   "outputs": [],
   "source": [
    "import numpy as np"
   ]
  },
  {
   "cell_type": "code",
   "execution_count": 8,
   "id": "370a0a85",
   "metadata": {},
   "outputs": [
    {
     "data": {
      "application/vnd.jupyter.widget-view+json": {
       "model_id": "b7494f5016294218b163fbaebc652b6a",
       "version_major": 2,
       "version_minor": 0
      },
      "text/plain": [
       "Transfert des tables:   0%|          | 0/14 [00:00<?, ?it/s]"
      ]
     },
     "metadata": {},
     "output_type": "display_data"
    },
    {
     "data": {
      "application/vnd.jupyter.widget-view+json": {
       "model_id": "dc7e6e6d3a7849418ea236b8ab9e0bcb",
       "version_major": 2,
       "version_minor": 0
      },
      "text/plain": [
       "FloatProgress(value=0.0, layout=Layout(width='auto'), style=ProgressStyle(bar_color='black'))"
      ]
     },
     "metadata": {},
     "output_type": "display_data"
    },
    {
     "name": "stderr",
     "output_type": "stream",
     "text": [
      "/var/folders/_v/10w6h3595jb25htv66pv5fq80000gn/T/ipykernel_60447/4094902601.py:6: FutureWarning: Downcasting behavior in `replace` is deprecated and will be removed in a future version. To retain the old behavior, explicitly call `result.infer_objects(copy=False)`. To opt-in to the future behavior, set `pd.set_option('future.no_silent_downcasting', True)`\n",
      "  df = df.replace({None: np.nan})\n"
     ]
    },
    {
     "data": {
      "application/vnd.jupyter.widget-view+json": {
       "model_id": "8a00683f5139480bbb296e6c3cb14644",
       "version_major": 2,
       "version_minor": 0
      },
      "text/plain": [
       "FloatProgress(value=0.0, layout=Layout(width='auto'), style=ProgressStyle(bar_color='black'))"
      ]
     },
     "metadata": {},
     "output_type": "display_data"
    },
    {
     "data": {
      "application/vnd.jupyter.widget-view+json": {
       "model_id": "8e2bba14bfd043a6b8b452ea8b4c20db",
       "version_major": 2,
       "version_minor": 0
      },
      "text/plain": [
       "FloatProgress(value=0.0, layout=Layout(width='auto'), style=ProgressStyle(bar_color='black'))"
      ]
     },
     "metadata": {},
     "output_type": "display_data"
    },
    {
     "data": {
      "application/vnd.jupyter.widget-view+json": {
       "model_id": "1fba8d1c1e59448491a10f17ac1b1ff0",
       "version_major": 2,
       "version_minor": 0
      },
      "text/plain": [
       "FloatProgress(value=0.0, layout=Layout(width='auto'), style=ProgressStyle(bar_color='black'))"
      ]
     },
     "metadata": {},
     "output_type": "display_data"
    },
    {
     "data": {
      "application/vnd.jupyter.widget-view+json": {
       "model_id": "9d54675b55ad4c5e80a5dc5e9d8bbcb9",
       "version_major": 2,
       "version_minor": 0
      },
      "text/plain": [
       "FloatProgress(value=0.0, layout=Layout(width='auto'), style=ProgressStyle(bar_color='black'))"
      ]
     },
     "metadata": {},
     "output_type": "display_data"
    },
    {
     "data": {
      "application/vnd.jupyter.widget-view+json": {
       "model_id": "e581a19684c0406db8ee0eff60fed6ef",
       "version_major": 2,
       "version_minor": 0
      },
      "text/plain": [
       "FloatProgress(value=0.0, layout=Layout(width='auto'), style=ProgressStyle(bar_color='black'))"
      ]
     },
     "metadata": {},
     "output_type": "display_data"
    },
    {
     "data": {
      "application/vnd.jupyter.widget-view+json": {
       "model_id": "aafed5ce945142dcb448f21b01f60fc7",
       "version_major": 2,
       "version_minor": 0
      },
      "text/plain": [
       "FloatProgress(value=0.0, layout=Layout(width='auto'), style=ProgressStyle(bar_color='black'))"
      ]
     },
     "metadata": {},
     "output_type": "display_data"
    },
    {
     "data": {
      "application/vnd.jupyter.widget-view+json": {
       "model_id": "0acecc16c00a4a05ab00363cff783579",
       "version_major": 2,
       "version_minor": 0
      },
      "text/plain": [
       "FloatProgress(value=0.0, layout=Layout(width='auto'), style=ProgressStyle(bar_color='black'))"
      ]
     },
     "metadata": {},
     "output_type": "display_data"
    }
   ],
   "source": [
    "# Boucle sur chaque table pour transférer les données\n",
    "for table in tqdm(tables, desc=\"Transfert des tables\"):\n",
    "    # Lecture des données de la table source\n",
    "    query_read = f'SELECT * FROM {source_schema}.{table}'\n",
    "    df = connection_source.execute(query_read).fetchdf()\n",
    "    df = df.replace({None: np.nan})\n",
    "\n",
    "    # Ecriture des données dans la table de destination\n",
    "    destionation_table = translation_mapping.get(table, table)\n",
    "    query_write = f'CREATE OR REPLACE TABLE {destination_schema}.{destionation_table} AS SELECT * FROM df'\n",
    "    connection_destination.execute(query_write)\n",
    "\n",
    "# Fermeture des connexions\n",
    "connection_source.close()\n",
    "connection_destination.close()"
   ]
  },
  {
   "cell_type": "code",
   "execution_count": null,
   "id": "4b74f3fa",
   "metadata": {},
   "outputs": [],
   "source": []
  },
  {
   "cell_type": "code",
   "execution_count": 9,
   "id": "1949f984",
   "metadata": {},
   "outputs": [
    {
     "data": {
      "text/plain": [
       "<duckdb.duckdb.DuckDBPyConnection at 0x106f5f070>"
      ]
     },
     "execution_count": 9,
     "metadata": {},
     "output_type": "execute_result"
    }
   ],
   "source": [
    "# create schema main_tmp\n",
    "# create schema\n",
    "connection_destination.execute(\"CREATE SCHEMA main_tmp\")"
   ]
  },
  {
   "cell_type": "code",
   "execution_count": 10,
   "id": "38dc926b",
   "metadata": {},
   "outputs": [
    {
     "data": {
      "application/vnd.jupyter.widget-view+json": {
       "model_id": "0f374ddc09134f46b09951296eb44a61",
       "version_major": 2,
       "version_minor": 0
      },
      "text/plain": [
       "FloatProgress(value=0.0, layout=Layout(width='auto'), style=ProgressStyle(bar_color='black'))"
      ]
     },
     "metadata": {},
     "output_type": "display_data"
    },
    {
     "data": {
      "application/vnd.jupyter.widget-view+json": {
       "model_id": "f0a33a83472c49a3961d47165ed7cb58",
       "version_major": 2,
       "version_minor": 0
      },
      "text/plain": [
       "FloatProgress(value=0.0, layout=Layout(width='auto'), style=ProgressStyle(bar_color='black'))"
      ]
     },
     "metadata": {},
     "output_type": "display_data"
    },
    {
     "data": {
      "application/vnd.jupyter.widget-view+json": {
       "model_id": "c4a2056558ed4e85ac61423b04381eb8",
       "version_major": 2,
       "version_minor": 0
      },
      "text/plain": [
       "FloatProgress(value=0.0, layout=Layout(width='auto'), style=ProgressStyle(bar_color='black'))"
      ]
     },
     "metadata": {},
     "output_type": "display_data"
    },
    {
     "data": {
      "application/vnd.jupyter.widget-view+json": {
       "model_id": "e849129fdb7041609301bc6b56800b60",
       "version_major": 2,
       "version_minor": 0
      },
      "text/plain": [
       "FloatProgress(value=0.0, layout=Layout(width='auto'), style=ProgressStyle(bar_color='black'))"
      ]
     },
     "metadata": {},
     "output_type": "display_data"
    },
    {
     "name": "stdout",
     "output_type": "stream",
     "text": [
      "Column 'precisions' in table 'marts_production_housing' failed with error: Invalid Input Error: Failed to cast value: Unimplemented type for cast (VARCHAR -> \"NULL\")\n"
     ]
    },
    {
     "data": {
      "application/vnd.jupyter.widget-view+json": {
       "model_id": "47708498b4814d34bed56cd3d2b96061",
       "version_major": 2,
       "version_minor": 0
      },
      "text/plain": [
       "FloatProgress(value=0.0, layout=Layout(width='auto'), style=ProgressStyle(bar_color='black'))"
      ]
     },
     "metadata": {},
     "output_type": "display_data"
    },
    {
     "data": {
      "application/vnd.jupyter.widget-view+json": {
       "model_id": "30fa929de23a486c924eebf2f6bae6c3",
       "version_major": 2,
       "version_minor": 0
      },
      "text/plain": [
       "FloatProgress(value=0.0, layout=Layout(width='auto'), style=ProgressStyle(bar_color='black'))"
      ]
     },
     "metadata": {},
     "output_type": "display_data"
    },
    {
     "data": {
      "application/vnd.jupyter.widget-view+json": {
       "model_id": "c1461000507b48a5af5e377ddc5fca6f",
       "version_major": 2,
       "version_minor": 0
      },
      "text/plain": [
       "FloatProgress(value=0.0, layout=Layout(width='auto'), style=ProgressStyle(bar_color='black'))"
      ]
     },
     "metadata": {},
     "output_type": "display_data"
    },
    {
     "name": "stdout",
     "output_type": "stream",
     "text": [
      "Column 'is_in_action_coeur_de_ville_1_teritory' in table 'marts_production_housing' failed with error: Query interrupted\n"
     ]
    }
   ],
   "source": [
    "# Check each column for potential casting issues\n",
    "for col in df.columns:\n",
    "    try:\n",
    "        # Create a temporary DataFrame for the single column\n",
    "        temp_df = df[[col]]\n",
    "        # Attempt to write the single column to a temp table to identify the problematic column\n",
    "        temp_table = f'temp_{table}_{col}'\n",
    "        query_write = f'CREATE OR REPLACE TABLE {destination_schema}_tmp.{temp_table}_{col} AS SELECT * FROM temp_df'\n",
    "        connection_destination.execute(query_write)\n",
    "        \n",
    "    except Exception as e:\n",
    "        # Log the column causing the issue\n",
    "        print(f\"Column '{col}' in table '{table}' failed with error: {e}\")"
   ]
  },
  {
   "cell_type": "markdown",
   "id": "8a5022d0",
   "metadata": {},
   "source": []
  },
  {
   "cell_type": "code",
   "execution_count": null,
   "id": "bd6d7cbd",
   "metadata": {},
   "outputs": [
    {
     "name": "stderr",
     "output_type": "stream",
     "text": [
      "upload failed: ../dbt/metabase.duckdb to s3://data-warehouse-raw/metabase.duckdb An error occurred (InvalidAccessKeyId) when calling the CreateMultipartUpload operation: The AWS Access Key Id you provided does not exist in our records.\n"
     ]
    },
    {
     "data": {
      "text/plain": [
       "256"
      ]
     },
     "execution_count": 15,
     "metadata": {},
     "output_type": "execute_result"
    }
   ],
   "source": [
    "# run aws cp copy command with os \n",
    "import os \n",
    "\n",
    "os.system(\"aws s3 cp ../dbt/metabase.duckdb s3://data-warehouse-raw/metabase.duckdb\")"
   ]
  },
  {
   "cell_type": "code",
   "execution_count": null,
   "id": "58d02a42",
   "metadata": {},
   "outputs": [
    {
     "ename": "SyntaxError",
     "evalue": "unmatched ')' (3349582143.py, line 1)",
     "output_type": "error",
     "traceback": [
      "\u001b[0;36m  Cell \u001b[0;32mIn[16], line 1\u001b[0;36m\u001b[0m\n\u001b[0;31m    f\"awsc s3 cp ./../dbt/metabase.duckdb  s3://zlv-metabase/\")\u001b[0m\n\u001b[0m                                                              ^\u001b[0m\n\u001b[0;31mSyntaxError\u001b[0m\u001b[0;31m:\u001b[0m unmatched ')'\n"
     ]
    }
   ],
   "source": [
    "f\"awsc s3 cp ./../dbt/metabase.duckdb  s3://zlv-metabase/\")\n"
   ]
  },
  {
   "cell_type": "markdown",
   "id": "c1f4c0b2",
   "metadata": {},
   "source": []
  },
  {
   "cell_type": "code",
   "execution_count": null,
   "id": "eb62c93c",
   "metadata": {},
   "outputs": [],
   "source": []
  }
 ],
 "metadata": {
  "kernelspec": {
   "display_name": "py310",
   "language": "python",
   "name": "python3"
  },
  "language_info": {
   "codemirror_mode": {
    "name": "ipython",
    "version": 3
   },
   "file_extension": ".py",
   "mimetype": "text/x-python",
   "name": "python",
   "nbconvert_exporter": "python",
   "pygments_lexer": "ipython3",
   "version": "3.10.15"
  }
 },
 "nbformat": 4,
 "nbformat_minor": 5
}
