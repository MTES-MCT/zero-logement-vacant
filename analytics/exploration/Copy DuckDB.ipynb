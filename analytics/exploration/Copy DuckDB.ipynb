{
 "cells": [
  {
   "cell_type": "code",
   "execution_count": 1,
   "id": "8fc36e4a",
   "metadata": {},
   "outputs": [],
   "source": [
    "import duckdb\n",
    "from tqdm.auto import tqdm \n",
    "\n",
    "connection_source = duckdb.connect(database=\"../dbt/database_name.duckdb\", read_only = True)\n",
    "connection_destination = duckdb.connect(database=\"../dbt/metabase.duckdb\")"
   ]
  },
  {
   "cell_type": "code",
   "execution_count": 2,
   "id": "dea8fa6a",
   "metadata": {},
   "outputs": [],
   "source": [
    "# Schéma source et destination\n",
    "source_schema = \"main_marts\"\n",
    "destination_schema = \"main\"\n"
   ]
  },
  {
   "cell_type": "code",
   "execution_count": 3,
   "id": "fa6f8849",
   "metadata": {},
   "outputs": [],
   "source": [
    "common_tables = [\"marts_common_cities\"]\n",
    "\n",
    "production_tables = [\"marts_stats_monthly_global\",\n",
    "          \"marts_production_housing\",\n",
    "          \"marts_production_establishments\",\n",
    "          \"marts_production_owners\",\n",
    "          \"marts_production_users\",\n",
    "          \"marts_production_campaigns\"    \n",
    "]\n",
    "\n",
    "join_tables = [\n",
    "    \"marts_production_join_campaigns_housing\",\n",
    "    \"marts_production_join_establishment_cities\",\n",
    "    \"marts_production_join_housing_groups\",\n",
    "    \"marts_production_join_owner_housing\",\n",
    "]\n",
    "\n",
    "ff_tables = [\n",
    "    \"marts_ff_ext_2020_geo_code\",\n",
    "    \"marts_ff_ext_2023_geo_code\",\n",
    "]\n",
    "\n",
    "lovac_tables = [\n",
    "     \"marts_lovac_2020_geo_code\",\n",
    "     \"marts_lovac_2023_geo_code\",\n",
    "     \"marts_lovac_2024_geo_code\",\n",
    "     \"marts_lovac_exh_2020\",\n",
    "     \"marts_lovac_exh_2023\",\n",
    "     \"marts_lovac_exh_2024\",\n",
    "] \n",
    "\n",
    "\n",
    "mapping = {\n",
    "    \"marts_production_join_campaigns_housing\" : \"join_campaigns_housing\",\n",
    "    \"marts_production_join_establishment_cities\": \"join_establishment_cities\",\n",
    "    \"marts_production_join_housing_groups\": \"join_housing_groups\",\n",
    "    \"marts_production_join_owner_housing\": \"join_owner_housing\"\n",
    "}\n",
    "# tables = [\"marts_common_cities\"]"
   ]
  },
  {
   "cell_type": "code",
   "execution_count": 4,
   "id": "359fc97b",
   "metadata": {},
   "outputs": [],
   "source": [
    "filters = []"
   ]
  },
  {
   "cell_type": "code",
   "execution_count": 5,
   "id": "7c8286b5",
   "metadata": {},
   "outputs": [],
   "source": [
    "tables = production_tables + join_tables + ff_tables + lovac_tables + common_tables\n",
    "\n",
    "if filters:\n",
    "    tables = filters"
   ]
  },
  {
   "cell_type": "code",
   "execution_count": 6,
   "id": "61745055",
   "metadata": {},
   "outputs": [],
   "source": [
    "import numpy as np"
   ]
  },
  {
   "cell_type": "code",
   "execution_count": 7,
   "id": "370a0a85",
   "metadata": {},
   "outputs": [
    {
     "data": {
      "application/vnd.jupyter.widget-view+json": {
       "model_id": "82ee28d76f7948df8df61c52d3b4ec66",
       "version_major": 2,
       "version_minor": 0
      },
      "text/plain": [
       "Transfert des tables:   0%|          | 0/19 [00:00<?, ?it/s]"
      ]
     },
     "metadata": {},
     "output_type": "display_data"
    },
    {
     "data": {
      "application/vnd.jupyter.widget-view+json": {
       "model_id": "e9ebaf0e592c4e9e958ada595761f63c",
       "version_major": 2,
       "version_minor": 0
      },
      "text/plain": [
       "FloatProgress(value=0.0, layout=Layout(width='auto'), style=ProgressStyle(bar_color='black'))"
      ]
     },
     "metadata": {},
     "output_type": "display_data"
    },
    {
     "data": {
      "application/vnd.jupyter.widget-view+json": {
       "model_id": "d1d99563aec8497bb2bd731aa3bd8415",
       "version_major": 2,
       "version_minor": 0
      },
      "text/plain": [
       "FloatProgress(value=0.0, layout=Layout(width='auto'), style=ProgressStyle(bar_color='black'))"
      ]
     },
     "metadata": {},
     "output_type": "display_data"
    },
    {
     "data": {
      "application/vnd.jupyter.widget-view+json": {
       "model_id": "316a749535f4478aa4f21bd56ad2866a",
       "version_major": 2,
       "version_minor": 0
      },
      "text/plain": [
       "FloatProgress(value=0.0, layout=Layout(width='auto'), style=ProgressStyle(bar_color='black'))"
      ]
     },
     "metadata": {},
     "output_type": "display_data"
    },
    {
     "data": {
      "application/vnd.jupyter.widget-view+json": {
       "model_id": "1655d635b07a4de59fdcf25840a0f47b",
       "version_major": 2,
       "version_minor": 0
      },
      "text/plain": [
       "FloatProgress(value=0.0, layout=Layout(width='auto'), style=ProgressStyle(bar_color='black'))"
      ]
     },
     "metadata": {},
     "output_type": "display_data"
    },
    {
     "data": {
      "application/vnd.jupyter.widget-view+json": {
       "model_id": "359b6812e01d4db6837d170d4d5e4aec",
       "version_major": 2,
       "version_minor": 0
      },
      "text/plain": [
       "FloatProgress(value=0.0, layout=Layout(width='auto'), style=ProgressStyle(bar_color='black'))"
      ]
     },
     "metadata": {},
     "output_type": "display_data"
    },
    {
     "data": {
      "application/vnd.jupyter.widget-view+json": {
       "model_id": "b7c50bda7f8f44b7bd7d3fa295823ad9",
       "version_major": 2,
       "version_minor": 0
      },
      "text/plain": [
       "FloatProgress(value=0.0, layout=Layout(width='auto'), style=ProgressStyle(bar_color='black'))"
      ]
     },
     "metadata": {},
     "output_type": "display_data"
    }
   ],
   "source": [
    "\n",
    "# Boucle sur chaque table pour transférer les données\n",
    "for table in tqdm(tables, desc=\"Transfert des tables\"):\n",
    "    # Lecture des données de la table source\n",
    "    query_read = f'SELECT * FROM {source_schema}.{table}'\n",
    "    df = connection_source.execute(query_read).fetchdf()\n",
    "    df = df.replace({None: np.nan})\n",
    "\n",
    "    # Ecriture des données dans la table de destination\n",
    "    destionation_table = mapping.get(table, table)\n",
    "    query_write = f'CREATE OR REPLACE TABLE {destination_schema}.{destionation_table} AS SELECT * FROM df'\n",
    "    connection_destination.execute(query_write)\n",
    "\n",
    "# Fermeture des connexions\n",
    "connection_source.close()\n",
    "connection_destination.close()"
   ]
  },
  {
   "cell_type": "code",
   "execution_count": null,
   "id": "4b74f3fa",
   "metadata": {},
   "outputs": [],
   "source": []
  },
  {
   "cell_type": "code",
   "execution_count": null,
   "id": "1949f984",
   "metadata": {},
   "outputs": [],
   "source": [
    "# Check if the tables are correctly created"
   ]
  },
  {
   "cell_type": "code",
   "execution_count": null,
   "id": "38dc926b",
   "metadata": {},
   "outputs": [
    {
     "data": {
      "application/vnd.jupyter.widget-view+json": {
       "model_id": "7917b8e9dcf2432094a64ef5faf2eae8",
       "version_major": 2,
       "version_minor": 0
      },
      "text/plain": [
       "FloatProgress(value=0.0, layout=Layout(width='auto'), style=ProgressStyle(bar_color='black'))"
      ]
     },
     "metadata": {},
     "output_type": "display_data"
    },
    {
     "data": {
      "application/vnd.jupyter.widget-view+json": {
       "model_id": "b27788a5385e46c4b6ceaa6eabdc0edf",
       "version_major": 2,
       "version_minor": 0
      },
      "text/plain": [
       "FloatProgress(value=0.0, layout=Layout(width='auto'), style=ProgressStyle(bar_color='black'))"
      ]
     },
     "metadata": {},
     "output_type": "display_data"
    },
    {
     "name": "stdout",
     "output_type": "stream",
     "text": [
      "Column 'vacancy_reasons' in table 'marts_production_housing' failed with error: Invalid Input Error: Failed to cast value: Unimplemented type for cast (VARCHAR -> \"NULL\")\n"
     ]
    },
    {
     "data": {
      "application/vnd.jupyter.widget-view+json": {
       "model_id": "4f3891ea3cdd4eb181eab61e57631bd5",
       "version_major": 2,
       "version_minor": 0
      },
      "text/plain": [
       "FloatProgress(value=0.0, layout=Layout(width='auto'), style=ProgressStyle(bar_color='black'))"
      ]
     },
     "metadata": {},
     "output_type": "display_data"
    },
    {
     "data": {
      "application/vnd.jupyter.widget-view+json": {
       "model_id": "c23cedbe57c849abb558f61ada62cef2",
       "version_major": 2,
       "version_minor": 0
      },
      "text/plain": [
       "FloatProgress(value=0.0, layout=Layout(width='auto'), style=ProgressStyle(bar_color='black'))"
      ]
     },
     "metadata": {},
     "output_type": "display_data"
    },
    {
     "data": {
      "application/vnd.jupyter.widget-view+json": {
       "model_id": "d8a1adae57d84aa498f344517fb0cb09",
       "version_major": 2,
       "version_minor": 0
      },
      "text/plain": [
       "FloatProgress(value=0.0, layout=Layout(width='auto'), style=ProgressStyle(bar_color='black'))"
      ]
     },
     "metadata": {},
     "output_type": "display_data"
    },
    {
     "data": {
      "application/vnd.jupyter.widget-view+json": {
       "model_id": "8e8747b99c134132affb42573655b9a2",
       "version_major": 2,
       "version_minor": 0
      },
      "text/plain": [
       "FloatProgress(value=0.0, layout=Layout(width='auto'), style=ProgressStyle(bar_color='black'))"
      ]
     },
     "metadata": {},
     "output_type": "display_data"
    }
   ],
   "source": [
    "# Check each column for potential casting issues\n",
    "for col in df.columns:\n",
    "    try:\n",
    "        # Create a temporary DataFrame for the single column\n",
    "        temp_df = df[[col]]\n",
    "        # Attempt to write the single column to a temp table to identify the problematic column\n",
    "        temp_table = f'temp_{table}_{col}'\n",
    "        query_write = f'CREATE OR REPLACE TABLE {destination_schema}_tmp.{temp_table}_{col} AS SELECT * FROM temp_df'\n",
    "        connection_destination.execute(query_write)\n",
    "        \n",
    "    except Exception as e:\n",
    "        # Log the column causing the issue\n",
    "        print(f\"Column '{col}' in table '{table}' failed with error: {e}\")"
   ]
  },
  {
   "cell_type": "code",
   "execution_count": 15,
   "id": "bd6d7cbd",
   "metadata": {},
   "outputs": [
    {
     "name": "stderr",
     "output_type": "stream",
     "text": [
      "upload failed: ../dbt/metabase.duckdb to s3://data-warehouse-raw/metabase.duckdb An error occurred (InvalidAccessKeyId) when calling the CreateMultipartUpload operation: The AWS Access Key Id you provided does not exist in our records.\n"
     ]
    },
    {
     "data": {
      "text/plain": [
       "256"
      ]
     },
     "execution_count": 15,
     "metadata": {},
     "output_type": "execute_result"
    }
   ],
   "source": [
    "# run aws cp copy command with os \n",
    "import os \n",
    "\n",
    "os.system(\"aws s3 cp ../dbt/metabase.duckdb s3://data-warehouse-raw/metabase.duckdb\")"
   ]
  },
  {
   "cell_type": "code",
   "execution_count": 16,
   "id": "58d02a42",
   "metadata": {},
   "outputs": [
    {
     "ename": "SyntaxError",
     "evalue": "unmatched ')' (3349582143.py, line 1)",
     "output_type": "error",
     "traceback": [
      "\u001b[0;36m  Cell \u001b[0;32mIn[16], line 1\u001b[0;36m\u001b[0m\n\u001b[0;31m    f\"awsc s3 cp ./../dbt/metabase.duckdb  s3://zlv-metabase/\")\u001b[0m\n\u001b[0m                                                              ^\u001b[0m\n\u001b[0;31mSyntaxError\u001b[0m\u001b[0;31m:\u001b[0m unmatched ')'\n"
     ]
    }
   ],
   "source": [
    "f\"awsc s3 cp ./../dbt/metabase.duckdb  s3://zlv-metabase/\")\n"
   ]
  },
  {
   "cell_type": "markdown",
   "id": "c1f4c0b2",
   "metadata": {},
   "source": []
  },
  {
   "cell_type": "code",
   "execution_count": null,
   "id": "eb62c93c",
   "metadata": {},
   "outputs": [],
   "source": []
  }
 ],
 "metadata": {
  "kernelspec": {
   "display_name": "Python 3 (ipykernel)",
   "language": "python",
   "name": "python3"
  },
  "language_info": {
   "codemirror_mode": {
    "name": "ipython",
    "version": 3
   },
   "file_extension": ".py",
   "mimetype": "text/x-python",
   "name": "python",
   "nbconvert_exporter": "python",
   "pygments_lexer": "ipython3",
   "version": "3.10.9"
  }
 },
 "nbformat": 4,
 "nbformat_minor": 5
}
