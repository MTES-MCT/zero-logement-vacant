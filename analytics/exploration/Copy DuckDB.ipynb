{
 "cells": [
  {
   "cell_type": "code",
   "execution_count": 1,
   "id": "8fc36e4a",
   "metadata": {},
   "outputs": [],
   "source": [
    "import duckdb\n",
    "from tqdm.auto import tqdm \n",
    "\n",
    "connection_source = duckdb.connect(database=\"../dbt/database_name.duckdb\", read_only = True)\n",
    "connection_destination = duckdb.connect(database=\"../dbt/metabase.duckdb\")"
   ]
  },
  {
   "cell_type": "code",
   "execution_count": 2,
   "id": "dea8fa6a",
   "metadata": {},
   "outputs": [],
   "source": [
    "# Schéma source et destination\n",
    "source_schema = \"main_marts\"\n",
    "destination_schema = \"main\"\n"
   ]
  },
  {
   "cell_type": "code",
   "execution_count": 3,
   "id": "fa6f8849",
   "metadata": {},
   "outputs": [],
   "source": [
    "public_tables = [\"marts_public_establishments_morphology\", \"marts_public_establishments_morphology_unpivoted\"] \n",
    "\n",
    "analysis_tables = [\"marts_analysis_exit_flow_ff23_lovac\"]\n",
    "\n",
    "common_tables = [\"marts_common_cities\", \"marts_common_morphology\"]\n",
    "\n",
    "production_tables = [\"marts_stats_monthly_global\",\n",
    "          \"marts_production_housing\",\n",
    "          \"marts_production_establishments\",\n",
    "          \"marts_production_owners\",\n",
    "          \"marts_production_groups\",\n",
    "          \"marts_production_users\",\n",
    "          \"marts_production_campaigns\"    \n",
    "]\n",
    "\n",
    "join_tables = [\n",
    "    \"marts_production_join_campaigns_housing\",\n",
    "    \"marts_production_join_establishment_cities\",\n",
    "    \"marts_production_join_housing_groups\",\n",
    "    \"marts_production_join_owner_housing\",\n",
    "    \"marts_production_join_establishment_housing\"\n",
    "]"
   ]
  },
  {
   "cell_type": "code",
   "execution_count": 4,
   "id": "359fc97b",
   "metadata": {},
   "outputs": [],
   "source": [
    "filters = []"
   ]
  },
  {
   "cell_type": "code",
   "execution_count": 5,
   "id": "5d01b748",
   "metadata": {},
   "outputs": [],
   "source": [
    "translation_mapping ={\n",
    "    \"marts_production_join_campaigns_housing\" : \"join_campaigns_housing\",\n",
    "    \"marts_production_join_establishment_cities\": \"join_establishment_cities\",\n",
    "    \"marts_production_join_housing_groups\": \"join_housing_groups\",\n",
    "    \"marts_production_join_owner_housing\": \"join_owner_housing\",\n",
    "    \"marts_production_join_establishment_housing\": \"join_establishment_housing\",\n",
    "    \"marts_common_cities\": \"cities_zonage_2024\",\n",
    "    #\"marts_common_morphology\": \"infra_municipalities_morphology\",\n",
    "    #\"marts_production_campaigns\": \"prod_campaigns\",\n",
    "    #\"marts_production_establishments\": \"prod_establishments\",\n",
    "    #\"marts_production_groups\": \"prod_groups\",\n",
    "    #\"marts_production_housing\": \"prod_housing\",\n",
    "    #\"marts_production_owners\": \"prod_owners\",\n",
    "    #\"marts_production_users\": \"prod_users\",\n",
    "    #\"marts_public_establishments_morphology\": \"stats_establishments_morphology_annuals\",\n",
    "    #\"marts_public_establishments_morphology_unpivoted\": \"stats_establishments_morphology_stocks\",\n",
    "    #\"marts_stats_monthly_global\": \"stats_activity_monthly\",\n",
    "}"
   ]
  },
  {
   "cell_type": "code",
   "execution_count": 6,
   "id": "7c8286b5",
   "metadata": {},
   "outputs": [],
   "source": [
    "tables = production_tables + join_tables + common_tables\n",
    "\n",
    "if filters:\n",
    "    tables = filters"
   ]
  },
  {
   "cell_type": "code",
   "execution_count": 7,
   "id": "61745055",
   "metadata": {},
   "outputs": [],
   "source": [
    "import numpy as np"
   ]
  },
  {
   "cell_type": "code",
   "execution_count": 8,
   "id": "370a0a85",
   "metadata": {},
   "outputs": [
    {
     "data": {
      "application/vnd.jupyter.widget-view+json": {
       "model_id": "66921804852b40019e70626a283a02c2",
       "version_major": 2,
       "version_minor": 0
      },
      "text/plain": [
       "Transfert des tables:   0%|          | 0/14 [00:00<?, ?it/s]"
      ]
     },
     "metadata": {},
     "output_type": "display_data"
    },
    {
     "data": {
      "application/vnd.jupyter.widget-view+json": {
       "model_id": "73ab5ac69e2144f2aaa4ce3c48639fd3",
       "version_major": 2,
       "version_minor": 0
      },
      "text/plain": [
       "FloatProgress(value=0.0, layout=Layout(width='auto'), style=ProgressStyle(bar_color='black'))"
      ]
     },
     "metadata": {},
     "output_type": "display_data"
    },
    {
     "data": {
      "application/vnd.jupyter.widget-view+json": {
       "model_id": "984ec93c4dcc49e3a2a76aa8ecfee9aa",
       "version_major": 2,
       "version_minor": 0
      },
      "text/plain": [
       "FloatProgress(value=0.0, layout=Layout(width='auto'), style=ProgressStyle(bar_color='black'))"
      ]
     },
     "metadata": {},
     "output_type": "display_data"
    },
    {
     "data": {
      "application/vnd.jupyter.widget-view+json": {
       "model_id": "6c21fc981188450bb86f5e1b751aafe6",
       "version_major": 2,
       "version_minor": 0
      },
      "text/plain": [
       "FloatProgress(value=0.0, layout=Layout(width='auto'), style=ProgressStyle(bar_color='black'))"
      ]
     },
     "metadata": {},
     "output_type": "display_data"
    },
    {
     "data": {
      "application/vnd.jupyter.widget-view+json": {
       "model_id": "377261490532457e90fbb281faa2cf1e",
       "version_major": 2,
       "version_minor": 0
      },
      "text/plain": [
       "FloatProgress(value=0.0, layout=Layout(width='auto'), style=ProgressStyle(bar_color='black'))"
      ]
     },
     "metadata": {},
     "output_type": "display_data"
    },
    {
     "data": {
      "application/vnd.jupyter.widget-view+json": {
       "model_id": "7faae2ea1cd845f5a66b8d349c174493",
       "version_major": 2,
       "version_minor": 0
      },
      "text/plain": [
       "FloatProgress(value=0.0, layout=Layout(width='auto'), style=ProgressStyle(bar_color='black'))"
      ]
     },
     "metadata": {},
     "output_type": "display_data"
    },
    {
     "data": {
      "application/vnd.jupyter.widget-view+json": {
       "model_id": "5b7a8831f19f48f8884b0072dfaad380",
       "version_major": 2,
       "version_minor": 0
      },
      "text/plain": [
       "FloatProgress(value=0.0, layout=Layout(width='auto'), style=ProgressStyle(bar_color='black'))"
      ]
     },
     "metadata": {},
     "output_type": "display_data"
    },
    {
     "data": {
      "application/vnd.jupyter.widget-view+json": {
       "model_id": "454c36ff351b4731ad684e1a95f1ed50",
       "version_major": 2,
       "version_minor": 0
      },
      "text/plain": [
       "FloatProgress(value=0.0, layout=Layout(width='auto'), style=ProgressStyle(bar_color='black'))"
      ]
     },
     "metadata": {},
     "output_type": "display_data"
    },
    {
     "data": {
      "application/vnd.jupyter.widget-view+json": {
       "model_id": "68f16b00f9404b7aa06dc62d10c377b6",
       "version_major": 2,
       "version_minor": 0
      },
      "text/plain": [
       "FloatProgress(value=0.0, layout=Layout(width='auto'), style=ProgressStyle(bar_color='black'))"
      ]
     },
     "metadata": {},
     "output_type": "display_data"
    },
    {
     "data": {
      "application/vnd.jupyter.widget-view+json": {
       "model_id": "0b050d7afede4550a4de690c17e6bf21",
       "version_major": 2,
       "version_minor": 0
      },
      "text/plain": [
       "FloatProgress(value=0.0, layout=Layout(width='auto'), style=ProgressStyle(bar_color='black'))"
      ]
     },
     "metadata": {},
     "output_type": "display_data"
    }
   ],
   "source": [
    "# Boucle sur chaque table pour transférer les données\n",
    "for table in tqdm(tables, desc=\"Transfert des tables\"):\n",
    "    # Lecture des données de la table source\n",
    "    query_read = f'SELECT * FROM {source_schema}.{table}'\n",
    "    df = connection_source.execute(query_read).fetchdf()\n",
    "    df = df.replace({None: np.nan})\n",
    "\n",
    "    # Ecriture des données dans la table de destination\n",
    "    destionation_table = translation_mapping.get(table, table)\n",
    "    query_write = f'CREATE OR REPLACE TABLE {destination_schema}.{destionation_table} AS SELECT * FROM df'\n",
    "    connection_destination.execute(query_write)\n",
    "\n",
    "# Fermeture des connexions\n",
    "connection_source.close()\n",
    "connection_destination.close()"
   ]
  },
  {
   "cell_type": "code",
   "execution_count": null,
   "id": "973d665a",
   "metadata": {},
   "outputs": [],
   "source": []
  },
  {
   "cell_type": "code",
   "execution_count": null,
   "id": "a7700334",
   "metadata": {},
   "outputs": [],
   "source": []
  }
 ],
 "metadata": {
  "kernelspec": {
   "display_name": "py310",
   "language": "python",
   "name": "python3"
  },
  "language_info": {
   "codemirror_mode": {
    "name": "ipython",
    "version": 3
   },
   "file_extension": ".py",
   "mimetype": "text/x-python",
   "name": "python",
   "nbconvert_exporter": "python",
   "pygments_lexer": "ipython3",
   "version": "3.10.15"
  }
 },
 "nbformat": 4,
 "nbformat_minor": 5
}
