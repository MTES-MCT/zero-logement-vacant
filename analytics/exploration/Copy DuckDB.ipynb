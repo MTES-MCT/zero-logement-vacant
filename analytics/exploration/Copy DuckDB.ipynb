{
 "cells": [
  {
   "cell_type": "code",
   "execution_count": 5,
   "id": "8fc36e4a",
   "metadata": {},
   "outputs": [],
   "source": [
    "import duckdb\n",
    "from tqdm.auto import tqdm \n",
    "\n",
    "connection_source = duckdb.connect(database=\"../dbt/database_name.duckdb\", read_only = True)\n",
    "connection_destination = duckdb.connect(database=\"../dbt/metabase.duckdb\")"
   ]
  },
  {
   "cell_type": "code",
   "execution_count": 6,
   "id": "dea8fa6a",
   "metadata": {},
   "outputs": [],
   "source": [
    "# Schéma source et destination\n",
    "source_schema = \"main_marts\"\n",
    "destination_schema = \"main\"\n"
   ]
  },
  {
   "cell_type": "code",
   "execution_count": 7,
   "id": "fa6f8849",
   "metadata": {},
   "outputs": [],
   "source": [
    "tables = [\"marts_stats_monthly_global\",\"marts_production_housing\", \"marts_production_establishments\", \"marts_production_owners\", \"marts_production_users\", \"mart_common_cities\"]"
   ]
  },
  {
   "cell_type": "code",
   "execution_count": 8,
   "id": "370a0a85",
   "metadata": {},
   "outputs": [
    {
     "data": {
      "application/vnd.jupyter.widget-view+json": {
       "model_id": "c3940257b5dd4ec2adf4993a6ae38679",
       "version_major": 2,
       "version_minor": 0
      },
      "text/plain": [
       "Transfert des tables:   0%|          | 0/6 [00:00<?, ?it/s]"
      ]
     },
     "metadata": {},
     "output_type": "display_data"
    }
   ],
   "source": [
    "\n",
    "# Boucle sur chaque table pour transférer les données\n",
    "for table in tqdm(tables, desc=\"Transfert des tables\"):\n",
    "    # Lecture des données de la table source\n",
    "    query_read = f'SELECT * FROM {source_schema}.{table}'\n",
    "    df = connection_source.execute(query_read).fetchdf()\n",
    "\n",
    "    # Ecriture des données dans la table de destination\n",
    "    query_write = f'CREATE OR REPLACE TABLE {destination_schema}.{table} AS SELECT * FROM df'\n",
    "    connection_destination.execute(query_write)\n",
    "\n",
    "# Fermeture des connexions\n",
    "connection_source.close()\n",
    "connection_destination.close()"
   ]
  },
  {
   "cell_type": "code",
   "execution_count": 9,
   "id": "58d02a42",
   "metadata": {},
   "outputs": [
    {
     "ename": "NameError",
     "evalue": "name 'date' is not defined",
     "output_type": "error",
     "traceback": [
      "\u001b[0;31m---------------------------------------------------------------------------\u001b[0m",
      "\u001b[0;31mNameError\u001b[0m                                 Traceback (most recent call last)",
      "Cell \u001b[0;32mIn[9], line 1\u001b[0m\n\u001b[0;32m----> 1\u001b[0m \u001b[38;5;28mprint\u001b[39m(\u001b[38;5;124mf\u001b[39m\u001b[38;5;124m\"\u001b[39m\u001b[38;5;124mawsc s3 cp ./data/lovac_history.jsonl s3://zlv-production/production/dump_\u001b[39m\u001b[38;5;132;01m{\u001b[39;00mdate\u001b[38;5;132;01m}\u001b[39;00m\u001b[38;5;124m/\u001b[39m\u001b[38;5;124m\"\u001b[39m)\n\u001b[1;32m      2\u001b[0m \u001b[38;5;28mprint\u001b[39m(\u001b[38;5;124mf\u001b[39m\u001b[38;5;124m\"\u001b[39m\u001b[38;5;124mawsc s3 cp ./data/lovac_history.csv s3://zlv-production/production/dump_\u001b[39m\u001b[38;5;132;01m{\u001b[39;00mdate\u001b[38;5;132;01m}\u001b[39;00m\u001b[38;5;124m/\u001b[39m\u001b[38;5;124m\"\u001b[39m)\n",
      "\u001b[0;31mNameError\u001b[0m: name 'date' is not defined"
     ]
    }
   ],
   "source": [
    "print(f\"awsc s3 cp ./../dbt/metabase.duckdb  s3://zlv-metabase/\")\n"
   ]
  },
  {
   "cell_type": "code",
   "execution_count": null,
   "id": "eb62c93c",
   "metadata": {},
   "outputs": [],
   "source": []
  }
 ],
 "metadata": {
  "kernelspec": {
   "display_name": "Python 3 (ipykernel)",
   "language": "python",
   "name": "python3"
  },
  "language_info": {
   "codemirror_mode": {
    "name": "ipython",
    "version": 3
   },
   "file_extension": ".py",
   "mimetype": "text/x-python",
   "name": "python",
   "nbconvert_exporter": "python",
   "pygments_lexer": "ipython3",
   "version": "3.10.9"
  }
 },
 "nbformat": 4,
 "nbformat_minor": 5
}
