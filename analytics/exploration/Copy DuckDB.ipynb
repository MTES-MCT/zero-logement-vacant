{
 "cells": [
  {
   "cell_type": "code",
   "execution_count": 1,
   "id": "8fc36e4a",
   "metadata": {},
   "outputs": [],
   "source": [
    "import duckdb\n",
    "from tqdm.auto import tqdm \n",
    "\n",
    "connection_source = duckdb.connect(database=\"../dbt/database_name.duckdb\", read_only = True)\n",
    "connection_destination = duckdb.connect(database=\"../dbt/metabase.duckdb\")"
   ]
  },
  {
   "cell_type": "code",
   "execution_count": 2,
   "id": "dea8fa6a",
   "metadata": {},
   "outputs": [],
   "source": [
    "# Schéma source et destination\n",
    "source_schema = \"main_marts\"\n",
    "destination_schema = \"main\"\n"
   ]
  },
  {
   "cell_type": "code",
   "execution_count": 4,
   "id": "fa6f8849",
   "metadata": {},
   "outputs": [],
   "source": [
    "common_tables = [\"marts_common_cities\"]\n",
    "\n",
    "production_tables = [\"marts_stats_monthly_global\",\n",
    "          \"marts_production_housing\",\n",
    "          \"marts_production_establishments\",\n",
    "          \"marts_production_owners\",\n",
    "          \"marts_production_users\",\n",
    "          \"marts_production_campaigns\"    \n",
    "]\n",
    "\n",
    "join_tables = [\n",
    "    \"marts_production_join_campaigns_housing\",\n",
    "    \"marts_production_join_establishment_cities\",\n",
    "    \"marts_production_join_housing_groups\",\n",
    "    \"marts_production_join_owner_housing\",\n",
    "]\n",
    "\n",
    "ff_tables = [\n",
    "    \"marts_ff_ext_2020_geo_code\",\n",
    "    \"marts_ff_ext_2023_geo_code\",\n",
    "]\n",
    "\n",
    "lovac_tables = [\n",
    "     \"marts_lovac_2020_geo_code\",\n",
    "     \"marts_lovac_2023_geo_code\",\n",
    "     \"marts_lovac_2024_geo_code\",\n",
    "     \"marts_lovac_exh_2020\",\n",
    "     \"marts_lovac_exh_2023\",\n",
    "     \"marts_lovac_exh_2024\",\n",
    "] \n",
    "\n",
    "\n",
    "mapping = {\n",
    "    \"marts_production_join_campaigns_housing\" : \"join_campaigns_housing\",\n",
    "    \"marts_production_join_establishment_cities\": \"join_establishment_cities\",\n",
    "    \"marts_production_join_housing_groups\": \"join_housing_groups\",\n",
    "    \"marts_production_join_owner_housing\": \"join_owner_housing\"\n",
    "}\n",
    "# tables = [\"marts_common_cities\"]"
   ]
  },
  {
   "cell_type": "code",
   "execution_count": 5,
   "id": "359fc97b",
   "metadata": {},
   "outputs": [],
   "source": [
    "filters = []"
   ]
  },
  {
   "cell_type": "code",
   "execution_count": 6,
   "id": "7c8286b5",
   "metadata": {},
   "outputs": [],
   "source": [
    "tables = production_tables + join_tables + ff_tables + lovac_tables + common_tables\n",
    "\n",
    "if filters:\n",
    "    tables = filters"
   ]
  },
  {
   "cell_type": "code",
   "execution_count": 7,
   "id": "61745055",
   "metadata": {},
   "outputs": [],
   "source": [
    "import numpy as np"
   ]
  },
  {
   "cell_type": "code",
   "execution_count": 8,
   "id": "370a0a85",
   "metadata": {},
   "outputs": [
    {
     "data": {
      "application/vnd.jupyter.widget-view+json": {
       "model_id": "f571e73ae0384b8a82c0f6485a31000e",
       "version_major": 2,
       "version_minor": 0
      },
      "text/plain": [
       "Transfert des tables:   0%|          | 0/19 [00:00<?, ?it/s]"
      ]
     },
     "metadata": {},
     "output_type": "display_data"
    },
    {
     "name": "stderr",
     "output_type": "stream",
     "text": [
      "/Users/raphaelcourivaud/anaconda3/envs/py310/lib/python3.10/site-packages/pandas/core/arrays/masked.py:60: UserWarning: Pandas requires version '1.3.6' or newer of 'bottleneck' (version '1.3.5' currently installed).\n",
      "  from pandas.core import (\n"
     ]
    },
    {
     "data": {
      "application/vnd.jupyter.widget-view+json": {
       "model_id": "d11cf01171c443fc8cddb8e531ea860d",
       "version_major": 2,
       "version_minor": 0
      },
      "text/plain": [
       "FloatProgress(value=0.0, layout=Layout(width='auto'), style=ProgressStyle(bar_color='black'))"
      ]
     },
     "metadata": {},
     "output_type": "display_data"
    },
    {
     "name": "stderr",
     "output_type": "stream",
     "text": [
      "/var/folders/_v/10w6h3595jb25htv66pv5fq80000gn/T/ipykernel_69340/3507620311.py:6: FutureWarning: Downcasting behavior in `replace` is deprecated and will be removed in a future version. To retain the old behavior, explicitly call `result.infer_objects(copy=False)`. To opt-in to the future behavior, set `pd.set_option('future.no_silent_downcasting', True)`\n",
      "  df = df.replace({None: np.nan})\n"
     ]
    },
    {
     "data": {
      "application/vnd.jupyter.widget-view+json": {
       "model_id": "94a7374c67e34f8c8c2e9a0a0a698a39",
       "version_major": 2,
       "version_minor": 0
      },
      "text/plain": [
       "FloatProgress(value=0.0, layout=Layout(width='auto'), style=ProgressStyle(bar_color='black'))"
      ]
     },
     "metadata": {},
     "output_type": "display_data"
    },
    {
     "data": {
      "application/vnd.jupyter.widget-view+json": {
       "model_id": "40abce24aa2e48faad85860b3e10ed3c",
       "version_major": 2,
       "version_minor": 0
      },
      "text/plain": [
       "FloatProgress(value=0.0, layout=Layout(width='auto'), style=ProgressStyle(bar_color='black'))"
      ]
     },
     "metadata": {},
     "output_type": "display_data"
    },
    {
     "data": {
      "application/vnd.jupyter.widget-view+json": {
       "model_id": "cf3dc1a62525466c83255ddd3cb270a3",
       "version_major": 2,
       "version_minor": 0
      },
      "text/plain": [
       "FloatProgress(value=0.0, layout=Layout(width='auto'), style=ProgressStyle(bar_color='black'))"
      ]
     },
     "metadata": {},
     "output_type": "display_data"
    },
    {
     "data": {
      "application/vnd.jupyter.widget-view+json": {
       "model_id": "bd3ec3bdd78c41a388ca7511ce5924c9",
       "version_major": 2,
       "version_minor": 0
      },
      "text/plain": [
       "FloatProgress(value=0.0, layout=Layout(width='auto'), style=ProgressStyle(bar_color='black'))"
      ]
     },
     "metadata": {},
     "output_type": "display_data"
    },
    {
     "data": {
      "application/vnd.jupyter.widget-view+json": {
       "model_id": "8a8e7d39eb3f49d481d3cb95ac827328",
       "version_major": 2,
       "version_minor": 0
      },
      "text/plain": [
       "FloatProgress(value=0.0, layout=Layout(width='auto'), style=ProgressStyle(bar_color='black'))"
      ]
     },
     "metadata": {},
     "output_type": "display_data"
    }
   ],
   "source": [
    "# Boucle sur chaque table pour transférer les données\n",
    "for table in tqdm(tables, desc=\"Transfert des tables\"):\n",
    "    # Lecture des données de la table source\n",
    "    query_read = f'SELECT * FROM {source_schema}.{table}'\n",
    "    df = connection_source.execute(query_read).fetchdf()\n",
    "    df = df.replace({None: np.nan})\n",
    "\n",
    "    # Ecriture des données dans la table de destination\n",
    "    destionation_table = mapping.get(table, table)\n",
    "    query_write = f'CREATE OR REPLACE TABLE {destination_schema}.{destionation_table} AS SELECT * FROM df'\n",
    "    connection_destination.execute(query_write)\n",
    "\n",
    "# Fermeture des connexions\n",
    "connection_source.close()\n",
    "connection_destination.close()"
   ]
  },
  {
   "cell_type": "code",
   "execution_count": null,
   "id": "4b74f3fa",
   "metadata": {},
   "outputs": [],
   "source": []
  },
  {
   "cell_type": "code",
   "execution_count": 9,
   "id": "1949f984",
   "metadata": {},
   "outputs": [
    {
     "data": {
      "text/plain": [
       "<duckdb.duckdb.DuckDBPyConnection at 0x106f5f070>"
      ]
     },
     "execution_count": 9,
     "metadata": {},
     "output_type": "execute_result"
    }
   ],
   "source": [
    "# create schema main_tmp\n",
    "# create schema\n",
    "connection_destination.execute(\"CREATE SCHEMA main_tmp\")"
   ]
  },
  {
   "cell_type": "code",
   "execution_count": 10,
   "id": "38dc926b",
   "metadata": {},
   "outputs": [
    {
     "data": {
      "application/vnd.jupyter.widget-view+json": {
       "model_id": "0f374ddc09134f46b09951296eb44a61",
       "version_major": 2,
       "version_minor": 0
      },
      "text/plain": [
       "FloatProgress(value=0.0, layout=Layout(width='auto'), style=ProgressStyle(bar_color='black'))"
      ]
     },
     "metadata": {},
     "output_type": "display_data"
    },
    {
     "data": {
      "application/vnd.jupyter.widget-view+json": {
       "model_id": "f0a33a83472c49a3961d47165ed7cb58",
       "version_major": 2,
       "version_minor": 0
      },
      "text/plain": [
       "FloatProgress(value=0.0, layout=Layout(width='auto'), style=ProgressStyle(bar_color='black'))"
      ]
     },
     "metadata": {},
     "output_type": "display_data"
    },
    {
     "data": {
      "application/vnd.jupyter.widget-view+json": {
       "model_id": "c4a2056558ed4e85ac61423b04381eb8",
       "version_major": 2,
       "version_minor": 0
      },
      "text/plain": [
       "FloatProgress(value=0.0, layout=Layout(width='auto'), style=ProgressStyle(bar_color='black'))"
      ]
     },
     "metadata": {},
     "output_type": "display_data"
    },
    {
     "data": {
      "application/vnd.jupyter.widget-view+json": {
       "model_id": "e849129fdb7041609301bc6b56800b60",
       "version_major": 2,
       "version_minor": 0
      },
      "text/plain": [
       "FloatProgress(value=0.0, layout=Layout(width='auto'), style=ProgressStyle(bar_color='black'))"
      ]
     },
     "metadata": {},
     "output_type": "display_data"
    },
    {
     "name": "stdout",
     "output_type": "stream",
     "text": [
      "Column 'precisions' in table 'marts_production_housing' failed with error: Invalid Input Error: Failed to cast value: Unimplemented type for cast (VARCHAR -> \"NULL\")\n"
     ]
    },
    {
     "data": {
      "application/vnd.jupyter.widget-view+json": {
       "model_id": "47708498b4814d34bed56cd3d2b96061",
       "version_major": 2,
       "version_minor": 0
      },
      "text/plain": [
       "FloatProgress(value=0.0, layout=Layout(width='auto'), style=ProgressStyle(bar_color='black'))"
      ]
     },
     "metadata": {},
     "output_type": "display_data"
    },
    {
     "data": {
      "application/vnd.jupyter.widget-view+json": {
       "model_id": "30fa929de23a486c924eebf2f6bae6c3",
       "version_major": 2,
       "version_minor": 0
      },
      "text/plain": [
       "FloatProgress(value=0.0, layout=Layout(width='auto'), style=ProgressStyle(bar_color='black'))"
      ]
     },
     "metadata": {},
     "output_type": "display_data"
    },
    {
     "data": {
      "application/vnd.jupyter.widget-view+json": {
       "model_id": "c1461000507b48a5af5e377ddc5fca6f",
       "version_major": 2,
       "version_minor": 0
      },
      "text/plain": [
       "FloatProgress(value=0.0, layout=Layout(width='auto'), style=ProgressStyle(bar_color='black'))"
      ]
     },
     "metadata": {},
     "output_type": "display_data"
    },
    {
     "name": "stdout",
     "output_type": "stream",
     "text": [
      "Column 'is_in_action_coeur_de_ville_1_teritory' in table 'marts_production_housing' failed with error: Query interrupted\n"
     ]
    }
   ],
   "source": [
    "# Check each column for potential casting issues\n",
    "for col in df.columns:\n",
    "    try:\n",
    "        # Create a temporary DataFrame for the single column\n",
    "        temp_df = df[[col]]\n",
    "        # Attempt to write the single column to a temp table to identify the problematic column\n",
    "        temp_table = f'temp_{table}_{col}'\n",
    "        query_write = f'CREATE OR REPLACE TABLE {destination_schema}_tmp.{temp_table}_{col} AS SELECT * FROM temp_df'\n",
    "        connection_destination.execute(query_write)\n",
    "        \n",
    "    except Exception as e:\n",
    "        # Log the column causing the issue\n",
    "        print(f\"Column '{col}' in table '{table}' failed with error: {e}\")"
   ]
  },
  {
   "cell_type": "markdown",
   "id": "8a5022d0",
   "metadata": {},
   "source": []
  },
  {
   "cell_type": "code",
   "execution_count": null,
   "id": "bd6d7cbd",
   "metadata": {},
   "outputs": [
    {
     "name": "stderr",
     "output_type": "stream",
     "text": [
      "upload failed: ../dbt/metabase.duckdb to s3://data-warehouse-raw/metabase.duckdb An error occurred (InvalidAccessKeyId) when calling the CreateMultipartUpload operation: The AWS Access Key Id you provided does not exist in our records.\n"
     ]
    },
    {
     "data": {
      "text/plain": [
       "256"
      ]
     },
     "execution_count": 15,
     "metadata": {},
     "output_type": "execute_result"
    }
   ],
   "source": [
    "# run aws cp copy command with os \n",
    "import os \n",
    "\n",
    "os.system(\"aws s3 cp ../dbt/metabase.duckdb s3://data-warehouse-raw/metabase.duckdb\")"
   ]
  },
  {
   "cell_type": "code",
   "execution_count": null,
   "id": "58d02a42",
   "metadata": {},
   "outputs": [
    {
     "ename": "SyntaxError",
     "evalue": "unmatched ')' (3349582143.py, line 1)",
     "output_type": "error",
     "traceback": [
      "\u001b[0;36m  Cell \u001b[0;32mIn[16], line 1\u001b[0;36m\u001b[0m\n\u001b[0;31m    f\"awsc s3 cp ./../dbt/metabase.duckdb  s3://zlv-metabase/\")\u001b[0m\n\u001b[0m                                                              ^\u001b[0m\n\u001b[0;31mSyntaxError\u001b[0m\u001b[0;31m:\u001b[0m unmatched ')'\n"
     ]
    }
   ],
   "source": [
    "f\"awsc s3 cp ./../dbt/metabase.duckdb  s3://zlv-metabase/\")\n"
   ]
  },
  {
   "cell_type": "markdown",
   "id": "c1f4c0b2",
   "metadata": {},
   "source": []
  },
  {
   "cell_type": "code",
   "execution_count": null,
   "id": "eb62c93c",
   "metadata": {},
   "outputs": [],
   "source": []
  }
 ],
 "metadata": {
  "kernelspec": {
   "display_name": "py310",
   "language": "python",
   "name": "python3"
  },
  "language_info": {
   "codemirror_mode": {
    "name": "ipython",
    "version": 3
   },
   "file_extension": ".py",
   "mimetype": "text/x-python",
   "name": "python",
   "nbconvert_exporter": "python",
   "pygments_lexer": "ipython3",
   "version": "3.10.9"
  }
 },
 "nbformat": 4,
 "nbformat_minor": 5
}
