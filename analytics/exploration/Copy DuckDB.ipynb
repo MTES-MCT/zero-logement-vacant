{
 "cells": [
  {
   "cell_type": "code",
   "execution_count": 21,
   "id": "8fc36e4a",
   "metadata": {},
   "outputs": [],
   "source": [
    "import duckdb\n",
    "from tqdm.auto import tqdm \n",
    "\n",
    "connection_source = duckdb.connect(database=\"../dbt/database_name.duckdb\", read_only = True)\n",
    "connection_destination = duckdb.connect(database=\"../dbt/metabase.duckdb\")"
   ]
  },
  {
   "cell_type": "code",
   "execution_count": 22,
   "id": "dea8fa6a",
   "metadata": {},
   "outputs": [],
   "source": [
    "# Schéma source et destination\n",
    "source_schema = \"main_marts\"\n",
    "destination_schema = \"main\"\n"
   ]
  },
  {
   "cell_type": "code",
   "execution_count": 23,
   "id": "fa6f8849",
   "metadata": {},
   "outputs": [],
   "source": [
    "tables = [\"marts_stats_monthly_global\",\n",
    "          \"marts_production_housing\",\n",
    "          \"marts_production_establishments\",\n",
    "          \"marts_production_owners\",\n",
    "          \"marts_production_users\",\n",
    "          \"marts_common_cities\", \n",
    "          \"marts_production_campaigns\"        \n",
    "]\n",
    "\n",
    "tables = [\"marts_common_cities\"]"
   ]
  },
  {
   "cell_type": "code",
   "execution_count": 24,
   "id": "370a0a85",
   "metadata": {},
   "outputs": [
    {
     "data": {
      "application/vnd.jupyter.widget-view+json": {
       "model_id": "16e73f5b302d4ea0a4eeacb64aee73d7",
       "version_major": 2,
       "version_minor": 0
      },
      "text/plain": [
       "Transfert des tables:   0%|          | 0/1 [00:00<?, ?it/s]"
      ]
     },
     "metadata": {},
     "output_type": "display_data"
    }
   ],
   "source": [
    "\n",
    "# Boucle sur chaque table pour transférer les données\n",
    "for table in tqdm(tables, desc=\"Transfert des tables\"):\n",
    "    # Lecture des données de la table source\n",
    "    query_read = f'SELECT * FROM {source_schema}.{table}'\n",
    "    df = connection_source.execute(query_read).fetchdf()\n",
    "\n",
    "    # Ecriture des données dans la table de destination\n",
    "    query_write = f'CREATE OR REPLACE TABLE {destination_schema}.{table} AS SELECT * FROM df'\n",
    "    connection_destination.execute(query_write)\n",
    "\n",
    "# Fermeture des connexions\n",
    "connection_source.close()\n",
    "connection_destination.close()"
   ]
  },
  {
   "cell_type": "code",
   "execution_count": 8,
   "id": "58d02a42",
   "metadata": {},
   "outputs": [
    {
     "name": "stdout",
     "output_type": "stream",
     "text": [
      "awsc s3 cp ./../dbt/metabase.duckdb  s3://zlv-metabase/\n"
     ]
    }
   ],
   "source": [
    "print(f\"awsc s3 cp ./../dbt/metabase.duckdb  s3://zlv-metabase/\")\n"
   ]
  },
  {
   "cell_type": "code",
   "execution_count": null,
   "id": "eb62c93c",
   "metadata": {},
   "outputs": [],
   "source": []
  }
 ],
 "metadata": {
  "kernelspec": {
   "display_name": "Python 3 (ipykernel)",
   "language": "python",
   "name": "python3"
  },
  "language_info": {
   "codemirror_mode": {
    "name": "ipython",
    "version": 3
   },
   "file_extension": ".py",
   "mimetype": "text/x-python",
   "name": "python",
   "nbconvert_exporter": "python",
   "pygments_lexer": "ipython3",
   "version": "3.10.9"
  }
 },
 "nbformat": 4,
 "nbformat_minor": 5
}
