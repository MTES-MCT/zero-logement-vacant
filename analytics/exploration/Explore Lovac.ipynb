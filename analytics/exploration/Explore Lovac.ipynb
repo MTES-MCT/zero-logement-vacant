{
 "cells": [
  {
   "cell_type": "code",
   "execution_count": 2,
   "id": "5c804d03",
   "metadata": {},
   "outputs": [],
   "source": [
    "import pandas as pd"
   ]
  },
  {
   "cell_type": "code",
   "execution_count": 4,
   "id": "18e4d2d3",
   "metadata": {},
   "outputs": [
    {
     "name": "stderr",
     "output_type": "stream",
     "text": [
      "/var/folders/_v/10w6h3595jb25htv66pv5fq80000gn/T/ipykernel_94260/2040330877.py:1: DtypeWarning: Columns (2,5,7,8,9,10,11,17,18,20,22,48,49,50,56,57,62,63,65,66,67,68,70,72,83,92,93,102,103,112,122,129,130,131,132,134,135,136,138) have mixed types. Specify dtype option on import or set low_memory=False.\n",
      "  df = pd.read_csv(\"/Users/raphaelcourivaud/Downloads/lovac2023ff23.csv\", sep=\";\")\n"
     ]
    }
   ],
   "source": [
    "df = pd.read_csv(\"/Users/raphaelcourivaud/Downloads/lovac2023ff23.csv\", sep=\";\")"
   ]
  },
  {
   "cell_type": "code",
   "execution_count": 7,
   "id": "690fc360",
   "metadata": {},
   "outputs": [],
   "source": [
    "groupes = ('1','2','3','4','5','6','9')\n",
    "natures = ('APPART','MAISON')"
   ]
  },
  {
   "cell_type": "code",
   "execution_count": 10,
   "id": "071cf295",
   "metadata": {},
   "outputs": [],
   "source": [
    "lovac_fil = df.query('groupe not in @groupes').query(\"aff == 'H'\").query('nature in @natures')"
   ]
  },
  {
   "cell_type": "code",
   "execution_count": 11,
   "id": "3ff42f02",
   "metadata": {},
   "outputs": [
    {
     "data": {
      "text/plain": [
       "(3741093, 139)"
      ]
     },
     "execution_count": 11,
     "metadata": {},
     "output_type": "execute_result"
    }
   ],
   "source": [
    "lovac_fil.shape"
   ]
  },
  {
   "cell_type": "code",
   "execution_count": null,
   "id": "f1b992a8",
   "metadata": {},
   "outputs": [],
   "source": []
  }
 ],
 "metadata": {
  "kernelspec": {
   "display_name": "Python 3 (ipykernel)",
   "language": "python",
   "name": "python3"
  },
  "language_info": {
   "codemirror_mode": {
    "name": "ipython",
    "version": 3
   },
   "file_extension": ".py",
   "mimetype": "text/x-python",
   "name": "python",
   "nbconvert_exporter": "python",
   "pygments_lexer": "ipython3",
   "version": "3.10.9"
  }
 },
 "nbformat": 4,
 "nbformat_minor": 5
}
