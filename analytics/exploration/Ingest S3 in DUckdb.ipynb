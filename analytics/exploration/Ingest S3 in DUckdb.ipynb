{
 "cells": [
  {
   "cell_type": "code",
   "execution_count": 1,
   "id": "8fc36e4a",
   "metadata": {},
   "outputs": [
    {
     "data": {
      "text/plain": [
       "<duckdb.duckdb.DuckDBPyConnection at 0x10437e0b0>"
      ]
     },
     "execution_count": 1,
     "metadata": {},
     "output_type": "execute_result"
    }
   ],
   "source": [
    "import duckdb\n",
    "from tqdm.auto import tqdm \n",
    "\n",
    "connection_source = duckdb.connect(database=\"../dbt/database_name.duckdb\")\n",
    "# Schéma source et destination\n",
    "source_schema = \"raw\"\n",
    "\n",
    "connection_source.execute(\"\"\"CREATE SECRET (\n",
    "    TYPE S3,\n",
    "    KEY_ID '7HEO1E7QL2ZL06JUHDVZ',\n",
    "    SECRET 'SkmBkERVUHhhki3KKYu1Lsb1sgF2b0h05yIgdB1k',\n",
    "    ENDPOINT 'cellar-c2.services.clever-cloud.com',\n",
    "    REGION 'us-east-1'\n",
    ");\"\"\")"
   ]
  },
  {
   "cell_type": "code",
   "execution_count": 2,
   "id": "dea8fa6a",
   "metadata": {},
   "outputs": [],
   "source": [
    "recent_lovac_types = {\n",
    "    'ff_jdatnss_6': 'VARCHAR',\n",
    "    'ff_jdatnss_5': 'VARCHAR',\n",
    "    'ff_jdatnss_4': 'VARCHAR',\n",
    "    'ff_jdatnss_3': 'VARCHAR',\n",
    "    'ff_jdatnss_2': 'VARCHAR',\n",
    "    'ff_jdatnss_1': 'VARCHAR',\n",
    "    'ff_ccogrm_1': 'VARCHAR',\n",
    "    'ff_ccogrm_2': 'VARCHAR',\n",
    "    'ff_ccogrm_3': 'VARCHAR',\n",
    "    'ff_ccogrm_4': 'VARCHAR',\n",
    "    'ff_ccogrm_5': 'VARCHAR',\n",
    "    'ff_ccogrm_6': 'VARCHAR',\n",
    "}\n",
    "\n",
    "\n",
    "tables = [\n",
    "    {\n",
    "        \"file\": \"s3://zlv-production/lovac/2024/raw.csv\",\n",
    "        \"table\": \"raw_lovac_2024\",\n",
    "        \"types\": recent_lovac_types,\n",
    "    },\n",
    "    {\n",
    "        \"file\": \"s3://zlv-production/lovac/2023/raw.csv\",\n",
    "        \"table\": \"raw_lovac_2023\",\n",
    "        \"types\": recent_lovac_types,\n",
    "    },\n",
    "    {\n",
    "        \"file\": \"s3://zlv-production/lovac/2022/raw.csv\",\n",
    "        \"table\": \"raw_lovac_2022\",\n",
    "    },\n",
    "    {\n",
    "        \"file\": \"s3://zlv-production/lovac/2021/raw.csv\",\n",
    "        \"table\": \"raw_lovac_2021\",\n",
    "    },\n",
    "    {\n",
    "        \"file\": \"s3://zlv-production/lovac/2020/raw.csv\",\n",
    "        \"table\": \"raw_lovac_2020\",\n",
    "    },\n",
    "    {\n",
    "        \"file\": \"s3://zlv-production/lovac/2019/raw.csv\",\n",
    "        \"table\": \"raw_lovac_2019\",\n",
    "    },\n",
    "\n",
    "]\n",
    "\n",
    "ff_files_and_tables = {\n",
    "    's3://zlv-production/ff/2019/raw.csv': \"raw_ff_2019\",\n",
    "    's3://zlv-production/ff/2020/raw.csv': \"raw_ff_2020\",\n",
    "    's3://zlv-production/ff/2021/raw.csv': \"raw_ff_2021\",\n",
    "    's3://zlv-production/ff/2022/raw.csv': \"raw_ff_2022\",\n",
    "    's3://zlv-production/ff/2023/raw.csv': \"raw_ff_2023\",\n",
    "}"
   ]
  },
  {
   "cell_type": "code",
   "execution_count": 5,
   "id": "e6e81409",
   "metadata": {},
   "outputs": [
    {
     "data": {
      "application/vnd.jupyter.widget-view+json": {
       "model_id": "5962ce6499f54d91b41b3209344692e7",
       "version_major": 2,
       "version_minor": 0
      },
      "text/plain": [
       "Transfert des tables:   0%|          | 0/5 [00:00<?, ?it/s]"
      ]
     },
     "metadata": {},
     "output_type": "display_data"
    },
    {
     "data": {
      "application/vnd.jupyter.widget-view+json": {
       "model_id": "15cf4403228d4e76b3ea3c1260102050",
       "version_major": 2,
       "version_minor": 0
      },
      "text/plain": [
       "FloatProgress(value=0.0, layout=Layout(width='auto'), style=ProgressStyle(bar_color='black'))"
      ]
     },
     "metadata": {},
     "output_type": "display_data"
    },
    {
     "data": {
      "application/vnd.jupyter.widget-view+json": {
       "model_id": "1d399c7d1962465aacb69ac7419b1c5c",
       "version_major": 2,
       "version_minor": 0
      },
      "text/plain": [
       "FloatProgress(value=0.0, layout=Layout(width='auto'), style=ProgressStyle(bar_color='black'))"
      ]
     },
     "metadata": {},
     "output_type": "display_data"
    },
    {
     "data": {
      "application/vnd.jupyter.widget-view+json": {
       "model_id": "b5ba444b416f4216b8060f31bfa44635",
       "version_major": 2,
       "version_minor": 0
      },
      "text/plain": [
       "FloatProgress(value=0.0, layout=Layout(width='auto'), style=ProgressStyle(bar_color='black'))"
      ]
     },
     "metadata": {},
     "output_type": "display_data"
    },
    {
     "data": {
      "application/vnd.jupyter.widget-view+json": {
       "model_id": "8cc0275f92844d19ad816d88717b89ee",
       "version_major": 2,
       "version_minor": 0
      },
      "text/plain": [
       "FloatProgress(value=0.0, layout=Layout(width='auto'), style=ProgressStyle(bar_color='black'))"
      ]
     },
     "metadata": {},
     "output_type": "display_data"
    },
    {
     "data": {
      "application/vnd.jupyter.widget-view+json": {
       "model_id": "9801f82539b54378855680c9027ad267",
       "version_major": 2,
       "version_minor": 0
      },
      "text/plain": [
       "FloatProgress(value=0.0, layout=Layout(width='auto'), style=ProgressStyle(bar_color='black'))"
      ]
     },
     "metadata": {},
     "output_type": "display_data"
    }
   ],
   "source": [
    "types = {\n",
    "    \"ff_ccogrm\": \"VARCHAR\"\n",
    "}\n",
    "\n",
    "for file, table in tqdm(ff_files_and_tables.items(), desc=\"Transfert des tables\"):\n",
    "    # Lecture des données de la table source\n",
    "    query_load = f\"\"\"\n",
    "    CREATE OR REPLACE TABLE {table} AS (\n",
    "        SELECT * FROM read_csv('{file}', auto_detect = TRUE, types = {types})\n",
    "    );\n",
    "    \"\"\"\n",
    "    \n",
    "\n",
    "    connection_source.execute(query_load)"
   ]
  },
  {
   "cell_type": "code",
   "execution_count": 5,
   "id": "6369857d",
   "metadata": {},
   "outputs": [
    {
     "ename": "IndentationError",
     "evalue": "unexpected indent (3781708738.py, line 2)",
     "output_type": "error",
     "traceback": [
      "\u001b[0;36m  Cell \u001b[0;32mIn[5], line 2\u001b[0;36m\u001b[0m\n\u001b[0;31m    query_load_failed = f\"\"\"\u001b[0m\n\u001b[0m    ^\u001b[0m\n\u001b[0;31mIndentationError\u001b[0m\u001b[0;31m:\u001b[0m unexpected indent\n"
     ]
    }
   ],
   "source": [
    "\n",
    "query_load_failed = f\"\"\"\n",
    "        SELECT * FROM reject_errors\n",
    "\"\"\"\n",
    "errors = connection_source.execute(query_load_failed).fetchall()"
   ]
  },
  {
   "cell_type": "code",
   "execution_count": null,
   "id": "b2599abf",
   "metadata": {},
   "outputs": [
    {
     "ename": "NameError",
     "evalue": "name 'errors' is not defined",
     "output_type": "error",
     "traceback": [
      "\u001b[0;31m---------------------------------------------------------------------------\u001b[0m",
      "\u001b[0;31mNameError\u001b[0m                                 Traceback (most recent call last)",
      "Cell \u001b[0;32mIn[10], line 1\u001b[0m\n\u001b[0;32m----> 1\u001b[0m \u001b[43merrors\u001b[49m\n",
      "\u001b[0;31mNameError\u001b[0m: name 'errors' is not defined"
     ]
    }
   ],
   "source": [
    "errors"
   ]
  },
  {
   "cell_type": "code",
   "execution_count": null,
   "id": "21051f1a",
   "metadata": {},
   "outputs": [
    {
     "ename": "NameError",
     "evalue": "name 'table' is not defined",
     "output_type": "error",
     "traceback": [
      "\u001b[0;31m---------------------------------------------------------------------------\u001b[0m",
      "\u001b[0;31mNameError\u001b[0m                                 Traceback (most recent call last)",
      "Cell \u001b[0;32mIn[2], line 2\u001b[0m\n\u001b[1;32m      1\u001b[0m query_read \u001b[38;5;241m=\u001b[39m \u001b[38;5;124mf\u001b[39m\u001b[38;5;124m\"\"\"\u001b[39m\n\u001b[0;32m----> 2\u001b[0m \u001b[38;5;124mSELECT COUNT(*) FROM \u001b[39m\u001b[38;5;132;01m{\u001b[39;00mtable\u001b[38;5;132;01m}\u001b[39;00m\u001b[38;5;124m   \u001b[39m\n\u001b[1;32m      3\u001b[0m \u001b[38;5;124m    WHERE 1=1\u001b[39m\n\u001b[1;32m      4\u001b[0m \u001b[38;5;124m            AND (groupe NOT IN (\u001b[39m\u001b[38;5;124m'\u001b[39m\u001b[38;5;124m1\u001b[39m\u001b[38;5;124m'\u001b[39m\u001b[38;5;124m, \u001b[39m\u001b[38;5;124m'\u001b[39m\u001b[38;5;124m2\u001b[39m\u001b[38;5;124m'\u001b[39m\u001b[38;5;124m, \u001b[39m\u001b[38;5;124m'\u001b[39m\u001b[38;5;124m3\u001b[39m\u001b[38;5;124m'\u001b[39m\u001b[38;5;124m, \u001b[39m\u001b[38;5;124m'\u001b[39m\u001b[38;5;124m4\u001b[39m\u001b[38;5;124m'\u001b[39m\u001b[38;5;124m, \u001b[39m\u001b[38;5;124m'\u001b[39m\u001b[38;5;124m5\u001b[39m\u001b[38;5;124m'\u001b[39m\u001b[38;5;124m, \u001b[39m\u001b[38;5;124m'\u001b[39m\u001b[38;5;124m6\u001b[39m\u001b[38;5;124m'\u001b[39m\u001b[38;5;124m, \u001b[39m\u001b[38;5;124m'\u001b[39m\u001b[38;5;124m9\u001b[39m\u001b[38;5;124m'\u001b[39m\u001b[38;5;124m) OR groupe is NULL)\u001b[39m\n\u001b[1;32m      5\u001b[0m \u001b[38;5;124m            AND aff = \u001b[39m\u001b[38;5;124m'\u001b[39m\u001b[38;5;124mH\u001b[39m\u001b[38;5;124m'\u001b[39m\n\u001b[1;32m      6\u001b[0m \u001b[38;5;124m            AND nature IN (\u001b[39m\u001b[38;5;124m'\u001b[39m\u001b[38;5;124mAPPART\u001b[39m\u001b[38;5;124m'\u001b[39m\u001b[38;5;124m, \u001b[39m\u001b[38;5;124m'\u001b[39m\u001b[38;5;124mMAISON\u001b[39m\u001b[38;5;124m'\u001b[39m\u001b[38;5;124m)\u001b[39m\n\u001b[1;32m      7\u001b[0m \u001b[38;5;124m\"\"\"\u001b[39m\n\u001b[1;32m      8\u001b[0m connection_source\u001b[38;5;241m.\u001b[39mexecute(query_read)\u001b[38;5;241m.\u001b[39mfetchall()\n",
      "\u001b[0;31mNameError\u001b[0m: name 'table' is not defined"
     ]
    }
   ],
   "source": [
    "query_read = f\"\"\"\n",
    "SELECT COUNT(*) FROM {table}   \n",
    "    WHERE 1=1\n",
    "            AND (groupe NOT IN ('1', '2', '3', '4', '5', '6', '9') OR groupe is NULL)\n",
    "            AND aff = 'H'\n",
    "            AND nature IN ('APPART', 'MAISON')\n",
    "\"\"\"\n",
    "connection_source.execute(query_read).fetchall()"
   ]
  },
  {
   "cell_type": "code",
   "execution_count": null,
   "id": "682ffac8",
   "metadata": {},
   "outputs": [],
   "source": [
    "3 687 140"
   ]
  },
  {
   "cell_type": "code",
   "execution_count": null,
   "id": "bd6d7cbd",
   "metadata": {},
   "outputs": [
    {
     "name": "stderr",
     "output_type": "stream",
     "text": [
      "upload failed: ../dbt/metabase.duckdb to s3://data-warehouse-raw/metabase.duckdb An error occurred (InvalidAccessKeyId) when calling the CreateMultipartUpload operation: The AWS Access Key Id you provided does not exist in our records.\n"
     ]
    },
    {
     "data": {
      "text/plain": [
       "256"
      ]
     },
     "execution_count": 15,
     "metadata": {},
     "output_type": "execute_result"
    }
   ],
   "source": [
    "# run aws cp copy command with os \n",
    "import os \n",
    "\n",
    "os.system(\"aws s3 cp ../dbt/metabase.duckdb s3://data-warehouse-raw/metabase.duckdb\")"
   ]
  },
  {
   "cell_type": "code",
   "execution_count": null,
   "id": "58d02a42",
   "metadata": {},
   "outputs": [
    {
     "ename": "SyntaxError",
     "evalue": "unmatched ')' (3349582143.py, line 1)",
     "output_type": "error",
     "traceback": [
      "\u001b[0;36m  Cell \u001b[0;32mIn[16], line 1\u001b[0;36m\u001b[0m\n\u001b[0;31m    f\"awsc s3 cp ./../dbt/metabase.duckdb  s3://zlv-metabase/\")\u001b[0m\n\u001b[0m                                                              ^\u001b[0m\n\u001b[0;31mSyntaxError\u001b[0m\u001b[0;31m:\u001b[0m unmatched ')'\n"
     ]
    }
   ],
   "source": [
    "f\"awsc s3 cp ./../dbt/metabase.duckdb  s3://zlv-metabase/\")\n"
   ]
  },
  {
   "cell_type": "markdown",
   "id": "c1f4c0b2",
   "metadata": {},
   "source": []
  },
  {
   "cell_type": "code",
   "execution_count": null,
   "id": "eb62c93c",
   "metadata": {},
   "outputs": [],
   "source": []
  }
 ],
 "metadata": {
  "kernelspec": {
   "display_name": "Python 3 (ipykernel)",
   "language": "python",
   "name": "python3"
  },
  "language_info": {
   "codemirror_mode": {
    "name": "ipython",
    "version": 3
   },
   "file_extension": ".py",
   "mimetype": "text/x-python",
   "name": "python",
   "nbconvert_exporter": "python",
   "pygments_lexer": "ipython3",
   "version": "3.10.9"
  }
 },
 "nbformat": 4,
 "nbformat_minor": 5
}
