{
 "cells": [
  {
   "cell_type": "code",
   "execution_count": 3,
   "metadata": {},
   "outputs": [],
   "source": [
    "#!pip install splink\n"
   ]
  },
  {
   "cell_type": "code",
   "execution_count": 1,
   "metadata": {},
   "outputs": [],
   "source": [
    "import duckdb\n",
    "from tqdm.auto import tqdm \n",
    "import pandas as pd\n",
    "\n",
    "connection_source = duckdb.connect(database=\"../dbt/database_name.duckdb\", read_only = True)"
   ]
  },
  {
   "cell_type": "code",
   "execution_count": null,
   "metadata": {},
   "outputs": [],
   "source": [
    "# Filtrer les propriétaires ayant un logements vacant dans la prod (lovac 2024)\n",
    "# Logement est le lien entre un propriétaire national et départemental \n",
    "# Aller chercher les logements via les ID locaux dans les fichiers fonciers\n",
    "# Aller chercher les logements via les ID locaux dans la prod "
   ]
  },
  {
   "cell_type": "code",
   "execution_count": 20,
   "metadata": {},
   "outputs": [
    {
     "data": {
      "application/vnd.jupyter.widget-view+json": {
       "model_id": "078fa431853a4d9ba607e498fe73da2c",
       "version_major": 2,
       "version_minor": 0
      },
      "text/plain": [
       "FloatProgress(value=0.0, layout=Layout(width='auto'), style=ProgressStyle(bar_color='black'))"
      ]
     },
     "metadata": {},
     "output_type": "display_data"
    },
    {
     "data": {
      "application/vnd.jupyter.widget-view+json": {
       "model_id": "63989ef3ac4047e78f8027ca8a387ffb",
       "version_major": 2,
       "version_minor": 0
      },
      "text/plain": [
       "FloatProgress(value=0.0, layout=Layout(width='auto'), style=ProgressStyle(bar_color='black'))"
      ]
     },
     "metadata": {},
     "output_type": "display_data"
    }
   ],
   "source": [
    "# Queries pour charger les DataFrames\n",
    "query_prod_owners = \"\"\" \n",
    "SELECT\n",
    "    CAST(id AS VARCHAR) AS unique_id,\n",
    "    full_name AS owner_fullname,\n",
    "    birth_date AS owner_birth_date,\n",
    "    list_aggregate(address_dgfip, 'string_agg', ' ') as owner_address,\n",
    "    kind_class AS owner_category_detail,\n",
    "    CAST(idpersonne AS VARCHAR) AS owner_idpersonne,\n",
    "    city AS owner_city,\n",
    "    postal_code as owner_postal_code\n",
    "FROM main_stg.owners\n",
    "JOIN main_stg.ban_addresses ba\n",
    "JOIN main_stg.stg_production_owners_housing\n",
    "JOIN main_stg.stg_production_housing ON stg_production_owners_housing.housing_id = stg_production_housing.id\n",
    "    WHERE occupancy_source = 'V' OR occupancy = 'V'\n",
    "ON ba.address_kind = 'Owner' AND ba.ref_id = owners.id;\n",
    "\"\"\"\n",
    "query_ff_owners = \"\"\"SELECT \n",
    "    CAST(ff_owner_idpersonne AS VARCHAR) AS unique_id,\n",
    "    CAST(ff_owner_idpersonne AS VARCHAR) AS owner_idpersonne, \n",
    "    ff_owner_address_1  || ' ' || ff_owner_address_2 || ' ' || ff_owner_address_3 || ' ' || ff_owner_address_4 AS owner_address,\n",
    "    ff_owner_postal_code AS owner_postal_code, \n",
    "    ff_owner_birth_date AS owner_birth_date, \n",
    "    ff_owner_lastname AS owner_lastname, \n",
    "    ff_owner_firstname AS owner_firstname, \n",
    "    ff_owner_fullname AS owner_fullname, \n",
    "    ff_owner_category_text AS owner_category_detail,\n",
    "    ff_owner_city AS owner_city\n",
    "FROM main_int.int_ff_owners_dedup;\n",
    "\"\"\"\n",
    "\n",
    "df_ff_owners = connection_source.execute(query_ff_owners).fetchdf()\n",
    "df_prod_owners = connection_source.execute(query_prod_owners).fetchdf()"
   ]
  },
  {
   "cell_type": "code",
   "execution_count": 21,
   "metadata": {},
   "outputs": [
    {
     "name": "stderr",
     "output_type": "stream",
     "text": [
      "Probability two random records match is estimated to be  3.43e-09.\n",
      "This means that amongst all possible pairwise record comparisons, one in 291,705,781.58 are expected to match.  With 74,165,830,334,910 total possible comparisons, we expect a total of around 254,248.75 matching pairs\n"
     ]
    }
   ],
   "source": [
    "import splink.comparison_library as cl\n",
    "from splink import DuckDBAPI, Linker, SettingsCreator, block_on\n",
    "\n",
    "# Connexion à DuckDB\n",
    "db_api = DuckDBAPI()\n",
    "\n",
    "# Création des settings Splink\n",
    "settings = SettingsCreator(\n",
    "    link_type=\"link_only\",  # Comparaison entre deux datasets\n",
    "    comparisons=[\n",
    "        cl.JaroWinklerAtThresholds(\n",
    "            \"owner_fullname\", \n",
    "            [0.9, 0.8], \n",
    "        ),\n",
    "        cl.DateOfBirthComparison(\n",
    "            \"owner_birth_date\", \n",
    "            input_is_string=False, \n",
    "            datetime_metrics=[\"year\", \"month\"], \n",
    "            datetime_thresholds=[1, 2],\n",
    "        ),\n",
    "        cl.LevenshteinAtThresholds(\"owner_address\"),\n",
    "        cl.ExactMatch(\"owner_postal_code\"),\n",
    "        cl.ExactMatch(\"owner_city\"),\n",
    "        cl.ExactMatch(\"owner_idpersonne\"),\n",
    "        cl.ExactMatch(\"owner_category_detail\"),\n",
    "    ],\n",
    "    blocking_rules_to_generate_predictions=[\n",
    "        block_on(\"owner_postal_code\"),\n",
    "        block_on(\"owner_city\"),\n",
    "        block_on(\"owner_category_detail\"),\n",
    "    ],\n",
    "    retain_intermediate_calculation_columns=True,\n",
    ")\n",
    "\n",
    "# Instanciation du linker\n",
    "linker = Linker(\n",
    "    input_table_or_tables= [df_prod_owners, df_ff_owners],\n",
    "    settings=settings,\n",
    "    db_api=db_api\n",
    ")\n",
    "\n",
    "# Estimation de la probabilité de correspondance aléatoire\n",
    "linker.training.estimate_probability_two_random_records_match(\n",
    "    deterministic_matching_rules=[\n",
    "        block_on(\"owner_postal_code\",\"owner_birth_date\"),\n",
    "    ],\n",
    "    recall=0.8,\n",
    ")"
   ]
  },
  {
   "cell_type": "code",
   "execution_count": 22,
   "metadata": {},
   "outputs": [
    {
     "data": {
      "application/vnd.jupyter.widget-view+json": {
       "model_id": "d31a1bbb4e024fa5aae8161dcd930662",
       "version_major": 2,
       "version_minor": 0
      },
      "text/plain": [
       "FloatProgress(value=0.0, layout=Layout(width='auto'), style=ProgressStyle(bar_color='black'))"
      ]
     },
     "metadata": {},
     "output_type": "display_data"
    },
    {
     "ename": "SplinkException",
     "evalue": "Error executing the following sql for table `__splink__blocked_id_pairs`(__splink__blocked_id_pairs_004cfdde1):\nCREATE TABLE __splink__blocked_id_pairs_004cfdde1 AS\nWITH __splink__df_concat_with_tf AS (\n  SELECT\n    *\n  FROM __splink__df_concat_with_tf_439d0e2ff\n), __splink__df_concat_with_tf_left AS (\n  SELECT\n    *\n  FROM __splink__df_concat_with_tf\n  WHERE\n    source_dataset = (\n      SELECT\n        MIN(source_dataset)\n      FROM __splink__df_concat_with_tf\n    )\n), __splink__df_concat_with_tf_right AS (\n  SELECT\n    *\n  FROM __splink__df_concat_with_tf\n  WHERE\n    source_dataset = (\n      SELECT\n        MAX(source_dataset)\n      FROM __splink__df_concat_with_tf\n    )\n)\nSELECT\n  '0' AS match_key,\n  l.\"source_dataset\" || '-__-' || l.\"unique_id\" AS join_key_l,\n  r.\"source_dataset\" || '-__-' || r.\"unique_id\" AS join_key_r\nFROM __splink__df_concat_with_tf_left AS l\nINNER JOIN __splink__df_concat_with_tf_right AS r\n  ON (\n    l.\"owner_postal_code\" = r.\"owner_postal_code\"\n  )\nWHERE\n  1 = 1\nUNION ALL\nSELECT\n  '1' AS match_key,\n  l.\"source_dataset\" || '-__-' || l.\"unique_id\" AS join_key_l,\n  r.\"source_dataset\" || '-__-' || r.\"unique_id\" AS join_key_r\nFROM __splink__df_concat_with_tf_left AS l\nINNER JOIN __splink__df_concat_with_tf_right AS r\n  ON (\n    l.\"owner_city\" = r.\"owner_city\"\n  )\nWHERE\n  1 = 1\n  AND NOT (\n    COALESCE((\n      l.\"owner_postal_code\" = r.\"owner_postal_code\"\n    ), FALSE)\n  )\nUNION ALL\nSELECT\n  '2' AS match_key,\n  l.\"source_dataset\" || '-__-' || l.\"unique_id\" AS join_key_l,\n  r.\"source_dataset\" || '-__-' || r.\"unique_id\" AS join_key_r\nFROM __splink__df_concat_with_tf_left AS l\nINNER JOIN __splink__df_concat_with_tf_right AS r\n  ON (\n    l.\"owner_category_detail\" = r.\"owner_category_detail\"\n  )\nWHERE\n  1 = 1\n  AND NOT (\n    COALESCE((\n      l.\"owner_postal_code\" = r.\"owner_postal_code\"\n    ), FALSE)\n    OR COALESCE((\n      l.\"owner_city\" = r.\"owner_city\"\n    ), FALSE)\n  )\n\nError was: Out of Memory Error: failed to offload data block of size 256.0 KiB (293.6 GiB/293.6 GiB used).\nThis limit was set by the 'max_temp_directory_size' setting.\nBy default, this setting utilizes the available disk space on the drive where the 'temp_directory' is located.\nYou can adjust this setting, by using (for example) PRAGMA max_temp_directory_size='10GiB'",
     "output_type": "error",
     "traceback": [
      "\u001b[0;31m---------------------------------------------------------------------------\u001b[0m",
      "\u001b[0;31mOutOfMemoryException\u001b[0m                      Traceback (most recent call last)",
      "File \u001b[0;32m~/anaconda3/envs/py310/lib/python3.10/site-packages/splink/internals/database_api.py:63\u001b[0m, in \u001b[0;36mDatabaseAPI._log_and_run_sql_execution\u001b[0;34m(self, final_sql, templated_name, physical_name)\u001b[0m\n\u001b[1;32m     62\u001b[0m \u001b[38;5;28;01mtry\u001b[39;00m:\n\u001b[0;32m---> 63\u001b[0m     \u001b[38;5;28;01mreturn\u001b[39;00m \u001b[38;5;28;43mself\u001b[39;49m\u001b[38;5;241;43m.\u001b[39;49m\u001b[43m_execute_sql_against_backend\u001b[49m\u001b[43m(\u001b[49m\u001b[43mfinal_sql\u001b[49m\u001b[43m)\u001b[49m\n\u001b[1;32m     64\u001b[0m \u001b[38;5;28;01mexcept\u001b[39;00m \u001b[38;5;167;01mException\u001b[39;00m \u001b[38;5;28;01mas\u001b[39;00m e:\n\u001b[1;32m     65\u001b[0m     \u001b[38;5;66;03m# Parse our SQL through sqlglot to pretty print\u001b[39;00m\n",
      "File \u001b[0;32m~/anaconda3/envs/py310/lib/python3.10/site-packages/splink/internals/duckdb/database_api.py:104\u001b[0m, in \u001b[0;36mDuckDBAPI._execute_sql_against_backend\u001b[0;34m(self, final_sql)\u001b[0m\n\u001b[1;32m    103\u001b[0m \u001b[38;5;28;01mdef\u001b[39;00m \u001b[38;5;21m_execute_sql_against_backend\u001b[39m(\u001b[38;5;28mself\u001b[39m, final_sql: \u001b[38;5;28mstr\u001b[39m) \u001b[38;5;241m-\u001b[39m\u001b[38;5;241m>\u001b[39m duckdb\u001b[38;5;241m.\u001b[39mDuckDBPyRelation:\n\u001b[0;32m--> 104\u001b[0m     \u001b[38;5;28;01mreturn\u001b[39;00m \u001b[38;5;28;43mself\u001b[39;49m\u001b[38;5;241;43m.\u001b[39;49m\u001b[43m_con\u001b[49m\u001b[38;5;241;43m.\u001b[39;49m\u001b[43msql\u001b[49m\u001b[43m(\u001b[49m\u001b[43mfinal_sql\u001b[49m\u001b[43m)\u001b[49m\n",
      "\u001b[0;31mOutOfMemoryException\u001b[0m: Out of Memory Error: failed to offload data block of size 256.0 KiB (293.6 GiB/293.6 GiB used).\nThis limit was set by the 'max_temp_directory_size' setting.\nBy default, this setting utilizes the available disk space on the drive where the 'temp_directory' is located.\nYou can adjust this setting, by using (for example) PRAGMA max_temp_directory_size='10GiB'",
      "\nThe above exception was the direct cause of the following exception:\n",
      "\u001b[0;31mSplinkException\u001b[0m                           Traceback (most recent call last)",
      "Cell \u001b[0;32mIn[22], line 1\u001b[0m\n\u001b[0;32m----> 1\u001b[0m pairwise_predictions \u001b[38;5;241m=\u001b[39m \u001b[43mlinker\u001b[49m\u001b[38;5;241;43m.\u001b[39;49m\u001b[43minference\u001b[49m\u001b[38;5;241;43m.\u001b[39;49m\u001b[43mpredict\u001b[49m\u001b[43m(\u001b[49m\u001b[43mthreshold_match_weight\u001b[49m\u001b[38;5;241;43m=\u001b[39;49m\u001b[38;5;241;43m-\u001b[39;49m\u001b[38;5;241;43m5\u001b[39;49m\u001b[43m)\u001b[49m\n",
      "File \u001b[0;32m~/anaconda3/envs/py310/lib/python3.10/site-packages/splink/internals/linker_components/inference.py:254\u001b[0m, in \u001b[0;36mLinkerInference.predict\u001b[0;34m(self, threshold_match_probability, threshold_match_weight, materialise_after_computing_term_frequencies, materialise_blocked_pairs)\u001b[0m\n\u001b[1;32m    251\u001b[0m pipeline\u001b[38;5;241m.\u001b[39menqueue_list_of_sqls(sqls)\n\u001b[1;32m    253\u001b[0m \u001b[38;5;28;01mif\u001b[39;00m materialise_blocked_pairs:\n\u001b[0;32m--> 254\u001b[0m     blocked_pairs \u001b[38;5;241m=\u001b[39m \u001b[38;5;28;43mself\u001b[39;49m\u001b[38;5;241;43m.\u001b[39;49m\u001b[43m_linker\u001b[49m\u001b[38;5;241;43m.\u001b[39;49m\u001b[43m_db_api\u001b[49m\u001b[38;5;241;43m.\u001b[39;49m\u001b[43msql_pipeline_to_splink_dataframe\u001b[49m\u001b[43m(\u001b[49m\n\u001b[1;32m    255\u001b[0m \u001b[43m        \u001b[49m\u001b[43mpipeline\u001b[49m\n\u001b[1;32m    256\u001b[0m \u001b[43m    \u001b[49m\u001b[43m)\u001b[49m\n\u001b[1;32m    258\u001b[0m     pipeline \u001b[38;5;241m=\u001b[39m CTEPipeline([blocked_pairs, df_concat_with_tf])\n\u001b[1;32m    259\u001b[0m     blocking_time \u001b[38;5;241m=\u001b[39m time\u001b[38;5;241m.\u001b[39mtime() \u001b[38;5;241m-\u001b[39m start_time\n",
      "File \u001b[0;32m~/anaconda3/envs/py310/lib/python3.10/site-packages/splink/internals/database_api.py:200\u001b[0m, in \u001b[0;36mDatabaseAPI.sql_pipeline_to_splink_dataframe\u001b[0;34m(self, pipeline, use_cache)\u001b[0m\n\u001b[1;32m    197\u001b[0m     sql_gen \u001b[38;5;241m=\u001b[39m pipeline\u001b[38;5;241m.\u001b[39mgenerate_cte_pipeline_sql()\n\u001b[1;32m    198\u001b[0m     output_tablename_templated \u001b[38;5;241m=\u001b[39m pipeline\u001b[38;5;241m.\u001b[39moutput_table_name\n\u001b[0;32m--> 200\u001b[0m     splink_dataframe \u001b[38;5;241m=\u001b[39m \u001b[38;5;28;43mself\u001b[39;49m\u001b[38;5;241;43m.\u001b[39;49m\u001b[43msql_to_splink_dataframe_checking_cache\u001b[49m\u001b[43m(\u001b[49m\n\u001b[1;32m    201\u001b[0m \u001b[43m        \u001b[49m\u001b[43msql_gen\u001b[49m\u001b[43m,\u001b[49m\n\u001b[1;32m    202\u001b[0m \u001b[43m        \u001b[49m\u001b[43moutput_tablename_templated\u001b[49m\u001b[43m,\u001b[49m\n\u001b[1;32m    203\u001b[0m \u001b[43m        \u001b[49m\u001b[43muse_cache\u001b[49m\u001b[43m,\u001b[49m\n\u001b[1;32m    204\u001b[0m \u001b[43m    \u001b[49m\u001b[43m)\u001b[49m\n\u001b[1;32m    205\u001b[0m \u001b[38;5;28;01melse\u001b[39;00m:\n\u001b[1;32m    206\u001b[0m     \u001b[38;5;66;03m# In debug mode, we do not pipeline the sql and print the\u001b[39;00m\n\u001b[1;32m    207\u001b[0m     \u001b[38;5;66;03m# results of each part of the pipeline\u001b[39;00m\n\u001b[1;32m    208\u001b[0m     \u001b[38;5;28;01mfor\u001b[39;00m cte \u001b[38;5;129;01min\u001b[39;00m pipeline\u001b[38;5;241m.\u001b[39mctes_pipeline():\n",
      "File \u001b[0;32m~/anaconda3/envs/py310/lib/python3.10/site-packages/splink/internals/database_api.py:171\u001b[0m, in \u001b[0;36mDatabaseAPI.sql_to_splink_dataframe_checking_cache\u001b[0;34m(self, sql, output_tablename_templated, use_cache)\u001b[0m\n\u001b[1;32m    168\u001b[0m         \u001b[38;5;28mprint\u001b[39m(df_pd)  \u001b[38;5;66;03m# noqa: T201\u001b[39;00m\n\u001b[1;32m    170\u001b[0m \u001b[38;5;28;01melse\u001b[39;00m:\n\u001b[0;32m--> 171\u001b[0m     splink_dataframe \u001b[38;5;241m=\u001b[39m \u001b[38;5;28;43mself\u001b[39;49m\u001b[38;5;241;43m.\u001b[39;49m\u001b[43m_sql_to_splink_dataframe\u001b[49m\u001b[43m(\u001b[49m\n\u001b[1;32m    172\u001b[0m \u001b[43m        \u001b[49m\u001b[43msql\u001b[49m\u001b[43m,\u001b[49m\u001b[43m \u001b[49m\u001b[43moutput_tablename_templated\u001b[49m\u001b[43m,\u001b[49m\u001b[43m \u001b[49m\u001b[43mtable_name_hash\u001b[49m\n\u001b[1;32m    173\u001b[0m \u001b[43m    \u001b[49m\u001b[43m)\u001b[49m\n\u001b[1;32m    175\u001b[0m splink_dataframe\u001b[38;5;241m.\u001b[39mcreated_by_splink \u001b[38;5;241m=\u001b[39m \u001b[38;5;28;01mTrue\u001b[39;00m\n\u001b[1;32m    176\u001b[0m splink_dataframe\u001b[38;5;241m.\u001b[39msql_used_to_create \u001b[38;5;241m=\u001b[39m sql\n",
      "File \u001b[0;32m~/anaconda3/envs/py310/lib/python3.10/site-packages/splink/internals/database_api.py:93\u001b[0m, in \u001b[0;36mDatabaseAPI._sql_to_splink_dataframe\u001b[0;34m(self, sql, templated_name, physical_name)\u001b[0m\n\u001b[1;32m     85\u001b[0m \u001b[38;5;250m\u001b[39m\u001b[38;5;124;03m\"\"\"\u001b[39;00m\n\u001b[1;32m     86\u001b[0m \u001b[38;5;124;03mCreate a table in the backend using some given sql\u001b[39;00m\n\u001b[1;32m     87\u001b[0m \n\u001b[0;32m   (...)\u001b[0m\n\u001b[1;32m     90\u001b[0m \u001b[38;5;124;03mReturns a SplinkDataFrame which also uses templated_name\u001b[39;00m\n\u001b[1;32m     91\u001b[0m \u001b[38;5;124;03m\"\"\"\u001b[39;00m\n\u001b[1;32m     92\u001b[0m sql \u001b[38;5;241m=\u001b[39m \u001b[38;5;28mself\u001b[39m\u001b[38;5;241m.\u001b[39m_setup_for_execute_sql(sql, physical_name)\n\u001b[0;32m---> 93\u001b[0m spark_df \u001b[38;5;241m=\u001b[39m \u001b[38;5;28;43mself\u001b[39;49m\u001b[38;5;241;43m.\u001b[39;49m\u001b[43m_log_and_run_sql_execution\u001b[49m\u001b[43m(\u001b[49m\u001b[43msql\u001b[49m\u001b[43m,\u001b[49m\u001b[43m \u001b[49m\u001b[43mtemplated_name\u001b[49m\u001b[43m,\u001b[49m\u001b[43m \u001b[49m\u001b[43mphysical_name\u001b[49m\u001b[43m)\u001b[49m\n\u001b[1;32m     94\u001b[0m output_df \u001b[38;5;241m=\u001b[39m \u001b[38;5;28mself\u001b[39m\u001b[38;5;241m.\u001b[39m_cleanup_for_execute_sql(\n\u001b[1;32m     95\u001b[0m     spark_df, templated_name, physical_name\n\u001b[1;32m     96\u001b[0m )\n\u001b[1;32m     97\u001b[0m \u001b[38;5;28mself\u001b[39m\u001b[38;5;241m.\u001b[39m_intermediate_table_cache\u001b[38;5;241m.\u001b[39mexecuted_queries\u001b[38;5;241m.\u001b[39mappend(output_df)\n",
      "File \u001b[0;32m~/anaconda3/envs/py310/lib/python3.10/site-packages/splink/internals/database_api.py:75\u001b[0m, in \u001b[0;36mDatabaseAPI._log_and_run_sql_execution\u001b[0;34m(self, final_sql, templated_name, physical_name)\u001b[0m\n\u001b[1;32m     72\u001b[0m \u001b[38;5;28;01mexcept\u001b[39;00m \u001b[38;5;167;01mException\u001b[39;00m:\n\u001b[1;32m     73\u001b[0m     \u001b[38;5;28;01mpass\u001b[39;00m\n\u001b[0;32m---> 75\u001b[0m \u001b[38;5;28;01mraise\u001b[39;00m SplinkException(\n\u001b[1;32m     76\u001b[0m     \u001b[38;5;124mf\u001b[39m\u001b[38;5;124m\"\u001b[39m\u001b[38;5;124mError executing the following sql for table \u001b[39m\u001b[38;5;124m\"\u001b[39m\n\u001b[1;32m     77\u001b[0m     \u001b[38;5;124mf\u001b[39m\u001b[38;5;124m\"\u001b[39m\u001b[38;5;124m`\u001b[39m\u001b[38;5;132;01m{\u001b[39;00mtemplated_name\u001b[38;5;132;01m}\u001b[39;00m\u001b[38;5;124m`(\u001b[39m\u001b[38;5;132;01m{\u001b[39;00mphysical_name\u001b[38;5;132;01m}\u001b[39;00m\u001b[38;5;124m):\u001b[39m\u001b[38;5;130;01m\\n\u001b[39;00m\u001b[38;5;132;01m{\u001b[39;00mfinal_sql\u001b[38;5;132;01m}\u001b[39;00m\u001b[38;5;124m\"\u001b[39m\n\u001b[1;32m     78\u001b[0m     \u001b[38;5;124mf\u001b[39m\u001b[38;5;124m\"\u001b[39m\u001b[38;5;130;01m\\n\u001b[39;00m\u001b[38;5;130;01m\\n\u001b[39;00m\u001b[38;5;124mError was: \u001b[39m\u001b[38;5;132;01m{\u001b[39;00me\u001b[38;5;132;01m}\u001b[39;00m\u001b[38;5;124m\"\u001b[39m\n\u001b[1;32m     79\u001b[0m ) \u001b[38;5;28;01mfrom\u001b[39;00m \u001b[38;5;21;01me\u001b[39;00m\n",
      "\u001b[0;31mSplinkException\u001b[0m: Error executing the following sql for table `__splink__blocked_id_pairs`(__splink__blocked_id_pairs_004cfdde1):\nCREATE TABLE __splink__blocked_id_pairs_004cfdde1 AS\nWITH __splink__df_concat_with_tf AS (\n  SELECT\n    *\n  FROM __splink__df_concat_with_tf_439d0e2ff\n), __splink__df_concat_with_tf_left AS (\n  SELECT\n    *\n  FROM __splink__df_concat_with_tf\n  WHERE\n    source_dataset = (\n      SELECT\n        MIN(source_dataset)\n      FROM __splink__df_concat_with_tf\n    )\n), __splink__df_concat_with_tf_right AS (\n  SELECT\n    *\n  FROM __splink__df_concat_with_tf\n  WHERE\n    source_dataset = (\n      SELECT\n        MAX(source_dataset)\n      FROM __splink__df_concat_with_tf\n    )\n)\nSELECT\n  '0' AS match_key,\n  l.\"source_dataset\" || '-__-' || l.\"unique_id\" AS join_key_l,\n  r.\"source_dataset\" || '-__-' || r.\"unique_id\" AS join_key_r\nFROM __splink__df_concat_with_tf_left AS l\nINNER JOIN __splink__df_concat_with_tf_right AS r\n  ON (\n    l.\"owner_postal_code\" = r.\"owner_postal_code\"\n  )\nWHERE\n  1 = 1\nUNION ALL\nSELECT\n  '1' AS match_key,\n  l.\"source_dataset\" || '-__-' || l.\"unique_id\" AS join_key_l,\n  r.\"source_dataset\" || '-__-' || r.\"unique_id\" AS join_key_r\nFROM __splink__df_concat_with_tf_left AS l\nINNER JOIN __splink__df_concat_with_tf_right AS r\n  ON (\n    l.\"owner_city\" = r.\"owner_city\"\n  )\nWHERE\n  1 = 1\n  AND NOT (\n    COALESCE((\n      l.\"owner_postal_code\" = r.\"owner_postal_code\"\n    ), FALSE)\n  )\nUNION ALL\nSELECT\n  '2' AS match_key,\n  l.\"source_dataset\" || '-__-' || l.\"unique_id\" AS join_key_l,\n  r.\"source_dataset\" || '-__-' || r.\"unique_id\" AS join_key_r\nFROM __splink__df_concat_with_tf_left AS l\nINNER JOIN __splink__df_concat_with_tf_right AS r\n  ON (\n    l.\"owner_category_detail\" = r.\"owner_category_detail\"\n  )\nWHERE\n  1 = 1\n  AND NOT (\n    COALESCE((\n      l.\"owner_postal_code\" = r.\"owner_postal_code\"\n    ), FALSE)\n    OR COALESCE((\n      l.\"owner_city\" = r.\"owner_city\"\n    ), FALSE)\n  )\n\nError was: Out of Memory Error: failed to offload data block of size 256.0 KiB (293.6 GiB/293.6 GiB used).\nThis limit was set by the 'max_temp_directory_size' setting.\nBy default, this setting utilizes the available disk space on the drive where the 'temp_directory' is located.\nYou can adjust this setting, by using (for example) PRAGMA max_temp_directory_size='10GiB'"
     ]
    }
   ],
   "source": [
    "pairwise_predictions = linker.inference.predict(threshold_match_weight=-5)"
   ]
  },
  {
   "cell_type": "code",
   "execution_count": 17,
   "metadata": {},
   "outputs": [
    {
     "name": "stdout",
     "output_type": "stream",
     "text": [
      "unique_id\n",
      "owner_idpersonne\n",
      "Can only use .str accessor with string values!\n",
      "owner_birth_date\n"
     ]
    }
   ],
   "source": [
    "for col in df_ff_owners.columns:\n",
    "    try:\n",
    "        if df_ff_owners[col].str.contains(\"76MBK6P6\").any():\n",
    "            print(col)\n",
    "    except Exception as e:\n",
    "        print(e)\n",
    "\n",
    "        print(col)\n",
    "        pass"
   ]
  },
  {
   "cell_type": "code",
   "execution_count": 19,
   "metadata": {},
   "outputs": [
    {
     "data": {
      "text/plain": [
       "0          14MCFH2S\n",
       "1          14MCKPQW\n",
       "2          14MCGRC9\n",
       "3          14MCGK4P\n",
       "4          14MCKRNN\n",
       "             ...   \n",
       "4195449    97MBC2KQ\n",
       "4195450    97MBDFQS\n",
       "4195451    97MBC3R5\n",
       "4195452    97MBC42N\n",
       "4195453    97MBDXTH\n",
       "Name: owner_idpersonne, Length: 4195454, dtype: object"
      ]
     },
     "execution_count": 19,
     "metadata": {},
     "output_type": "execute_result"
    }
   ],
   "source": [
    "df_ff_owners.owner_idpersonne"
   ]
  },
  {
   "cell_type": "code",
   "execution_count": 18,
   "metadata": {},
   "outputs": [
    {
     "data": {
      "text/html": [
       "<div>\n",
       "<style scoped>\n",
       "    .dataframe tbody tr th:only-of-type {\n",
       "        vertical-align: middle;\n",
       "    }\n",
       "\n",
       "    .dataframe tbody tr th {\n",
       "        vertical-align: top;\n",
       "    }\n",
       "\n",
       "    .dataframe thead th {\n",
       "        text-align: right;\n",
       "    }\n",
       "</style>\n",
       "<table border=\"1\" class=\"dataframe\">\n",
       "  <thead>\n",
       "    <tr style=\"text-align: right;\">\n",
       "      <th></th>\n",
       "      <th>unique_id</th>\n",
       "      <th>owner_idpersonne</th>\n",
       "      <th>owner_address</th>\n",
       "      <th>owner_postal_code</th>\n",
       "      <th>owner_birth_date</th>\n",
       "      <th>owner_lastname</th>\n",
       "      <th>owner_firstname</th>\n",
       "      <th>owner_fullname</th>\n",
       "      <th>owner_category_detail</th>\n",
       "      <th>owner_city</th>\n",
       "    </tr>\n",
       "  </thead>\n",
       "  <tbody>\n",
       "    <tr>\n",
       "      <th>614400</th>\n",
       "      <td>76MBK6P6</td>\n",
       "      <td>76MBK6P6</td>\n",
       "      <td>None</td>\n",
       "      <td>76290</td>\n",
       "      <td>1973-03-07</td>\n",
       "      <td>CAUVIGNY</td>\n",
       "      <td>BENOIT</td>\n",
       "      <td>CAUVIGNY/BENOIT PASCAL JEROME</td>\n",
       "      <td>Particulier</td>\n",
       "      <td>76290 MONTIVILLIERS</td>\n",
       "    </tr>\n",
       "  </tbody>\n",
       "</table>\n",
       "</div>"
      ],
      "text/plain": [
       "       unique_id owner_idpersonne owner_address owner_postal_code  \\\n",
       "614400  76MBK6P6         76MBK6P6          None             76290   \n",
       "\n",
       "       owner_birth_date owner_lastname owner_firstname  \\\n",
       "614400       1973-03-07       CAUVIGNY          BENOIT   \n",
       "\n",
       "                       owner_fullname owner_category_detail  \\\n",
       "614400  CAUVIGNY/BENOIT PASCAL JEROME           Particulier   \n",
       "\n",
       "                 owner_city  \n",
       "614400  76290 MONTIVILLIERS  "
      ]
     },
     "execution_count": 18,
     "metadata": {},
     "output_type": "execute_result"
    }
   ],
   "source": [
    "\n",
    "df_ff_owners.query(\"unique_id == '76MBK6P6'\")"
   ]
  },
  {
   "cell_type": "code",
   "execution_count": null,
   "metadata": {},
   "outputs": [
    {
     "data": {
      "text/plain": [
       "unique_id                                      object\n",
       "owner_fullname                                 object\n",
       "owner_birth_date         datetime64[us, Europe/Paris]\n",
       "owner_address                                  object\n",
       "owner_category_detail                          object\n",
       "owner_idpersonne                               object\n",
       "owner_city                                     object\n",
       "owner_postal_code                              object\n",
       "dtype: object"
      ]
     },
     "execution_count": 11,
     "metadata": {},
     "output_type": "execute_result"
    }
   ],
   "source": [
    "df_prod_owners.dtypes"
   ]
  },
  {
   "cell_type": "code",
   "execution_count": 12,
   "metadata": {},
   "outputs": [
    {
     "data": {
      "text/plain": [
       "unique_id                        object\n",
       "owner_idpersonne                 object\n",
       "owner_address                    object\n",
       "owner_postal_code                object\n",
       "owner_birth_date         datetime64[us]\n",
       "owner_lastname                   object\n",
       "owner_firstname                  object\n",
       "owner_fullname                   object\n",
       "owner_category_detail            object\n",
       "owner_city                       object\n",
       "dtype: object"
      ]
     },
     "execution_count": 12,
     "metadata": {},
     "output_type": "execute_result"
    }
   ],
   "source": [
    "≈.dtypes"
   ]
  },
  {
   "cell_type": "code",
   "execution_count": 9,
   "metadata": {},
   "outputs": [
    {
     "data": {
      "text/plain": [
       "Index(['ff_owner_idpersonne', 'ff_owner_idprodroit', 'ff_owner_idprocpte',\n",
       "       'ff_owner_address_1', 'ff_owner_address_2', 'ff_owner_address_3',\n",
       "       'ff_owner_address_4', 'ff_owner_postal_code', 'ff_owner_birth_date',\n",
       "       'ff_owner_lastname', 'ff_owner_firstname', 'ff_owner_city',\n",
       "       'ff_owner_fullname', 'ff_owner_category', 'ff_owner_category_text'],\n",
       "      dtype='object')"
      ]
     },
     "execution_count": 9,
     "metadata": {},
     "output_type": "execute_result"
    }
   ],
   "source": [
    "df_ff_owners.columns"
   ]
  },
  {
   "cell_type": "code",
   "execution_count": 10,
   "metadata": {},
   "outputs": [
    {
     "data": {
      "text/html": [
       "<div>\n",
       "<style scoped>\n",
       "    .dataframe tbody tr th:only-of-type {\n",
       "        vertical-align: middle;\n",
       "    }\n",
       "\n",
       "    .dataframe tbody tr th {\n",
       "        vertical-align: top;\n",
       "    }\n",
       "\n",
       "    .dataframe thead th {\n",
       "        text-align: right;\n",
       "    }\n",
       "</style>\n",
       "<table border=\"1\" class=\"dataframe\">\n",
       "  <thead>\n",
       "    <tr style=\"text-align: right;\">\n",
       "      <th></th>\n",
       "      <th>ff_owner_idpersonne</th>\n",
       "      <th>ff_owner_idprodroit</th>\n",
       "      <th>ff_owner_idprocpte</th>\n",
       "      <th>ff_owner_address_1</th>\n",
       "      <th>ff_owner_address_2</th>\n",
       "      <th>ff_owner_address_3</th>\n",
       "      <th>ff_owner_address_4</th>\n",
       "      <th>ff_owner_postal_code</th>\n",
       "      <th>ff_owner_birth_date</th>\n",
       "      <th>ff_owner_lastname</th>\n",
       "      <th>ff_owner_firstname</th>\n",
       "      <th>ff_owner_city</th>\n",
       "      <th>ff_owner_fullname</th>\n",
       "      <th>ff_owner_category</th>\n",
       "      <th>ff_owner_category_text</th>\n",
       "    </tr>\n",
       "  </thead>\n",
       "  <tbody>\n",
       "    <tr>\n",
       "      <th>0</th>\n",
       "      <td>11PBBJN2</td>\n",
       "      <td>[11069+0815602]</td>\n",
       "      <td>[11069+08156]</td>\n",
       "      <td>CITE ADMINIST  BT E</td>\n",
       "      <td>0000 BD  ARMAND DUPORTAL</td>\n",
       "      <td>None</td>\n",
       "      <td>31000 TOULOUSE</td>\n",
       "      <td>31000</td>\n",
       "      <td>NaT</td>\n",
       "      <td>None</td>\n",
       "      <td>None</td>\n",
       "      <td>31000 TOULOUSE</td>\n",
       "      <td>D R DES SERVICES PENITENTIAIRES</td>\n",
       "      <td>P1b</td>\n",
       "      <td>Etat et collectivité territoriale</td>\n",
       "    </tr>\n",
       "    <tr>\n",
       "      <th>1</th>\n",
       "      <td>11PBDTG2</td>\n",
       "      <td>[11069+0820001]</td>\n",
       "      <td>[11069+08200]</td>\n",
       "      <td>None</td>\n",
       "      <td>0067 RUE DE VERDUN</td>\n",
       "      <td>None</td>\n",
       "      <td>11000 CARCASSONNE</td>\n",
       "      <td>11000</td>\n",
       "      <td>NaT</td>\n",
       "      <td>None</td>\n",
       "      <td>None</td>\n",
       "      <td>11000 CARCASSONNE</td>\n",
       "      <td>SCI DES JARDINS DE CERES</td>\n",
       "      <td>G1a</td>\n",
       "      <td>SCI, Copropriété, Autres personnes morales</td>\n",
       "    </tr>\n",
       "    <tr>\n",
       "      <th>2</th>\n",
       "      <td>11PBDTNZ</td>\n",
       "      <td>[11069+0821801]</td>\n",
       "      <td>[11069+08218]</td>\n",
       "      <td>None</td>\n",
       "      <td>0024 BD  JEAN JAURES</td>\n",
       "      <td>None</td>\n",
       "      <td>11620 VILLEMOUSTAUSSOU</td>\n",
       "      <td>11620</td>\n",
       "      <td>NaT</td>\n",
       "      <td>None</td>\n",
       "      <td>None</td>\n",
       "      <td>11620 VILLEMOUSTAUSSOU</td>\n",
       "      <td>ARTEAEDIFICANDI</td>\n",
       "      <td>F7b</td>\n",
       "      <td>Promoteur, Investisseur privé</td>\n",
       "    </tr>\n",
       "    <tr>\n",
       "      <th>3</th>\n",
       "      <td>11PBDVLB</td>\n",
       "      <td>[11069+0829601]</td>\n",
       "      <td>[11069+08296]</td>\n",
       "      <td>None</td>\n",
       "      <td>0008 RUE DU TRENCAVEL</td>\n",
       "      <td>None</td>\n",
       "      <td>11600 MALVES EN MINERVOIS</td>\n",
       "      <td>11600</td>\n",
       "      <td>NaT</td>\n",
       "      <td>None</td>\n",
       "      <td>None</td>\n",
       "      <td>11600 MALVES EN MINERVOIS</td>\n",
       "      <td>AQUILA SUD IMMO</td>\n",
       "      <td>G1a</td>\n",
       "      <td>SCI, Copropriété, Autres personnes morales</td>\n",
       "    </tr>\n",
       "    <tr>\n",
       "      <th>4</th>\n",
       "      <td>11PBDVL9</td>\n",
       "      <td>[11069+0830001]</td>\n",
       "      <td>[11069+08300]</td>\n",
       "      <td>None</td>\n",
       "      <td>0000 DOM DU SIESTOU</td>\n",
       "      <td>None</td>\n",
       "      <td>11800 LAURE MINERVOIS</td>\n",
       "      <td>11800</td>\n",
       "      <td>NaT</td>\n",
       "      <td>None</td>\n",
       "      <td>None</td>\n",
       "      <td>11800 LAURE MINERVOIS</td>\n",
       "      <td>SCI DU MOULIN</td>\n",
       "      <td>G1a</td>\n",
       "      <td>SCI, Copropriété, Autres personnes morales</td>\n",
       "    </tr>\n",
       "  </tbody>\n",
       "</table>\n",
       "</div>"
      ],
      "text/plain": [
       "  ff_owner_idpersonne ff_owner_idprodroit ff_owner_idprocpte  \\\n",
       "0            11PBBJN2     [11069+0815602]      [11069+08156]   \n",
       "1            11PBDTG2     [11069+0820001]      [11069+08200]   \n",
       "2            11PBDTNZ     [11069+0821801]      [11069+08218]   \n",
       "3            11PBDVLB     [11069+0829601]      [11069+08296]   \n",
       "4            11PBDVL9     [11069+0830001]      [11069+08300]   \n",
       "\n",
       "    ff_owner_address_1        ff_owner_address_2 ff_owner_address_3  \\\n",
       "0  CITE ADMINIST  BT E  0000 BD  ARMAND DUPORTAL               None   \n",
       "1                 None        0067 RUE DE VERDUN               None   \n",
       "2                 None      0024 BD  JEAN JAURES               None   \n",
       "3                 None     0008 RUE DU TRENCAVEL               None   \n",
       "4                 None       0000 DOM DU SIESTOU               None   \n",
       "\n",
       "          ff_owner_address_4 ff_owner_postal_code ff_owner_birth_date  \\\n",
       "0             31000 TOULOUSE                31000                 NaT   \n",
       "1          11000 CARCASSONNE                11000                 NaT   \n",
       "2     11620 VILLEMOUSTAUSSOU                11620                 NaT   \n",
       "3  11600 MALVES EN MINERVOIS                11600                 NaT   \n",
       "4      11800 LAURE MINERVOIS                11800                 NaT   \n",
       "\n",
       "  ff_owner_lastname ff_owner_firstname              ff_owner_city  \\\n",
       "0              None               None             31000 TOULOUSE   \n",
       "1              None               None          11000 CARCASSONNE   \n",
       "2              None               None     11620 VILLEMOUSTAUSSOU   \n",
       "3              None               None  11600 MALVES EN MINERVOIS   \n",
       "4              None               None      11800 LAURE MINERVOIS   \n",
       "\n",
       "                 ff_owner_fullname ff_owner_category  \\\n",
       "0  D R DES SERVICES PENITENTIAIRES               P1b   \n",
       "1         SCI DES JARDINS DE CERES               G1a   \n",
       "2                  ARTEAEDIFICANDI               F7b   \n",
       "3                  AQUILA SUD IMMO               G1a   \n",
       "4                    SCI DU MOULIN               G1a   \n",
       "\n",
       "                       ff_owner_category_text  \n",
       "0           Etat et collectivité territoriale  \n",
       "1  SCI, Copropriété, Autres personnes morales  \n",
       "2               Promoteur, Investisseur privé  \n",
       "3  SCI, Copropriété, Autres personnes morales  \n",
       "4  SCI, Copropriété, Autres personnes morales  "
      ]
     },
     "execution_count": 10,
     "metadata": {},
     "output_type": "execute_result"
    }
   ],
   "source": [
    "df_ff_owners.head()"
   ]
  },
  {
   "cell_type": "code",
   "execution_count": null,
   "metadata": {},
   "outputs": [],
   "source": []
  }
 ],
 "metadata": {
  "kernelspec": {
   "display_name": "py310",
   "language": "python",
   "name": "python3"
  },
  "language_info": {
   "codemirror_mode": {
    "name": "ipython",
    "version": 3
   },
   "file_extension": ".py",
   "mimetype": "text/x-python",
   "name": "python",
   "nbconvert_exporter": "python",
   "pygments_lexer": "ipython3",
   "version": "3.10.15"
  }
 },
 "nbformat": 4,
 "nbformat_minor": 2
}
