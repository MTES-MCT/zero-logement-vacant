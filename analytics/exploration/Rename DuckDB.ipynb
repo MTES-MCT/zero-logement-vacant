{
 "cells": [
  {
   "cell_type": "code",
   "execution_count": 4,
   "id": "8fc36e4a",
   "metadata": {},
   "outputs": [],
   "source": [
    "import duckdb\n",
    "from tqdm.auto import tqdm \n",
    "\n",
    "connection_destination = duckdb.connect(database=\"../dbt/metabase.duckdb\")"
   ]
  },
  {
   "cell_type": "code",
   "execution_count": 5,
   "id": "5d01b748",
   "metadata": {},
   "outputs": [],
   "source": [
    "translation_mapping = {\n",
    "    \"marts_common_cities\": \"infra_municipalities\",\n",
    "    \"marts_common_morphology\": \"infra_municipalities_morphology\",\n",
    "    \"marts_production_campaigns\": \"prod_campaigns\",\n",
    "    \"marts_production_establishments\": \"prod_establishments\",\n",
    "    \"marts_production_groups\": \"prod_groups\",\n",
    "    \"marts_production_housing\": \"prod_housing\",\n",
    "    \"marts_production_owners\": \"prod_owners\",\n",
    "    \"marts_production_users\": \"prod_users\",\n",
    "    \"marts_public_establishments_morphology\": \"stats_establishments_morphology_annuals\",\n",
    "    \"marts_public_establishments_morphology_unpivoted\": \"stats_establishments_morphology_stocks\",\n",
    "    \"marts_stats_monthly_global\": \"stats_activity_monthly\",\n",
    "}"
   ]
  },
  {
   "cell_type": "code",
   "execution_count": 7,
   "id": "370a0a85",
   "metadata": {},
   "outputs": [
    {
     "data": {
      "application/vnd.jupyter.widget-view+json": {
       "model_id": "dda952f9293948aea2ad242a1c946a4b",
       "version_major": 2,
       "version_minor": 0
      },
      "text/plain": [
       "Renomage des tables:   0%|          | 0/11 [00:00<?, ?it/s]"
      ]
     },
     "metadata": {},
     "output_type": "display_data"
    }
   ],
   "source": [
    "for old_value, new_value in tqdm(translation_mapping.items(), desc=\"Renomage des tables\"):\n",
    "    query_write = f'ALTER TABLE IF EXISTS {new_value} RENAME TO {old_value}'\n",
    "    connection_destination.execute(query_write)\n",
    "connection_destination.close()"
   ]
  },
  {
   "cell_type": "code",
   "execution_count": null,
   "id": "2780ae66",
   "metadata": {},
   "outputs": [],
   "source": []
  }
 ],
 "metadata": {
  "kernelspec": {
   "display_name": "py310",
   "language": "python",
   "name": "python3"
  },
  "language_info": {
   "codemirror_mode": {
    "name": "ipython",
    "version": 3
   },
   "file_extension": ".py",
   "mimetype": "text/x-python",
   "name": "python",
   "nbconvert_exporter": "python",
   "pygments_lexer": "ipython3",
   "version": "3.10.15"
  }
 },
 "nbformat": 4,
 "nbformat_minor": 5
}
