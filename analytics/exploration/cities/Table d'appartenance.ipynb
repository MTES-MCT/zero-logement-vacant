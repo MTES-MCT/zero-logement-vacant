{
 "cells": [
  {
   "cell_type": "code",
   "execution_count": 1,
   "metadata": {},
   "outputs": [],
   "source": [
    "import pandas as pd"
   ]
  },
  {
   "cell_type": "code",
   "execution_count": 2,
   "metadata": {},
   "outputs": [],
   "source": [
    "df_com = pd.read_csv(\"/Users/raphaelcourivaud/Downloads/table-appartenance-geo-communes-2024.csv\", sep=\";\").dropna()\n",
    "df_zones = pd.read_csv(\"/Users/raphaelcourivaud/Downloads/table-appartenance-geo-communes-2024_2.csv\", sep=\";\").dropna()"
   ]
  },
  {
   "cell_type": "code",
   "execution_count": 38,
   "metadata": {},
   "outputs": [],
   "source": [
    "df_results = df_com[[\"CODGEO\", \"UU2020\", \"EPCI\"]].merge(\n",
    "    df_zones.query(\"NIVGEO =='UU2020'\")[[\"CODGEO\", \"LIBGEO\"]].rename(columns={\"LIBGEO\": \"UU_name\", \"CODGEO\": \"UU_code\"}),\n",
    "      left_on=\"UU2020\", right_on=\"UU_code\", how=\"left\"\n",
    "    ).merge(\n",
    "        df_zones.query(\"NIVGEO =='EPCI' \")[[\"CODGEO\", \"LIBGEO\"]].rename(columns={\"LIBGEO\": \"EPCI_name\", \"CODGEO\": \"EPCI_code\"}), \n",
    "        left_on=\"EPCI\", right_on=\"EPCI_code\", how=\"left\"\n",
    "        )\n",
    "\n"
   ]
  },
  {
   "cell_type": "code",
   "execution_count": 43,
   "metadata": {},
   "outputs": [
    {
     "data": {
      "text/plain": [
       "Index(['CODGEO', 'UU2020', 'EPCI', 'UU_code', 'UU_name', 'EPCI_code',\n",
       "       'EPCI_name'],\n",
       "      dtype='object')"
      ]
     },
     "execution_count": 43,
     "metadata": {},
     "output_type": "execute_result"
    }
   ],
   "source": [
    "df_results.columns"
   ]
  },
  {
   "cell_type": "code",
   "execution_count": 41,
   "metadata": {},
   "outputs": [],
   "source": [
    "df_results.to_csv(\"table_appartenance_geo_communes_2024.csv\", index=False)"
   ]
  },
  {
   "cell_type": "code",
   "execution_count": null,
   "metadata": {},
   "outputs": [],
   "source": []
  }
 ],
 "metadata": {
  "kernelspec": {
   "display_name": "py310",
   "language": "python",
   "name": "python3"
  },
  "language_info": {
   "codemirror_mode": {
    "name": "ipython",
    "version": 3
   },
   "file_extension": ".py",
   "mimetype": "text/x-python",
   "name": "python",
   "nbconvert_exporter": "python",
   "pygments_lexer": "ipython3",
   "version": "3.10.9"
  }
 },
 "nbformat": 4,
 "nbformat_minor": 2
}
