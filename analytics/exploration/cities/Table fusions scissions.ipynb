{
 "cells": [
  {
   "cell_type": "code",
   "execution_count": 3,
   "metadata": {},
   "outputs": [],
   "source": [
    "import pandas as pd"
   ]
  },
  {
   "cell_type": "code",
   "execution_count": 6,
   "metadata": {},
   "outputs": [],
   "source": [
    "df_scissions = pd.read_excel(\"/Users/raphaelcourivaud/Downloads/table_passage_annuelle_2024.xlsx\", sheet_name=\"Liste des scissions\", skiprows=5)\n",
    "\n",
    "df_fusions = pd.read_excel(\"/Users/raphaelcourivaud/Downloads/table_passage_annuelle_2024.xlsx\", sheet_name=\"Liste des fusions\", skiprows=5)\n"
   ]
  },
  {
   "cell_type": "code",
   "execution_count": 9,
   "metadata": {},
   "outputs": [],
   "source": [
    "df_scissions.to_csv(\"./../../dbt/seeds/scissions.csv\", index=False)\n",
    "df_fusions.to_csv(\"./../../dbt/seeds/fusions.csv\", index=False)"
   ]
  }
 ],
 "metadata": {
  "kernelspec": {
   "display_name": "py310",
   "language": "python",
   "name": "python3"
  },
  "language_info": {
   "codemirror_mode": {
    "name": "ipython",
    "version": 3
   },
   "file_extension": ".py",
   "mimetype": "text/x-python",
   "name": "python",
   "nbconvert_exporter": "python",
   "pygments_lexer": "ipython3",
   "version": "3.10.9"
  }
 },
 "nbformat": 4,
 "nbformat_minor": 2
}
