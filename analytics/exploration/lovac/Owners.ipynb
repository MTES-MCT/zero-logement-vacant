{
 "cells": [
  {
   "cell_type": "code",
   "execution_count": 1,
   "id": "df5bf47f",
   "metadata": {},
   "outputs": [],
   "source": [
    "import pandas as pd"
   ]
  },
  {
   "cell_type": "code",
   "execution_count": 112,
   "id": "15a9e8ad",
   "metadata": {},
   "outputs": [],
   "source": [
    "biscom_owners_cols = [\"Proprietaire\", \"Gestre Ppre\", \"Adresse1\", \"Adresse2\", \"Adresse3\", \"Adresse4\"]"
   ]
  },
  {
   "cell_type": "code",
   "execution_count": 107,
   "id": "9f109812",
   "metadata": {},
   "outputs": [],
   "source": [
    "file_name =  \"data/zlovac_2023.csv\"\n",
    "\n",
    "df_ = pd.read_csv(file_name, nrows=100)\n"
   ]
  },
  {
   "cell_type": "code",
   "execution_count": 40,
   "id": "b25be57e",
   "metadata": {},
   "outputs": [],
   "source": [
    "ff_owners_columns = [\n",
    " 'Ff Jdatnss 1',\n",
    " 'Ff Ddenom 1',\n",
    " 'Ff Dlign3 1',\n",
    " 'Ff Dlign4 1',\n",
    " 'Ff Dlign5 1',\n",
    " 'Ff Dlign6 1',\n",
    " 'Ff Jdatnss 2',\n",
    " 'Ff Ddenom 2',\n",
    " 'Ff Dlign3 2',\n",
    " 'Ff Dlign4 2',\n",
    " 'Ff Dlign5 2',\n",
    " 'Ff Dlign6 2',\n",
    " 'Ff Jdatnss 3',\n",
    " 'Ff Ddenom 3',\n",
    " 'Ff Dlign3 3',\n",
    " 'Ff Dlign4 3',\n",
    " 'Ff Dlign5 3',\n",
    " 'Ff Dlign6 3',\n",
    " 'Ff Jdatnss 4',\n",
    " 'Ff Ddenom 4',\n",
    " 'Ff Dlign3 4',\n",
    " 'Ff Dlign4 4',\n",
    " 'Ff Dlign5 4',\n",
    " 'Ff Dlign6 4',\n",
    " 'Ff Jdatnss 5',\n",
    " 'Ff Ddenom 5',\n",
    " 'Ff Dlign3 5',\n",
    " 'Ff Dlign4 5',\n",
    " 'Ff Dlign5 5',\n",
    " 'Ff Dlign6 5',\n",
    " 'Ff Jdatnss 6',\n",
    " 'Ff Ddenom 6',\n",
    " 'Ff Dlign3 6',\n",
    " 'Ff Dlign4 6',\n",
    " 'Ff Dlign5 6',\n",
    " 'Ff Dlign6 6'\n",
    "]"
   ]
  },
  {
   "cell_type": "code",
   "execution_count": 41,
   "id": "9ecfaec2",
   "metadata": {},
   "outputs": [
    {
     "data": {
      "text/html": [
       "<div>\n",
       "<style scoped>\n",
       "    .dataframe tbody tr th:only-of-type {\n",
       "        vertical-align: middle;\n",
       "    }\n",
       "\n",
       "    .dataframe tbody tr th {\n",
       "        vertical-align: top;\n",
       "    }\n",
       "\n",
       "    .dataframe thead th {\n",
       "        text-align: right;\n",
       "    }\n",
       "</style>\n",
       "<table border=\"1\" class=\"dataframe\">\n",
       "  <thead>\n",
       "    <tr style=\"text-align: right;\">\n",
       "      <th></th>\n",
       "      <th>Proprietaire</th>\n",
       "      <th>Adresse1</th>\n",
       "      <th>Adresse2</th>\n",
       "      <th>Adresse3</th>\n",
       "      <th>Adresse4</th>\n",
       "    </tr>\n",
       "  </thead>\n",
       "  <tbody>\n",
       "    <tr>\n",
       "      <th>0</th>\n",
       "      <td>NaN</td>\n",
       "      <td>61C CHE DES BAMBOUS</td>\n",
       "      <td>NaN</td>\n",
       "      <td>NaN</td>\n",
       "      <td>01340 ATTIGNAT</td>\n",
       "    </tr>\n",
       "    <tr>\n",
       "      <th>1</th>\n",
       "      <td>NaN</td>\n",
       "      <td>383B CHE DES CHAMPAGNES</td>\n",
       "      <td>NaN</td>\n",
       "      <td>NaN</td>\n",
       "      <td>38890 SALAGNON</td>\n",
       "    </tr>\n",
       "    <tr>\n",
       "      <th>2</th>\n",
       "      <td>NaN</td>\n",
       "      <td>292 ALL DES HIRONDELLES</td>\n",
       "      <td>NaN</td>\n",
       "      <td>NaN</td>\n",
       "      <td>01440 VIRIAT</td>\n",
       "    </tr>\n",
       "    <tr>\n",
       "      <th>3</th>\n",
       "      <td>NaN</td>\n",
       "      <td>356 GRANDE RUE</td>\n",
       "      <td>NaN</td>\n",
       "      <td>NaN</td>\n",
       "      <td>01370 BENY</td>\n",
       "    </tr>\n",
       "    <tr>\n",
       "      <th>4</th>\n",
       "      <td>NaN</td>\n",
       "      <td>165 RUE DU LAVOIR</td>\n",
       "      <td>NaN</td>\n",
       "      <td>NaN</td>\n",
       "      <td>01600 REYRIEUX</td>\n",
       "    </tr>\n",
       "  </tbody>\n",
       "</table>\n",
       "</div>"
      ],
      "text/plain": [
       "  Proprietaire                 Adresse1 Adresse2 Adresse3        Adresse4\n",
       "0          NaN      61C CHE DES BAMBOUS      NaN      NaN  01340 ATTIGNAT\n",
       "1          NaN  383B CHE DES CHAMPAGNES      NaN      NaN  38890 SALAGNON\n",
       "2          NaN  292 ALL DES HIRONDELLES      NaN      NaN    01440 VIRIAT\n",
       "3          NaN           356 GRANDE RUE      NaN      NaN      01370 BENY\n",
       "4          NaN        165 RUE DU LAVOIR      NaN      NaN  01600 REYRIEUX"
      ]
     },
     "execution_count": 41,
     "metadata": {},
     "output_type": "execute_result"
    }
   ],
   "source": [
    "df[biscom_owners_cols].head()"
   ]
  },
  {
   "cell_type": "code",
   "execution_count": null,
   "id": "4d3454e1",
   "metadata": {},
   "outputs": [],
   "source": []
  },
  {
   "cell_type": "code",
   "execution_count": 42,
   "id": "afedf553",
   "metadata": {},
   "outputs": [],
   "source": [
    "from collections import defaultdict\n",
    "\n",
    "\n",
    "ff_owners_columns_separated = defaultdict(list)\n",
    "for col in ff_owners_columns:\n",
    "    index = col.split(\" \")[-1]\n",
    "    ff_owners_columns_separated[index].append(col)"
   ]
  },
  {
   "cell_type": "code",
   "execution_count": null,
   "id": "d836dcc6",
   "metadata": {},
   "outputs": [],
   "source": [
    "pd.to_datetime()"
   ]
  },
  {
   "cell_type": "code",
   "execution_count": 90,
   "id": "0bed79cc",
   "metadata": {},
   "outputs": [],
   "source": [
    "import numpy as np\n",
    "\n",
    "\n",
    "def clean_df_ff(df):\n",
    "    address_cols = df.filter(regex=\"lign\").columns\n",
    "    name_col = df.filter(regex=\"denom\").columns[0]\n",
    "    date_col = df.filter(regex=\"datnss\").columns[0]\n",
    "    \n",
    "    df[\"address\"] = np.add.reduce(df[address_cols].fillna(\"\") + \" \", axis=1)\n",
    "    df[\"name\"] = df[name_col]\n",
    "    df[\"birth_date\"] = pd.to_datetime(df[date_col], errors=\"ignore\", dayfirst=True)\n",
    "    return df[[\"address\", \"name\", \"birth_date\"]]\n",
    "    "
   ]
  },
  {
   "cell_type": "code",
   "execution_count": 91,
   "id": "e0191d64",
   "metadata": {},
   "outputs": [],
   "source": [
    "from tqdm.auto import tqdm"
   ]
  },
  {
   "cell_type": "code",
   "execution_count": 92,
   "id": "6fa51c82",
   "metadata": {},
   "outputs": [
    {
     "data": {
      "application/vnd.jupyter.widget-view+json": {
       "model_id": "8fd93451552643a4964797befdf5a021",
       "version_major": 2,
       "version_minor": 0
      },
      "text/plain": [
       "  0%|          | 0/6 [00:00<?, ?it/s]"
      ]
     },
     "metadata": {},
     "output_type": "display_data"
    },
    {
     "name": "stderr",
     "output_type": "stream",
     "text": [
      "/var/folders/_v/10w6h3595jb25htv66pv5fq80000gn/T/ipykernel_64067/3472805937.py:4: DtypeWarning: Columns (73) have mixed types. Specify dtype option on import or set low_memory=False.\n",
      "  df_owner_ff = pd.read_csv(\"data/zlovac_2023.csv\", usecols=owner_ff_cols)\n",
      "/var/folders/_v/10w6h3595jb25htv66pv5fq80000gn/T/ipykernel_64067/3472805937.py:4: DtypeWarning: Columns (79) have mixed types. Specify dtype option on import or set low_memory=False.\n",
      "  df_owner_ff = pd.read_csv(\"data/zlovac_2023.csv\", usecols=owner_ff_cols)\n"
     ]
    },
    {
     "name": "stdout",
     "output_type": "stream",
     "text": [
      "(6291450, 3)\n",
      "(1019070, 3)\n"
     ]
    }
   ],
   "source": [
    "all_data = []\n",
    "\n",
    "for owner_ff_cols in tqdm(list(ff_owners_columns_separated.values())):\n",
    "    df_owner_ff = pd.read_csv(\"data/zlovac_2023.csv\", usecols=owner_ff_cols)\n",
    "    df_owner_ff = clean_df_ff(df_owner_ff)\n",
    "    all_data.append(df_owner_ff)\n",
    "    \n",
    "all_owners = pd.concat(all_data)\n",
    "print(all_owners.shape)\n",
    "all_owners = all_owners.drop_duplicates()\n",
    "print(all_owners.shape)"
   ]
  },
  {
   "cell_type": "code",
   "execution_count": 93,
   "id": "61747256",
   "metadata": {},
   "outputs": [],
   "source": [
    "all_owners.to_csv(\"./data/all_owners_ff.csv\", index=False)"
   ]
  },
  {
   "cell_type": "code",
   "execution_count": 113,
   "id": "02a9bec2",
   "metadata": {},
   "outputs": [],
   "source": [
    "def clean_df_biscom(df):\n",
    "    address_cols = [\"Adresse1\", \"Adresse2\",\"Adresse3\",\"Adresse4\"]\n",
    "    \n",
    "    df[\"address\"] = np.add.reduce(df[address_cols].fillna(\"\") + \" \", axis=1)\n",
    "    df[\"name\"] = df[\"Proprietaire\"].fillna(df[\"Gestre Ppre\"])\n",
    "    return df[[\"address\", \"name\"]]"
   ]
  },
  {
   "cell_type": "code",
   "execution_count": 114,
   "id": "006226e9",
   "metadata": {},
   "outputs": [],
   "source": [
    "df_biscom = pd.read_csv(\"data/zlovac_2023.csv\", usecols=biscom_owners_cols) "
   ]
  },
  {
   "cell_type": "code",
   "execution_count": 115,
   "id": "63701c42",
   "metadata": {},
   "outputs": [],
   "source": [
    "df_biscom = clean_df_biscom(df_biscom).drop_duplicates()"
   ]
  },
  {
   "cell_type": "code",
   "execution_count": 116,
   "id": "089185b7",
   "metadata": {},
   "outputs": [],
   "source": [
    "df_biscom.to_csv(\"./data/all_owners_biscom.csv\", index=False)"
   ]
  },
  {
   "cell_type": "code",
   "execution_count": 120,
   "id": "52d34822",
   "metadata": {},
   "outputs": [
    {
     "data": {
      "text/plain": [
       "0                 M KOZAN RIDVAN\n",
       "1               M BREVET SYLVAIN\n",
       "2              M BOZONNET ROLAND\n",
       "3           MME LELARDOUX ELODIE\n",
       "4                M CHANEL GILLES\n",
       "                   ...          \n",
       "1048570       M BADUEL STANISLAS\n",
       "1048571          M MENGUY THOMAS\n",
       "1048572          M LIEURY XAVIER\n",
       "1048573    M CHARLET JEAN CLAUDE\n",
       "1048574        M GUYADER PATRICE\n",
       "Name: name, Length: 683232, dtype: object"
      ]
     },
     "execution_count": 120,
     "metadata": {},
     "output_type": "execute_result"
    }
   ],
   "source": [
    "df_biscom[\"name\"]"
   ]
  },
  {
   "cell_type": "code",
   "execution_count": null,
   "id": "506588df",
   "metadata": {},
   "outputs": [],
   "source": []
  }
 ],
 "metadata": {
  "kernelspec": {
   "display_name": "Python 3 (ipykernel)",
   "language": "python",
   "name": "python3"
  },
  "language_info": {
   "codemirror_mode": {
    "name": "ipython",
    "version": 3
   },
   "file_extension": ".py",
   "mimetype": "text/x-python",
   "name": "python",
   "nbconvert_exporter": "python",
   "pygments_lexer": "ipython3",
   "version": "3.10.9"
  }
 },
 "nbformat": 4,
 "nbformat_minor": 5
}
