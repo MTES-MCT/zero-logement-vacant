{
 "cells": [
  {
   "cell_type": "code",
   "execution_count": 1,
   "metadata": {},
   "outputs": [
    {
     "name": "stderr",
     "output_type": "stream",
     "text": [
      "/Users/raphaelcourivaud/anaconda3/envs/py310/lib/python3.10/site-packages/pandas/core/arrays/masked.py:60: UserWarning: Pandas requires version '1.3.6' or newer of 'bottleneck' (version '1.3.5' currently installed).\n",
      "  from pandas.core import (\n"
     ]
    }
   ],
   "source": [
    "import pandas as pd\n",
    "from tqdm.auto import tqdm\n",
    "from bulk_geocoding import geocode\n",
    "from datetime import datetime\n",
    "import duckdb\n",
    "import numpy as np\n",
    "from sqlalchemy import create_engine  # Make sure this is imported\n",
    "import os\n",
    "\n",
    "connection_source = duckdb.connect(database=\"../../dbt/database_name.duckdb\")"
   ]
  },
  {
   "cell_type": "code",
   "execution_count": 2,
   "metadata": {},
   "outputs": [],
   "source": [
    "# Replace the following with your database connection details\n",
    "username = os.environ.get('ZLV_PROD_USERNAME')\n",
    "password = os.environ.get('ZLV_PROD_PASSWORD')\n",
    "host = os.environ.get('ZLV_PROD_HOST')\n",
    "port = os.environ.get('ZLV_PROD_PORT')\n",
    "database = os.environ.get('ZLV_PROD_DATABASE')\n",
    "\n",
    "engine = create_engine(f'postgresql+psycopg2://{username}:{password}@{host}:{port}/{database}')"
   ]
  },
  {
   "cell_type": "markdown",
   "metadata": {},
   "source": [
    "# Synchronize duckdb with production"
   ]
  },
  {
   "cell_type": "code",
   "execution_count": 3,
   "metadata": {},
   "outputs": [
    {
     "data": {
      "application/vnd.jupyter.widget-view+json": {
       "model_id": "8efee083f0ab4feba7ddcda1a1b3093f",
       "version_major": 2,
       "version_minor": 0
      },
      "text/plain": [
       "FloatProgress(value=0.0, layout=Layout(width='auto'), style=ProgressStyle(bar_color='black'))"
      ]
     },
     "metadata": {},
     "output_type": "display_data"
    },
    {
     "data": {
      "application/vnd.jupyter.widget-view+json": {
       "model_id": "049b3bea954c4f218f09d8429cde3d7e",
       "version_major": 2,
       "version_minor": 0
      },
      "text/plain": [
       "FloatProgress(value=0.0, layout=Layout(width='auto'), style=ProgressStyle(bar_color='black'))"
      ]
     },
     "metadata": {},
     "output_type": "display_data"
    },
    {
     "data": {
      "application/vnd.jupyter.widget-view+json": {
       "model_id": "fa4685d7e8de42b5925edd9865cef317",
       "version_major": 2,
       "version_minor": 0
      },
      "text/plain": [
       "FloatProgress(value=0.0, layout=Layout(width='auto'), style=ProgressStyle(bar_color='black'))"
      ]
     },
     "metadata": {},
     "output_type": "display_data"
    },
    {
     "data": {
      "application/vnd.jupyter.widget-view+json": {
       "model_id": "d884f70294cf447482761bc87a9d8404",
       "version_major": 2,
       "version_minor": 0
      },
      "text/plain": [
       "FloatProgress(value=0.0, layout=Layout(width='auto'), style=ProgressStyle(bar_color='black'))"
      ]
     },
     "metadata": {},
     "output_type": "display_data"
    },
    {
     "data": {
      "text/plain": [
       "[(28761737,)]"
      ]
     },
     "execution_count": 3,
     "metadata": {},
     "output_type": "execute_result"
    }
   ],
   "source": [
    "text_query = \"\"\"\n",
    "    ATTACH 'dbname=bbuyufrdks9xrduy8zbu user=uroqdghcooq5iv0tnmvq password=ngxngxqucboptqbqowol0mspq7kcoz host=bbuyufrdks9xrduy8zbu-postgresql.services.clever-cloud.com port=5387' AS zlv_replication_db (TYPE POSTGRES, READ_ONLY);\n",
    "    CREATE OR REPLACE table production.owners AS (SELECT * FROM zlv_replication_db.public.owners );\n",
    "    CREATE OR REPLACE table production.owners_housing AS (SELECT * FROM zlv_replication_db.public.owners_housing );\n",
    "    CREATE OR REPLACE table production.housing AS (SELECT * FROM zlv_replication_db.public.fast_housing );\n",
    "    CREATE OR REPLACE table production.ban_addresses AS (SELECT * FROM zlv_replication_db.public.ban_addresses );\n",
    "\"\"\"\n",
    "\n",
    "connection_source.execute(text_query).fetchall()"
   ]
  },
  {
   "cell_type": "code",
   "execution_count": 4,
   "metadata": {},
   "outputs": [
    {
     "data": {
      "application/vnd.jupyter.widget-view+json": {
       "model_id": "1707df658dde4d608e9d902d3e10d419",
       "version_major": 2,
       "version_minor": 0
      },
      "text/plain": [
       "FloatProgress(value=0.0, layout=Layout(width='auto'), style=ProgressStyle(bar_color='black'))"
      ]
     },
     "metadata": {},
     "output_type": "display_data"
    }
   ],
   "source": [
    "text_query = \"\"\"\n",
    "    WITH owners_in_lovac_2024 AS (\n",
    "        SELECT o.id, o.address_dgfip\n",
    "        FROM production.owners o\n",
    "        LEFT JOIN production.owners_housing oh ON oh.owner_id = o.id\n",
    "        LEFT JOIN production.housing h ON h.id = oh.housing_id\n",
    "        WHERE array_contains(h.data_file_years, 'lovac-2024')\n",
    "    ),  addresses AS (\n",
    "        SELECT o.id, unnest(o.address_dgfip) as address\n",
    "        FROM owners_in_lovac_2024 o\n",
    "        LEFT JOIN production.ban_addresses ba\n",
    "            ON ba.ref_id = o.id AND ba.address_kind = 'Owner'\n",
    "        WHERE ba.ref_id IS NULL AND o.address_dgfip IS NOT NULL\n",
    "    ) SELECT id, string_agg(address, ', ') AS aggregated_address\n",
    "    FROM addresses\n",
    "    GROUP BY id;\n",
    "\"\"\"\n",
    "\n",
    "df = connection_source.execute(text_query).fetchdf()"
   ]
  },
  {
   "cell_type": "code",
   "execution_count": 6,
   "metadata": {},
   "outputs": [],
   "source": [
    "# Define a mapping from original columns to the desired output columns\n",
    "column_mapping = {\n",
    "    'id': 'ref_id',\n",
    "    'result_type': 'address_kind',\n",
    "    'result_housenumber': 'house_number',\n",
    "    'result_street': 'street',\n",
    "    'result_postcode': 'postal_code',\n",
    "    'result_city': 'city',\n",
    "    'latitude': 'latitude',\n",
    "    'longitude': 'longitude',\n",
    "    'result_score': 'score',\n",
    "    'result_id': 'ban_id', \n",
    "    'result_label': 'address'\n",
    "}\n",
    "\n",
    "# List the required columns in the desired order\n",
    "required_columns = [\n",
    "    'ref_id', 'address_kind', 'house_number', \n",
    "    'street', 'postal_code', \n",
    "    'city', 'latitude', 'longitude', 'score',\n",
    "    'last_updated_at', 'address', 'ban_id'\n",
    "]\n",
    "\n",
    "chunk_size = 10000  # Example chunk size\n",
    "SIZE = len(df)  # Total number of rows in the DataFrame\n",
    "\n",
    "# Splitting the DataFrame into chunks\n",
    "\n",
    "\n",
    "def process_geocoding(df, engine, table_name, output_path, chunk_size=10000):\n",
    "    chunks = np.array_split(df, SIZE // chunk_size)\n",
    "\n",
    "    for chunk in tqdm(chunks, total=SIZE // chunk_size):\n",
    "        try:\n",
    "            chunk_records = chunk.to_dict('records')\n",
    "            geocoded_chunk = geocode(chunk_records, columns=['aggregated_address'])\n",
    "            geocoded_df = pd.DataFrame(geocoded_chunk)\n",
    "            geocoded_df.rename(columns=column_mapping, inplace=True)\n",
    "            geocoded_df['last_updated_at'] = datetime.now().isoformat()\n",
    "            geocoded_df['address_kind'] = 'Owner'\n",
    "\n",
    "            geocoded_df = geocoded_df[required_columns]\n",
    "            geocoded_df.replace('', None, inplace=True)  # Replace empty strings with None\n",
    "            geocoded_df['latitude'] = geocoded_df['latitude'].astype(float, errors='ignore')  # Ensure type consistency\n",
    "            geocoded_df['longitude'] = geocoded_df['longitude'].astype(float, errors='ignore')  # Ensure type consistency\n",
    "            geocoded_df['score'] = geocoded_df['score'].astype(float, errors='ignore')  # Ensure type consistency\n",
    "            geocoded_df = geocoded_df.dropna(subset=['address'])\n",
    "            # Now try inserting the data into the database\n",
    "            geocoded_df.to_csv(output_path, mode='a', index=False, header=not pd.io.common.file_exists(output_path))            \n",
    "            geocoded_df.to_sql(table_name, con=engine, if_exists='append', index=False)\n",
    "        except Exception as e:\n",
    "            print(e)\n",
    "            pass"
   ]
  },
  {
   "cell_type": "code",
   "execution_count": 7,
   "metadata": {},
   "outputs": [
    {
     "name": "stderr",
     "output_type": "stream",
     "text": [
      "/Users/raphaelcourivaud/anaconda3/envs/py310/lib/python3.10/site-packages/numpy/core/fromnumeric.py:59: FutureWarning: 'DataFrame.swapaxes' is deprecated and will be removed in a future version. Please use 'DataFrame.transpose' instead.\n",
      "  return bound(*args, **kwds)\n"
     ]
    },
    {
     "data": {
      "application/vnd.jupyter.widget-view+json": {
       "model_id": "6d174f09ec974059bc0cc11961abf10b",
       "version_major": 2,
       "version_minor": 0
      },
      "text/plain": [
       "  0%|          | 0/86 [00:00<?, ?it/s]"
      ]
     },
     "metadata": {},
     "output_type": "display_data"
    },
    {
     "name": "stdout",
     "output_type": "stream",
     "text": [
      "(psycopg2.errors.UniqueViolation) duplicate key value violates unique constraint \"ban_addresses_pkey\"\n",
      "DETAIL:  Key (ref_id, address_kind)=(02bf2edf-d658-41d7-986e-fe5098954967, Owner) already exists.\n",
      "\n",
      "[SQL: INSERT INTO ban_addresses (ref_id, address_kind, house_number, street, postal_code, city, latitude, longitude, score, last_updated_at, address, ban_id) VALUES (%(ref_id__0)s, %(address_kind__0)s, %(house_number__0)s, %(street__0)s, %(postal_code__0)s ... 233487 characters truncated ... )s, %(longitude__999)s, %(score__999)s, %(last_updated_at__999)s, %(address__999)s, %(ban_id__999)s)]\n",
      "[parameters: {'longitude__0': 1.994112, 'ref_id__0': 'd5a66435-17e7-4f4a-a2f1-e5ea5d24911c', 'street__0': 'Le Coudonie', 'house_number__0': None, 'ban_id__0': '11139_tddosz', 'postal_code__0': '11240', 'city__0': 'Fenouillet-du-Razès', 'last_updated_at__0': '2024-10-17T10:21:44.278628', 'address_kind__0': 'Owner', 'latitude__0': 43.152365, 'address__0': 'Le Coudonie 11240 Fenouillet-du-Razès', 'score__0': 0.8602717482517482, 'longitude__1': 3.926105, 'ref_id__1': '8bb1edea-f5fe-4406-a852-4508287842f4', 'street__1': 'Rue de Sauve', 'house_number__1': '10', 'ban_id__1': '34192_0430_00010', 'postal_code__1': '34250', 'city__1': 'Palavas-les-Flots', 'last_updated_at__1': '2024-10-17T10:21:44.278628', 'address_kind__1': 'Owner', 'latitude__1': 43.528627, 'address__1': '10 Rue de Sauve 34250 Palavas-les-Flots', 'score__1': 0.6971610291595197, 'longitude__2': 2.658524, 'ref_id__2': 'd3f9f061-7896-4052-b125-380439af3818', 'street__2': 'Avenue du Minervois', 'house_number__2': '4', 'ban_id__2': '11022_0116_00004', 'postal_code__2': '11700', 'city__2': 'Azille', 'last_updated_at__2': '2024-10-17T10:21:44.278628', 'address_kind__2': 'Owner', 'latitude__2': 43.277962, 'address__2': '4 Avenue du Minervois 11700 Azille', 'score__2': 0.7315943243243243, 'longitude__3': 2.015158, 'ref_id__3': '850f63c8-7497-43ad-a95f-b0ed9b46d6fe', 'street__3': 'Avenue Blaise Pascal', 'house_number__3': '5', 'ban_id__3': '31451_0227_00005', 'postal_code__3': '31250', 'city__3': 'Revel', 'last_updated_at__3': '2024-10-17T10:21:44.278628', 'address_kind__3': 'Owner', 'latitude__3': 43.455774, 'address__3': '5 Avenue Blaise Pascal 31250 Revel', 'score__3': 0.7398252334152333, 'longitude__4': 1.957741, 'ref_id__4': '66c39912-fbc4-4014-9459-b80d977bee50' ... 11900 parameters truncated ... 'address__995': '10 Rue du Champ Vincelet 03300 Cusset', 'score__995': 0.9154376555023922, 'longitude__996': 3.08743, 'ref_id__996': '74b407be-70d5-4477-950c-0f7b634726c4', 'street__996': 'Rue des Fossés', 'house_number__996': '14', 'ban_id__996': '03107_0220_00014', 'postal_code__996': '03450', 'city__996': 'Ébreuil', 'last_updated_at__996': '2024-10-17T10:21:44.278628', 'address_kind__996': 'Owner', 'latitude__996': 46.115925, 'address__996': '14 Rue des Fossés 03450 Ébreuil', 'score__996': 0.524948899521531, 'longitude__997': 7.271521, 'ref_id__997': '1857db73-bcaa-4f23-9b11-e3034ce5a4dc', 'street__997': 'Rue Alberti', 'house_number__997': '15', 'ban_id__997': '06088_0065_00015', 'postal_code__997': '06000', 'city__997': 'Nice', 'last_updated_at__997': '2024-10-17T10:21:44.278628', 'address_kind__997': 'Owner', 'latitude__997': 43.700202, 'address__997': '15 Rue Alberti 06000 Nice', 'score__997': 0.7714504985337243, 'longitude__998': 3.142477, 'ref_id__998': '22b4b7cd-1a24-43ce-8480-662951a74fac', 'street__998': 'impasse des Courtiaux', 'house_number__998': '7', 'ban_id__998': '63164_0270_00007', 'postal_code__998': '63360', 'city__998': 'Gerzat', 'last_updated_at__998': '2024-10-17T10:21:44.278628', 'address_kind__998': 'Owner', 'latitude__998': 45.826913, 'address__998': '7 impasse des Courtiaux 63360 Gerzat', 'score__998': 0.7467552447552448, 'longitude__999': 3.082825, 'ref_id__999': '630dddaf-91b5-4812-83d8-c68b3446d656', 'street__999': 'boulevard Charles de Gaulle', 'house_number__999': '34', 'ban_id__999': '63113_0930_00034', 'postal_code__999': '63000', 'city__999': 'Clermont-Ferrand', 'last_updated_at__999': '2024-10-17T10:21:44.278628', 'address_kind__999': 'Owner', 'latitude__999': 45.772096, 'address__999': '34 boulevard Charles de Gaulle 63000 Clermont-Ferrand', 'score__999': 0.7883672727272727}]\n",
      "(Background on this error at: https://sqlalche.me/e/20/gkpj)\n",
      "(psycopg2.errors.UniqueViolation) duplicate key value violates unique constraint \"ban_addresses_pkey\"\n",
      "DETAIL:  Key (ref_id, address_kind)=(02f45352-c2e2-4a57-8580-4dd942c99511, Owner) already exists.\n",
      "\n",
      "[SQL: INSERT INTO ban_addresses (ref_id, address_kind, house_number, street, postal_code, city, latitude, longitude, score, last_updated_at, address, ban_id) VALUES (%(ref_id__0)s, %(address_kind__0)s, %(house_number__0)s, %(street__0)s, %(postal_code__0)s ... 233487 characters truncated ... )s, %(longitude__999)s, %(score__999)s, %(last_updated_at__999)s, %(address__999)s, %(ban_id__999)s)]\n",
      "[parameters: {'longitude__0': 3.201136, 'ref_id__0': '6f12e45d-56b6-4b62-9deb-6d3fb1489685', 'street__0': 'Rue de Tournai', 'house_number__0': None, 'ban_id__0': '59512_5380', 'postal_code__0': '59100', 'city__0': 'Roubaix', 'last_updated_at__0': '2024-10-17T10:36:20.830543', 'address_kind__0': 'Owner', 'latitude__0': 50.68535, 'address__0': 'Rue de Tournai 59100 Roubaix', 'score__0': 0.5977354545454545, 'longitude__1': 3.38497, 'ref_id__1': '00d5b03b-b72e-4b47-8e85-fe9a63b2a5f2', 'street__1': 'Rue Georges Clémenceau', 'house_number__1': None, 'ban_id__1': '02680_0090', 'postal_code__1': '02410', 'city__1': 'Saint-Gobain', 'last_updated_at__1': '2024-10-17T10:36:20.830543', 'address_kind__1': 'Owner', 'latitude__1': 49.59711, 'address__1': 'Rue Georges Clémenceau 02410 Saint-Gobain', 'score__1': 0.8565226262626261, 'longitude__2': 5.229573, 'ref_id__2': 'd02e7f30-56c3-4b0f-9171-b448e45c9fe2', 'street__2': 'boulevard de brou', 'house_number__2': '24', 'ban_id__2': '01053_0620_00024', 'postal_code__2': '01000', 'city__2': 'Bourg-en-Bresse', 'last_updated_at__2': '2024-10-17T10:36:20.830543', 'address_kind__2': 'Owner', 'latitude__2': 46.204548, 'address__2': '24 boulevard de brou 01000 Bourg-en-Bresse', 'score__2': 0.7474918181818181, 'longitude__3': 4.015581, 'ref_id__3': '8b71fa2f-0f0f-4eeb-92c3-662ea49fed3f', 'street__3': 'Rue des Forges', 'house_number__3': '2', 'ban_id__3': '02608_0060_00002', 'postal_code__3': '02140', 'city__3': 'Plomion', 'last_updated_at__3': '2024-10-17T10:36:20.830543', 'address_kind__3': 'Owner', 'latitude__3': 49.809032, 'address__3': '2 Rue des Forges 02140 Plomion', 'score__3': 0.8517718181818181, 'longitude__4': 3.085585, 'ref_id__4': '93cd82d7-0d30-429a-aa88-cc00d19e2003' ... 11900 parameters truncated ... 'address__995': '5 Rue du Général Leclerc 08300 Coucy', 'score__995': 0.8779887559808611, 'longitude__996': 3.050578, 'ref_id__996': '17bba7e5-ae24-4209-8918-440220e5a529', 'street__996': 'Rue du Plaix', 'house_number__996': '4', 'ban_id__996': '03319_0105_00004', 'postal_code__996': '03140', 'city__996': 'Voussac', 'last_updated_at__996': '2024-10-17T10:36:20.830543', 'address_kind__996': 'Owner', 'latitude__996': 46.321134, 'address__996': '4 Rue du Plaix 03140 Voussac', 'score__996': 0.8526763636363636, 'longitude__997': 3.072051, 'ref_id__997': 'dfaa23e3-f7f4-4a69-94f6-47efdc2ade4d', 'street__997': 'Rue de l’Hospital', 'house_number__997': None, 'ban_id__997': '63427_0021', 'postal_code__997': '63460', 'city__997': 'Teilhède', 'last_updated_at__997': '2024-10-17T10:36:20.830543', 'address_kind__997': 'Owner', 'latitude__997': 45.954861, 'address__997': 'Rue de l’Hospital 63460 Teilhède', 'score__997': 0.8149637373737373, 'longitude__998': 4.394217, 'ref_id__998': 'e6e4cc92-0b9e-4af3-bd86-2383fec84957', 'street__998': \"Rue de l'Epreuve\", 'house_number__998': '17', 'ban_id__998': '42218_3190_00017', 'postal_code__998': '42000', 'city__998': 'Saint-Étienne', 'last_updated_at__998': '2024-10-17T10:36:20.830543', 'address_kind__998': 'Owner', 'latitude__998': 45.43346, 'address__998': \"17 Rue de l'Epreuve 42000 Saint-Étienne\", 'score__998': 0.9270754545454544, 'longitude__999': 2.559123, 'ref_id__999': 'c3563156-6c72-426d-865e-81a456ce9bbb', 'street__999': 'Villa Champagne', 'house_number__999': '2', 'ban_id__999': '94019_0127_00002', 'postal_code__999': '94430', 'city__999': 'Chennevières-sur-Marne', 'last_updated_at__999': '2024-10-17T10:36:20.830543', 'address_kind__999': 'Owner', 'latitude__999': 48.805288, 'address__999': '2 Villa Champagne 94430 Chennevières-sur-Marne', 'score__999': 0.82384987012987}]\n",
      "(Background on this error at: https://sqlalche.me/e/20/gkpj)\n",
      "(psycopg2.errors.UniqueViolation) duplicate key value violates unique constraint \"ban_addresses_pkey\"\n",
      "DETAIL:  Key (ref_id, address_kind)=(dbf09194-563a-424a-9a6f-2ccef1f2dfb7, Owner) already exists.\n",
      "\n",
      "[SQL: INSERT INTO ban_addresses (ref_id, address_kind, house_number, street, postal_code, city, latitude, longitude, score, last_updated_at, address, ban_id) VALUES (%(ref_id__0)s, %(address_kind__0)s, %(house_number__0)s, %(street__0)s, %(postal_code__0)s ... 233487 characters truncated ... )s, %(longitude__999)s, %(score__999)s, %(last_updated_at__999)s, %(address__999)s, %(ban_id__999)s)]\n",
      "[parameters: {'longitude__0': 4.084257, 'ref_id__0': '6e028a1b-a980-4986-8335-ac153f3b80da', 'street__0': 'Rue Charles de Gaulle', 'house_number__0': '75', 'ban_id__0': '02381_0234_00075', 'postal_code__0': '02500', 'city__0': 'Hirson', 'last_updated_at__0': '2024-10-17T10:46:21.168687', 'address_kind__0': 'Owner', 'latitude__0': 49.920257, 'address__0': '75 Rue Charles de Gaulle 02500 Hirson', 'score__0': 0.9209922009569378, 'longitude__1': 2.537741, 'ref_id__1': '1d7129a1-7f0f-4bc1-b9b6-5bf358ae0a98', 'street__1': 'Rue Albert Schweitzer', 'house_number__1': None, 'ban_id__1': '94079_0007', 'postal_code__1': '94350', 'city__1': 'Villiers-sur-Marne', 'last_updated_at__1': '2024-10-17T10:46:21.168687', 'address_kind__1': 'Owner', 'latitude__1': 48.831544, 'address__1': 'Rue Albert Schweitzer 94350 Villiers-sur-Marne', 'score__1': 0.7513689676425269, 'longitude__2': 4.142129, 'ref_id__2': '36e2299c-47cd-4ca0-8ae7-1556da29c6cf', 'street__2': 'Rue Jean Jaurès', 'house_number__2': None, 'ban_id__2': '02684_0180', 'postal_code__2': '02830', 'city__2': 'Saint-Michel', 'last_updated_at__2': '2024-10-17T10:46:21.168687', 'address_kind__2': 'Owner', 'latitude__2': 49.928436, 'address__2': 'Rue Jean Jaurès 02830 Saint-Michel', 'score__2': 0.8384445933014354, 'longitude__3': 3.784506, 'ref_id__3': '513cc780-09c0-4907-84fc-cf6f5095fa0c', 'street__3': 'Rue Robert Degon', 'house_number__3': '29', 'ban_id__3': '02558_0234_00029', 'postal_code__3': '02170', 'city__3': 'Le Nouvion-en-Thiérache', 'last_updated_at__3': '2024-10-17T10:46:21.168687', 'address_kind__3': 'Owner', 'latitude__3': 50.018385, 'address__3': '29 Rue Robert Degon 02170 Le Nouvion-en-Thiérache', 'score__3': 0.9228754545454545, 'longitude__4': 3.890424, 'ref_id__4': 'e8558f77-76a5-44fb-abbf-bd0cb0671bc3' ... 11900 parameters truncated ... 'address__995': \"Route de l'Etrat 42270 Saint-Priest-en-Jarez\", 'score__995': 0.5958717503392129, 'longitude__996': 3.083494, 'ref_id__996': 'a4d6824b-cd6f-4e7f-99ef-08c33fc22d10', 'street__996': 'Chemin de la Saboterie', 'house_number__996': None, 'ban_id__996': '03170_0210', 'postal_code__996': '03210', 'city__996': 'Meillers', 'last_updated_at__996': '2024-10-17T10:46:21.168687', 'address_kind__996': 'Owner', 'latitude__996': 46.528371, 'address__996': 'Chemin de la Saboterie 03210 Meillers', 'score__996': 0.19643620174346202, 'longitude__997': 2.49959, 'ref_id__997': 'e1fd7b3b-89a5-488b-8be0-e2058bb2e9ea', 'street__997': 'Avenue des Acacias', 'house_number__997': '56', 'ban_id__997': '91114_0030_00056', 'postal_code__997': '91800', 'city__997': 'Brunoy', 'last_updated_at__997': '2024-10-17T10:46:21.168687', 'address_kind__997': 'Owner', 'latitude__997': 48.6843, 'address__997': '56 Avenue des Acacias 91800 Brunoy', 'score__997': 0.7701670707070706, 'longitude__998': 3.058606, 'ref_id__998': '41d8d1c4-6ea1-46df-b27a-eedc7ecf64bd', 'street__998': 'Lieu Dit Villeneuve', 'house_number__998': '14', 'ban_id__998': '03107_c8lk6z_00014', 'postal_code__998': '03450', 'city__998': 'Ébreuil', 'last_updated_at__998': '2024-10-17T10:46:21.168687', 'address_kind__998': 'Owner', 'latitude__998': 46.120263, 'address__998': '14 Lieu Dit Villeneuve 03450 Ébreuil', 'score__998': 0.18320310344827587, 'longitude__999': 3.259509, 'ref_id__999': '8870cc73-e203-41e4-bd61-8ac912e11161', 'street__999': None, 'house_number__999': None, 'ban_id__999': '03043_pbhenl', 'postal_code__999': '03110', 'city__999': 'Broût-Vernet', 'last_updated_at__999': '2024-10-17T10:46:21.168687', 'address_kind__999': 'Owner', 'latitude__999': 46.184176, 'address__999': 'Les Rollates 03110 Broût-Vernet', 'score__999': 0.5955069287469287}]\n",
      "(Background on this error at: https://sqlalche.me/e/20/gkpj)\n",
      "(psycopg2.errors.UniqueViolation) duplicate key value violates unique constraint \"ban_addresses_pkey\"\n",
      "DETAIL:  Key (ref_id, address_kind)=(d564d4b1-46cb-4eda-a556-d49431d67f87, Owner) already exists.\n",
      "\n",
      "[SQL: INSERT INTO ban_addresses (ref_id, address_kind, house_number, street, postal_code, city, latitude, longitude, score, last_updated_at, address, ban_id) VALUES (%(ref_id__0)s, %(address_kind__0)s, %(house_number__0)s, %(street__0)s, %(postal_code__0)s ... 233487 characters truncated ... )s, %(longitude__999)s, %(score__999)s, %(last_updated_at__999)s, %(address__999)s, %(ban_id__999)s)]\n",
      "[parameters: {'longitude__0': 2.266928, 'ref_id__0': 'a9493f5e-0d48-4e09-a727-e9620f9a1857', 'street__0': 'Boulevard Gallieni', 'house_number__0': '30', 'ban_id__0': '92040_4115_00030', 'postal_code__0': '92130', 'city__0': 'Issy-les-Moulineaux', 'last_updated_at__0': '2024-10-17T10:58:50.355091', 'address_kind__0': 'Owner', 'latitude__0': 48.832305, 'address__0': '30 Boulevard Gallieni 92130 Issy-les-Moulineaux', 'score__0': 0.7715656400742115, 'longitude__1': 7.762138, 'ref_id__1': 'c5fc3761-7692-4396-979b-7ae2b4d8e335', 'street__1': 'Rue Jean-Jacques Rousseau', 'house_number__1': None, 'ban_id__1': '67482_3475', 'postal_code__1': '67000', 'city__1': 'Strasbourg', 'last_updated_at__1': '2024-10-17T10:58:50.355091', 'address_kind__1': 'Owner', 'latitude__1': 48.596616, 'address__1': 'Rue Jean-Jacques Rousseau 67000 Strasbourg', 'score__1': 0.3301286363636363, 'longitude__2': 7.762161, 'ref_id__2': '16116d45-205c-4d6d-8a3b-293c56f71591', 'street__2': 'Rue du Général Ducrot', 'house_number__2': '1', 'ban_id__2': '67482_2680_00001', 'postal_code__2': '67000', 'city__2': 'Strasbourg', 'last_updated_at__2': '2024-10-17T10:58:50.355091', 'address_kind__2': 'Owner', 'latitude__2': 48.592165, 'address__2': '1 Rue du Général Ducrot 67000 Strasbourg', 'score__2': 0.9107994805194805, 'longitude__3': 7.415652, 'ref_id__3': '3c7c3a0e-40b6-46d7-afb8-52f98521d37e', 'street__3': 'Rue des Romains', 'house_number__3': '31', 'ban_id__3': '68034_0073_00031', 'postal_code__3': '68480', 'city__3': 'Bettlach', 'last_updated_at__3': '2024-10-17T10:58:50.355091', 'address_kind__3': 'Owner', 'latitude__3': 47.509546, 'address__3': '31 Rue des Romains 68480 Bettlach', 'score__3': 0.5462577352472088, 'longitude__4': 7.743911, 'ref_id__4': '8edf8b0c-12ad-41c3-88e1-d5659cb11869' ... 11900 parameters truncated ... 'address__995': '16 rue Diderot 63100 Clermont-Ferrand', 'score__995': 0.9288776555023922, 'longitude__996': 3.40524, 'ref_id__996': '01638f62-c7a7-4e1f-aa5d-fdc06450bdb4', 'street__996': 'Rue Alphonse Daudet', 'house_number__996': '39', 'ban_id__996': '03023_0070_00039', 'postal_code__996': '03700', 'city__996': 'Bellerive-sur-Allier', 'last_updated_at__996': '2024-10-17T10:58:50.355091', 'address_kind__996': 'Owner', 'latitude__996': 46.108049, 'address__996': '39 Rue Alphonse Daudet 03700 Bellerive-sur-Allier', 'score__996': 0.9259272727272725, 'longitude__997': 3.157138, 'ref_id__997': '59c823b4-f0cc-4fcd-8f99-c2a835ebd411', 'street__997': \"Rue de l'Abbé Boudant\", 'house_number__997': '5', 'ban_id__997': '03053_0002_00005', 'postal_code__997': '03140', 'city__997': 'Chantelle', 'last_updated_at__997': '2024-10-17T10:58:50.355091', 'address_kind__997': 'Owner', 'latitude__997': 46.235897, 'address__997': \"5 Rue de l'Abbé Boudant 03140 Chantelle\", 'score__997': 0.877600243902439, 'longitude__998': 3.196606, 'ref_id__998': '3293b41e-2196-4cf4-be24-a02ce9c9c3e9', 'street__998': 'Le Ruton', 'house_number__998': '4', 'ban_id__998': '03133_iblu1u_00004', 'postal_code__998': '03800', 'city__998': 'Jenzat', 'last_updated_at__998': '2024-10-17T10:58:50.355091', 'address_kind__998': 'Owner', 'latitude__998': 46.164596, 'address__998': '4 Le Ruton 03800 Jenzat', 'score__998': 0.9374999999999999, 'longitude__999': 3.071523, 'ref_id__999': 'dde2720f-0da6-40ab-9195-c1445ca1d51c', 'street__999': 'boulevard Berthelot', 'house_number__999': None, 'ban_id__999': '63113_0560', 'postal_code__999': '63000', 'city__999': 'Clermont-Ferrand', 'last_updated_at__999': '2024-10-17T10:58:50.355091', 'address_kind__999': 'Owner', 'latitude__999': 45.78003, 'address__999': 'boulevard Berthelot 63000 Clermont-Ferrand', 'score__999': 0.28722028776978414}]\n",
      "(Background on this error at: https://sqlalche.me/e/20/gkpj)\n",
      "field larger than field limit (131072)\n",
      "(psycopg2.errors.UniqueViolation) duplicate key value violates unique constraint \"ban_addresses_pkey\"\n",
      "DETAIL:  Key (ref_id, address_kind)=(2397b6fd-b5be-4c32-bc1d-5d76565a6681, Owner) already exists.\n",
      "\n",
      "[SQL: INSERT INTO ban_addresses (ref_id, address_kind, house_number, street, postal_code, city, latitude, longitude, score, last_updated_at, address, ban_id) VALUES (%(ref_id__0)s, %(address_kind__0)s, %(house_number__0)s, %(street__0)s, %(postal_code__0)s ... 233487 characters truncated ... )s, %(longitude__999)s, %(score__999)s, %(last_updated_at__999)s, %(address__999)s, %(ban_id__999)s)]\n",
      "[parameters: {'longitude__0': 4.766602, 'ref_id__0': 'ac4d3185-cd93-4cfc-be30-4e900e24ea11', 'street__0': 'Route de Montmerle', 'house_number__0': '2514', 'ban_id__0': '01183_0300_02514', 'postal_code__0': '01090', 'city__0': 'Guéreins', 'last_updated_at__0': '2024-10-17T11:01:01.372891', 'address_kind__0': 'Owner', 'latitude__0': 46.099006, 'address__0': '2514 Route de Montmerle 01090 Guéreins', 'score__0': 0.8562707655502392, 'longitude__1': 4.807571, 'ref_id__1': '39b6b5a9-b136-4ed9-9e12-d66c4c1c3ec3', 'street__1': 'Impasse de Saint Laurent', 'house_number__1': '42', 'ban_id__1': '71250_0157_00042', 'postal_code__1': '71870', 'city__1': 'Laizé', 'last_updated_at__1': '2024-10-17T11:01:01.372891', 'address_kind__1': 'Owner', 'latitude__1': 46.397195, 'address__1': '42 Impasse de Saint Laurent 71870 Laizé', 'score__1': 0.7686073170731708, 'longitude__2': 4.835409, 'ref_id__2': '13f16103-3b7b-4129-b58b-8ebcbf0af69c', 'street__2': 'Route des Brocatieres', 'house_number__2': '1091', 'ban_id__2': '01348_0021_01091', 'postal_code__2': '01140', 'city__2': 'Saint-Didier-sur-Chalaronne', 'last_updated_at__2': '2024-10-17T11:01:01.372891', 'address_kind__2': 'Owner', 'latitude__2': 46.185788, 'address__2': '1091 Route des Brocatieres 01140 Saint-Didier-sur-Chalaronne', 'score__2': 0.8757142424242423, 'longitude__3': 3.431573, 'ref_id__3': '77bb974b-182b-4f83-8f69-1ff1ace21c8b', 'street__3': 'Rue de la Magnanerie', 'house_number__3': '1', 'ban_id__3': '48096_0118_00001', 'postal_code__3': '48150', 'city__3': 'Meyrueis', 'last_updated_at__3': '2024-10-17T11:01:01.372891', 'address_kind__3': 'Owner', 'latitude__3': 44.177122, 'address__3': '1 Rue de la Magnanerie 48150 Meyrueis', 'score__3': 0.5510987012987013, 'longitude__4': 4.78072, 'ref_id__4': '0d603540-6381-468f-8d8c-3f7b0d4a9e1f' ... 11900 parameters truncated ... 'address__995': '10 Route de Dompierre 03230 Thiel-sur-Acolin', 'score__995': 0.8323683794466402, 'longitude__996': 3.730776, 'ref_id__996': 'b6f4160a-8428-46c1-a273-535b23cae819', 'street__996': 'Chemin des Nauds', 'house_number__996': None, 'ban_id__996': '03265_aoqw5u', 'postal_code__996': '03470', 'city__996': 'Saligny-sur-Roudon', 'last_updated_at__996': '2024-10-17T11:01:01.372891', 'address_kind__996': 'Owner', 'latitude__996': 46.430064, 'address__996': 'Chemin des Nauds 03470 Saligny-sur-Roudon', 'score__996': 0.7390380044345898, 'longitude__997': 3.45607, 'ref_id__997': 'a3dd913b-2f6d-4057-b182-1cea8db6f67a', 'street__997': 'Avenue Paul Lefevre', 'house_number__997': '6', 'ban_id__997': '02648_rjz92f_00006', 'postal_code__997': '02240', 'city__997': 'Ribemont', 'last_updated_at__997': '2024-10-17T11:01:01.372891', 'address_kind__997': 'Owner', 'latitude__997': 49.797061, 'address__997': '6 Avenue Paul Lefevre 02240 Ribemont', 'score__997': 0.7234672727272727, 'longitude__998': 3.267273, 'ref_id__998': '7c9fc579-3c62-4b97-ba23-e59920886373', 'street__998': 'Rue du Bas Rez', 'house_number__998': '3', 'ban_id__998': '02818_0002_00003', 'postal_code__998': '02310', 'city__998': 'Villiers-Saint-Denis', 'last_updated_at__998': '2024-10-17T11:01:01.372891', 'address_kind__998': 'Owner', 'latitude__998': 48.984797, 'address__998': '3 Rue du Bas Rez 02310 Villiers-Saint-Denis', 'score__998': 0.35524909090909085, 'longitude__999': 3.09506, 'ref_id__999': '41f5a0ba-c5f2-4c6e-bf86-944b35f2a777', 'street__999': \"Rue de l'Eglise\", 'house_number__999': '7', 'ban_id__999': '02815_0040_00007', 'postal_code__999': '02590', 'city__999': 'Villers-Saint-Christophe', 'last_updated_at__999': '2024-10-17T11:01:01.372891', 'address_kind__999': 'Owner', 'latitude__999': 49.780182, 'address__999': \"7 Rue de l'Eglise 02590 Villers-Saint-Christophe\", 'score__999': 0.45272664884135466}]\n",
      "(Background on this error at: https://sqlalche.me/e/20/gkpj)\n",
      "field larger than field limit (131072)\n"
     ]
    }
   ],
   "source": [
    "process_geocoding(df=df, engine=engine, table_name='ban_addresses', output_path='ban_addresses.csv', chunk_size=chunk_size)"
   ]
  },
  {
   "cell_type": "code",
   "execution_count": 1,
   "metadata": {},
   "outputs": [
    {
     "name": "stderr",
     "output_type": "stream",
     "text": [
      "/Users/raphaelcourivaud/anaconda3/envs/py310/lib/python3.10/site-packages/pandas/core/arrays/masked.py:60: UserWarning: Pandas requires version '1.3.6' or newer of 'bottleneck' (version '1.3.5' currently installed).\n",
      "  from pandas.core import (\n"
     ]
    }
   ],
   "source": [
    "import pandas as pd"
   ]
  },
  {
   "cell_type": "code",
   "execution_count": 2,
   "metadata": {},
   "outputs": [],
   "source": [
    "df_ = pd.read_csv(\"Results_44_geocoded.csv\")"
   ]
  },
  {
   "cell_type": "code",
   "execution_count": 7,
   "metadata": {},
   "outputs": [],
   "source": [
    "df_[\"address_kind\"] = \"Owner\""
   ]
  },
  {
   "cell_type": "code",
   "execution_count": 8,
   "metadata": {},
   "outputs": [],
   "source": [
    "df_.to_csv(\"Results_44_geocoded_updated.csv\", index=False)"
   ]
  },
  {
   "cell_type": "code",
   "execution_count": 10,
   "metadata": {},
   "outputs": [
    {
     "ename": "NameError",
     "evalue": "name 'df' is not defined",
     "output_type": "error",
     "traceback": [
      "\u001b[0;31m---------------------------------------------------------------------------\u001b[0m",
      "\u001b[0;31mNameError\u001b[0m                                 Traceback (most recent call last)",
      "Cell \u001b[0;32mIn[10], line 1\u001b[0m\n\u001b[0;32m----> 1\u001b[0m \u001b[43mdf\u001b[49m\u001b[38;5;241m.\u001b[39mquery(\u001b[38;5;124m\"\u001b[39m\u001b[38;5;124mid = \u001b[39m\u001b[38;5;124m'\u001b[39m\u001b[38;5;124mdf7ac216-1ecf-48bb-b6d9-d1cbeb25ff88\u001b[39m\u001b[38;5;124m'\u001b[39m\u001b[38;5;124m\"\u001b[39m)\n",
      "\u001b[0;31mNameError\u001b[0m: name 'df' is not defined"
     ]
    }
   ],
   "source": [
    "df.query(\"id = 'df7ac216-1ecf-48bb-b6d9-d1cbeb25ff88'\")"
   ]
  },
  {
   "cell_type": "code",
   "execution_count": 11,
   "metadata": {},
   "outputs": [],
   "source": [
    "df = pd.read_csv(input_path)\n"
   ]
  },
  {
   "cell_type": "code",
   "execution_count": 15,
   "metadata": {},
   "outputs": [
    {
     "data": {
      "text/plain": [
       "array([\"DOMAINE DE L ENFER 0000 CHE DE L'ENFER 63800 COURNON D AUVERGNE\"],\n",
       "      dtype=object)"
      ]
     },
     "execution_count": 15,
     "metadata": {},
     "output_type": "execute_result"
    }
   ],
   "source": [
    "df.query(\"id == 'df7ac216-1ecf-48bb-b6d9-d1cbeb25ff88'\")[\"aggregated_address\"].values"
   ]
  },
  {
   "cell_type": "code",
   "execution_count": 18,
   "metadata": {},
   "outputs": [],
   "source": [
    "df.merge(df_, left_on=\"id\", right_on=\"ref_id\", how=\"outer\").query(\"ref_id.isnull()\").to_csv(\"./to_refectch.csv\", index=False)"
   ]
  },
  {
   "cell_type": "code",
   "execution_count": 3,
   "metadata": {},
   "outputs": [],
   "source": [
    "df_to_store = pd.read_csv(\"Results_44_geocoded_updated.csv\")"
   ]
  },
  {
   "cell_type": "code",
   "execution_count": 5,
   "metadata": {},
   "outputs": [
    {
     "data": {
      "text/html": [
       "<div>\n",
       "<style scoped>\n",
       "    .dataframe tbody tr th:only-of-type {\n",
       "        vertical-align: middle;\n",
       "    }\n",
       "\n",
       "    .dataframe tbody tr th {\n",
       "        vertical-align: top;\n",
       "    }\n",
       "\n",
       "    .dataframe thead th {\n",
       "        text-align: right;\n",
       "    }\n",
       "</style>\n",
       "<table border=\"1\" class=\"dataframe\">\n",
       "  <thead>\n",
       "    <tr style=\"text-align: right;\">\n",
       "      <th></th>\n",
       "      <th>ref_id</th>\n",
       "      <th>address_kind</th>\n",
       "      <th>house_number</th>\n",
       "      <th>street</th>\n",
       "      <th>postal_code</th>\n",
       "      <th>city</th>\n",
       "      <th>latitude</th>\n",
       "      <th>longitude</th>\n",
       "      <th>score</th>\n",
       "      <th>last_updated_at</th>\n",
       "      <th>address</th>\n",
       "      <th>ban_id</th>\n",
       "    </tr>\n",
       "  </thead>\n",
       "  <tbody>\n",
       "    <tr>\n",
       "      <th>0</th>\n",
       "      <td>22eb37a6-c4dc-48f4-b846-8e50b90b88c6</td>\n",
       "      <td>Owner</td>\n",
       "      <td>18</td>\n",
       "      <td>Avenue des Albères</td>\n",
       "      <td>66170.0</td>\n",
       "      <td>Millas</td>\n",
       "      <td>42.686897</td>\n",
       "      <td>2.691008</td>\n",
       "      <td>0.798896</td>\n",
       "      <td>2024-10-15T13:59:17.326149</td>\n",
       "      <td>18 AV DES ALBERES, 66170 MILLAS</td>\n",
       "      <td>66108_0002_00018</td>\n",
       "    </tr>\n",
       "    <tr>\n",
       "      <th>1</th>\n",
       "      <td>d951b669-7727-4243-b60e-cea488b9d6ac</td>\n",
       "      <td>Owner</td>\n",
       "      <td>9</td>\n",
       "      <td>Rue Boilly</td>\n",
       "      <td>31300.0</td>\n",
       "      <td>Toulouse</td>\n",
       "      <td>43.602254</td>\n",
       "      <td>1.423946</td>\n",
       "      <td>0.724134</td>\n",
       "      <td>2024-10-15T13:59:17.326149</td>\n",
       "      <td>APPT 1 0009 RUE BOILLY 31300 TOULOUSE</td>\n",
       "      <td>31555_1232_00009</td>\n",
       "    </tr>\n",
       "    <tr>\n",
       "      <th>2</th>\n",
       "      <td>df7ac216-1ecf-48bb-b6d9-d1cbeb25ff88</td>\n",
       "      <td>Owner</td>\n",
       "      <td>NaN</td>\n",
       "      <td>chemin de l'Enfer</td>\n",
       "      <td>63800.0</td>\n",
       "      <td>Cournon-d'Auvergne</td>\n",
       "      <td>45.723468</td>\n",
       "      <td>3.176418</td>\n",
       "      <td>0.580380</td>\n",
       "      <td>2024-10-15T13:59:17.326149</td>\n",
       "      <td>DOMAINE DE L ENFER 0000 CHE DE L'ENFER 63800 C...</td>\n",
       "      <td>63124_0373</td>\n",
       "    </tr>\n",
       "    <tr>\n",
       "      <th>3</th>\n",
       "      <td>1f540d4e-ede3-4d21-b883-ea7c4f148fd3</td>\n",
       "      <td>Owner</td>\n",
       "      <td>NaN</td>\n",
       "      <td>NaN</td>\n",
       "      <td>11100.0</td>\n",
       "      <td>Narbonne</td>\n",
       "      <td>43.208169</td>\n",
       "      <td>3.004420</td>\n",
       "      <td>0.956976</td>\n",
       "      <td>2024-10-15T13:59:17.326149</td>\n",
       "      <td>DOMAINE DE PETIT BOUTES 11100 NARBONNE</td>\n",
       "      <td>11262_B213</td>\n",
       "    </tr>\n",
       "    <tr>\n",
       "      <th>4</th>\n",
       "      <td>5d903c34-619d-4125-8601-c48c4f26a9fa</td>\n",
       "      <td>Owner</td>\n",
       "      <td>121</td>\n",
       "      <td>Avenue de l'Espagne</td>\n",
       "      <td>13110.0</td>\n",
       "      <td>Port-de-Bouc</td>\n",
       "      <td>43.422393</td>\n",
       "      <td>5.003375</td>\n",
       "      <td>0.431606</td>\n",
       "      <td>2024-10-15T13:59:17.326149</td>\n",
       "      <td>121 CH DU CLAPAS LOT ESCAILLON LE VILLAGE 1311...</td>\n",
       "      <td>13077_0182_00121</td>\n",
       "    </tr>\n",
       "  </tbody>\n",
       "</table>\n",
       "</div>"
      ],
      "text/plain": [
       "                                 ref_id address_kind house_number  \\\n",
       "0  22eb37a6-c4dc-48f4-b846-8e50b90b88c6        Owner           18   \n",
       "1  d951b669-7727-4243-b60e-cea488b9d6ac        Owner            9   \n",
       "2  df7ac216-1ecf-48bb-b6d9-d1cbeb25ff88        Owner          NaN   \n",
       "3  1f540d4e-ede3-4d21-b883-ea7c4f148fd3        Owner          NaN   \n",
       "4  5d903c34-619d-4125-8601-c48c4f26a9fa        Owner          121   \n",
       "\n",
       "                street  postal_code                city   latitude  longitude  \\\n",
       "0   Avenue des Albères      66170.0              Millas  42.686897   2.691008   \n",
       "1           Rue Boilly      31300.0            Toulouse  43.602254   1.423946   \n",
       "2    chemin de l'Enfer      63800.0  Cournon-d'Auvergne  45.723468   3.176418   \n",
       "3                  NaN      11100.0            Narbonne  43.208169   3.004420   \n",
       "4  Avenue de l'Espagne      13110.0        Port-de-Bouc  43.422393   5.003375   \n",
       "\n",
       "      score             last_updated_at  \\\n",
       "0  0.798896  2024-10-15T13:59:17.326149   \n",
       "1  0.724134  2024-10-15T13:59:17.326149   \n",
       "2  0.580380  2024-10-15T13:59:17.326149   \n",
       "3  0.956976  2024-10-15T13:59:17.326149   \n",
       "4  0.431606  2024-10-15T13:59:17.326149   \n",
       "\n",
       "                                             address            ban_id  \n",
       "0                    18 AV DES ALBERES, 66170 MILLAS  66108_0002_00018  \n",
       "1              APPT 1 0009 RUE BOILLY 31300 TOULOUSE  31555_1232_00009  \n",
       "2  DOMAINE DE L ENFER 0000 CHE DE L'ENFER 63800 C...        63124_0373  \n",
       "3             DOMAINE DE PETIT BOUTES 11100 NARBONNE        11262_B213  \n",
       "4  121 CH DU CLAPAS LOT ESCAILLON LE VILLAGE 1311...  13077_0182_00121  "
      ]
     },
     "execution_count": 5,
     "metadata": {},
     "output_type": "execute_result"
    }
   ],
   "source": [
    "df_to_store.head()"
   ]
  },
  {
   "cell_type": "code",
   "execution_count": null,
   "metadata": {},
   "outputs": [],
   "source": []
  }
 ],
 "metadata": {
  "kernelspec": {
   "display_name": "py310",
   "language": "python",
   "name": "python3"
  },
  "language_info": {
   "codemirror_mode": {
    "name": "ipython",
    "version": 3
   },
   "file_extension": ".py",
   "mimetype": "text/x-python",
   "name": "python",
   "nbconvert_exporter": "python",
   "pygments_lexer": "ipython3",
   "version": "3.10.9"
  }
 },
 "nbformat": 4,
 "nbformat_minor": 2
}
