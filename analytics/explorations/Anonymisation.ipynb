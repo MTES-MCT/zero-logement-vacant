{
 "cells": [
  {
   "cell_type": "code",
   "execution_count": 1,
   "id": "e0ad6749-765e-4057-9daf-495a3d241853",
   "metadata": {},
   "outputs": [
    {
     "data": {
      "application/vnd.jupyter.widget-view+json": {
       "model_id": "2b1f1fc8326a4b1ba952f7203aa5a874",
       "version_major": 2,
       "version_minor": 0
      },
      "text/plain": [
       "model.safetensors:   0%|          | 0.00/440M [00:00<?, ?B/s]"
      ]
     },
     "metadata": {},
     "output_type": "display_data"
    },
    {
     "name": "stderr",
     "output_type": "stream",
     "text": [
      "Device set to use mps:0\n"
     ]
    }
   ],
   "source": [
    "from transformers import AutoTokenizer, AutoModelForTokenClassification\n",
    "from transformers import pipeline\n",
    "tokenizer = AutoTokenizer.from_pretrained(\"Jean-Baptiste/camembert-ner\")\n",
    "model = AutoModelForTokenClassification.from_pretrained(\"Jean-Baptiste/camembert-ner\")\n",
    "\n",
    "nlp = pipeline('ner', model=model, tokenizer=tokenizer, aggregation_strategy=\"simple\")"
   ]
  },
  {
   "cell_type": "code",
   "execution_count": 27,
   "id": "92a698fc-a98f-4e9a-867e-757ce0534aed",
   "metadata": {},
   "outputs": [],
   "source": [
    "path = '/Users/raphaelcourivaud/dev/zlv/export.tsv'"
   ]
  },
  {
   "cell_type": "code",
   "execution_count": 32,
   "id": "a1bfb6e2-4cf5-44f5-8429-e212d8398ada",
   "metadata": {},
   "outputs": [],
   "source": [
    "import pandas as pd\n",
    "import re\n",
    "from tqdm import tqdm\n",
    "tqdm.pandas()"
   ]
  },
  {
   "cell_type": "code",
   "execution_count": 33,
   "id": "3442b433-7627-4925-8588-723cdeab96ff",
   "metadata": {},
   "outputs": [],
   "source": [
    "df = pd.read_csv(path, sep='\\t')"
   ]
  },
  {
   "cell_type": "code",
   "execution_count": 38,
   "id": "996acd3a-0303-4b40-80fa-7acfd1d3e5df",
   "metadata": {},
   "outputs": [],
   "source": [
    "def _predict_and_replace(x: str):\n",
    "    results = nlp(x)\n",
    "    anonymized_text = x\n",
    "    for span in reversed(results):\n",
    "        end_at = span[\"end\"]\n",
    "        start_at = span[\"start\"]\n",
    "        tag = span[\"entity_group\"]\n",
    "        if tag == 'PER':\n",
    "            replacement = \"<NOM>\" # fake.name()\n",
    "        elif tag == 'LOC':\n",
    "            replacement = \"<VILLE>\" # fake.city()\n",
    "        elif tag == 'ORG':\n",
    "            replacement = \"<ENTREPRISE>\" # fake.city()\n",
    "        else:\n",
    "            continue\n",
    "        anonymized_text = anonymized_text[:start_at] +\" \" +  replacement + \" \" + anonymized_text[end_at:]\n",
    "            \n",
    "    return anonymized_text.strip().replace(\"  \", \" \")"
   ]
  },
  {
   "cell_type": "code",
   "execution_count": 39,
   "id": "e8edaa09-a000-4ade-8ec4-ef3fd528f39e",
   "metadata": {},
   "outputs": [],
   "source": [
    "def _clean_phone_and_email(x: str):\n",
    "    phone_regex = r\"(?:(?:(?:\\+|00)33[ ]?(?:\\(0\\)[ ]?)?)|0){1}[1-9]{1}([ .-]?)(?:\\d{2}\\1?){3}\\d{2}\"\n",
    "    email_regex = r\"[\\w\\.]+@([\\w-]+\\.)+[\\w-]{2,4}\"\n",
    "    \n",
    "    result = re.sub(phone_regex, '<TELEPHONE>', x)\n",
    "    result = re.sub(email_regex, '<EMAIL>', result)\n",
    "    return result\n"
   ]
  },
  {
   "cell_type": "code",
   "execution_count": 42,
   "id": "f1ce311f-7fcc-4b7b-9e75-4f326541de1a",
   "metadata": {},
   "outputs": [
    {
     "data": {
      "text/plain": [
       "'test <TELEPHONE> <EMAIL>'"
      ]
     },
     "execution_count": 42,
     "metadata": {},
     "output_type": "execute_result"
    }
   ],
   "source": [
    "def process(x: str):\n",
    "    x = _clean_phone_and_email(x)\n",
    "    x = _predict_and_replace(x)\n",
    "    return x\n",
    "\n",
    "process(\"test 0615408741 r.courivaud@gmail.com\")"
   ]
  },
  {
   "cell_type": "code",
   "execution_count": 43,
   "id": "a257ed4c-5327-477b-ae70-f3e86f03ab4f",
   "metadata": {},
   "outputs": [
    {
     "name": "stderr",
     "output_type": "stream",
     "text": [
      "100%|████████████████████████████████████████████████████████████████████████████████████████████████████████████████████| 50000/50000 [13:56<00:00, 59.80it/s]\n"
     ]
    }
   ],
   "source": [
    "df[\"anonymized_text\"] = df[\"Notes__content\"].progress_apply(lambda x: process(x))"
   ]
  },
  {
   "cell_type": "code",
   "execution_count": 45,
   "id": "e3be8900-237a-4abe-b91c-84ee0d46f390",
   "metadata": {},
   "outputs": [],
   "source": [
    "df.to_clipboard(sep=\"\\t\")"
   ]
  },
  {
   "cell_type": "code",
   "execution_count": 59,
   "id": "8cb30f29-cadd-45eb-aa64-7e8c3dc29d41",
   "metadata": {},
   "outputs": [],
   "source": [
    "df_filtered = df[~((df[\"Notes__content\"].str.startswith(\"Changement de statut\")) & (df[\"Notes__content\"].str.len() < 200))]\n",
    "df_filtered = df_filtered[~((df_filtered[\"Notes__content\"].str.startswith(\"Ajout dans une campagne\")) & (df_filtered[\"Notes__content\"].str.len() < 200))]\n",
    "df_filtered = df_filtered[~((df_filtered[\"Notes__content\"].str.startswith(\"Changement de propriétaire\")) & (df_filtered[\"Notes__content\"].str.len() < 200))]\n",
    "\n"
   ]
  },
  {
   "cell_type": "code",
   "execution_count": 62,
   "id": "c336e60e-a16c-4dc1-ac92-dc6a97f49820",
   "metadata": {},
   "outputs": [],
   "source": [
    "df_filtered.to_clipboard(sep=\"\\t\")"
   ]
  },
  {
   "cell_type": "code",
   "execution_count": 81,
   "id": "6986f620-68e8-4193-a057-3576798ebb19",
   "metadata": {},
   "outputs": [],
   "source": [
    "df_filtered[\"anonymized_text\"].sample(frac=1).to_clipboard(sep=\"\\n\", index=False)"
   ]
  },
  {
   "cell_type": "code",
   "execution_count": null,
   "id": "1877ef99-9bb6-4273-9edd-708c98708b22",
   "metadata": {},
   "outputs": [],
   "source": []
  }
 ],
 "metadata": {
  "kernelspec": {
   "display_name": "Python 3 (ipykernel)",
   "language": "python",
   "name": "python3"
  },
  "language_info": {
   "codemirror_mode": {
    "name": "ipython",
    "version": 3
   },
   "file_extension": ".py",
   "mimetype": "text/x-python",
   "name": "python",
   "nbconvert_exporter": "python",
   "pygments_lexer": "ipython3",
   "version": "3.11.11"
  }
 },
 "nbformat": 4,
 "nbformat_minor": 5
}
