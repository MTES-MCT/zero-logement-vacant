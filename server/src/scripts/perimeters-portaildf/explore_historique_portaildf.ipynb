{
 "cells": [
  {
   "cell_type": "code",
   "execution_count": null,
   "id": "9e1033d4",
   "metadata": {},
   "outputs": [
    {
     "name": "stdout",
     "output_type": "stream",
     "text": [
      "Codes INSEE disparus :\n",
      "['08294' '16355' '18131' ... '79037' '79305' '80370']\n"
     ]
    }
   ],
   "source": [
    "import pandas as pd\n",
    "\n",
    "# Charger le fichier CSV\n",
    "df = pd.read_csv('old_geocodes.csv', sep=';', dtype=str)\n",
    "\n",
    "# Nettoyage : enlever les lignes vides ou les espaces\n",
    "df['old_insee'] = df['old_insee'].str.strip()\n",
    "df['new_insee'] = df['new_insee'].str.strip()\n",
    "\n",
    "# Codes ayant disparu : ceux qui n'ont pas de new_insee ou qui ne figurent plus parmi les nouveaux\n",
    "disparus = df[df['new_insee'].isna() | ~df['old_insee'].isin(df['new_insee'])]\n",
    "\n",
    "# Afficher les codes disparus\n",
    "print(\"Codes INSEE disparus :\")\n",
    "print(disparus['old_insee'].dropna().unique())\n",
    "\n",
    "# Optionnel : sauvegarder en CSV\n",
    "disparus[['old_insee']].dropna().drop_duplicates().to_csv('codes_disparus.csv', index=False)\n"
   ]
  }
 ],
 "metadata": {
  "kernelspec": {
   "display_name": "base",
   "language": "python",
   "name": "python3"
  },
  "language_info": {
   "codemirror_mode": {
    "name": "ipython",
    "version": 3
   },
   "file_extension": ".py",
   "mimetype": "text/x-python",
   "name": "python",
   "nbconvert_exporter": "python",
   "pygments_lexer": "ipython3",
   "version": "3.12.7"
  }
 },
 "nbformat": 4,
 "nbformat_minor": 5
}
